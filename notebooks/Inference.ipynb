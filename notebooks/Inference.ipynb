{
 "cells": [
  {
   "cell_type": "markdown",
   "metadata": {},
   "source": [
    "**About** : This notebook is used to infer models."
   ]
  },
  {
   "cell_type": "code",
   "execution_count": null,
   "metadata": {},
   "outputs": [],
   "source": [
    "# %load_ext nb_black\n",
    "%load_ext autoreload\n",
    "%autoreload 2"
   ]
  },
  {
   "cell_type": "code",
   "execution_count": null,
   "metadata": {},
   "outputs": [],
   "source": [
    "cd ../src/"
   ]
  },
  {
   "cell_type": "markdown",
   "metadata": {},
   "source": [
    "## Initialization"
   ]
  },
  {
   "cell_type": "markdown",
   "metadata": {},
   "source": [
    "### Imports"
   ]
  },
  {
   "cell_type": "code",
   "execution_count": null,
   "metadata": {},
   "outputs": [],
   "source": [
    "import os\n",
    "import torch\n",
    "\n",
    "print(torch.__version__)\n",
    "os.environ['CUDA_VISIBLE_DEVICES'] = \"1\"\n",
    "torch.cuda.get_device_name(0)"
   ]
  },
  {
   "cell_type": "code",
   "execution_count": null,
   "metadata": {},
   "outputs": [],
   "source": [
    "import os\n",
    "import re\n",
    "import cv2\n",
    "import sys\n",
    "import glob\n",
    "import json\n",
    "import torch\n",
    "import warnings\n",
    "import numpy as np\n",
    "import pandas as pd\n",
    "import seaborn as sns\n",
    "import matplotlib.pyplot as plt\n",
    "\n",
    "from tqdm import tqdm\n",
    "from sklearn.metrics import *\n",
    "\n",
    "warnings.simplefilter(action=\"ignore\", category=FutureWarning)\n",
    "warnings.simplefilter(action=\"ignore\", category=UserWarning)"
   ]
  },
  {
   "cell_type": "code",
   "execution_count": null,
   "metadata": {},
   "outputs": [],
   "source": [
    "from utils.logger import Config, upload_to_kaggle\n",
    "\n",
    "from params import *\n",
    "from data.dataset import BreastDataset\n",
    "from data.preparation import *\n",
    "from data.transforms import get_transfos\n",
    "\n",
    "from model_zoo.models import define_model\n",
    "from utils.metrics import *\n",
    "from utils.torch import load_model_weights\n",
    "from utils.plots import plot_confusion_matrix\n",
    "\n",
    "from inference.predict import predict, predict_tta\n",
    "from inference.main import *"
   ]
  },
  {
   "cell_type": "markdown",
   "metadata": {},
   "source": [
    "### Upload"
   ]
  },
  {
   "cell_type": "code",
   "execution_count": null,
   "metadata": {},
   "outputs": [],
   "source": [
    "# TO_UPLOAD = [\n",
    "# #     \"../logs/2023-02-12/1/\",   # nfl2 - 1536x1024  LR=3e-4  5ep CBIS CMMD PASM pl1  0.5030  -  th=0.23  -  auc 0.9043\n",
    "# #     \"../logs/2023-02-12/2/\",   # v2-m - 1536x1024  LR=3e-4  5ep CBIS CMMD PASM pl1  0.5099  -  th=0.31  -  auc 0.9115\n",
    "# #     \"../logs/2023-02-10/6/\",   # v2-s - 1536x1024  LR=4e-4  5ep gem CBIS            0.4771  -  th=0.27  -  auc 0.9190\n",
    "# #     \"../logs/2023-02-10/16/\",  # v2-m - 1536x1024  LR=3e-4  5ep bs6 CBIS CMMD PASM  0.4988  -  th=0.32  -  auc 0.9163\n",
    "# #     \"../logs/2023-02-11/1/\",   # nfl2 - 1536x1024  LR=4e-4  5ep bs8 CBIS            0.4881  -  th=0.21  -  auc 0.8994\n",
    "# #     \"../logs/2023-02-11/3/\",   # nfl2 - 1536x1024  LR=3e-4  5ep bs8 CBIS CMMD PASM  0.4837  -  th=0.25  -  auc 0.9106\n",
    "# #     \"../logs/2023-02-19/2/\",   # nfl2 - 1536x1024  LR=3e-4  5ep aux0 CBIS CMMD PASM    0.5066  -  th=0.23  -  auc 0.9038\n",
    "# #     \"../logs/2023-02-13/15/\",   # nfl1 - 1536x1024  LR=3e-4  4ep CBIS CMMD PASM pl1 0.4906  -  th=0.22  -  auc 0.9112\n",
    "#     \"../logs/2023-02-12/2/\",   # v2-m - 1536x1024  LR=3e-4  5ep CBIS CMMD PASM pl1  0.5099  -  th=0.31  -  auc 0.9115\n",
    "# ]\n",
    "\n",
    "# upload_to_kaggle(TO_UPLOAD, \"/workspace/datasets/rsna_weights_4/\", \"RSNA Breast Weights 4\", update_folders=True)"
   ]
  },
  {
   "cell_type": "markdown",
   "metadata": {},
   "source": [
    "## Expes"
   ]
  },
  {
   "cell_type": "code",
   "execution_count": null,
   "metadata": {},
   "outputs": [],
   "source": [
    "EXP_FOLDER = \"../logs/2023-02-09/4/\"   # nfl1 - 1536x1024  LR=3e-4  5ep     CBIS            0.4639  -  th=0.24  -  auc 0.9141\n",
    "EXP_FOLDER = \"../logs/2023-02-09/11/\"  # nfl1 - 1536x1024  LR=3e-4  5ep     CBIS CMMD       0.4651  -  th=0.27  -  auc 0.9131\n",
    "EXP_FOLDER = \"../logs/2023-02-09/13/\"  # nfl1 - 1536x1024  LR=3e-4  5ep gem CBIS            0.4734  -  th=0.23  -  auc 0.9141\n",
    "EXP_FOLDER = \"../logs/2023-02-09/14/\"  # nfl1 - 1536x1024  LR=3e-4  5ep gem CBIS CMMD       0.4588  -  th=0.19  -  auc 0.9112\n",
    "EXP_FOLDER = \"../logs/2023-02-10/0/\"   # nfl1 - 1536x1024  LR=2e-4  5ep gem CBIS CMMD       0.4663  -  th=0.20  -  auc 0.9108\n",
    "EXP_FOLDER = \"../logs/2023-02-10/1/\"   # nfl1 - 1536x1024  LR=3e-4  6ep gem CBIS            0.4756  -  th=0.20  -  auc 0.9127    <- nfl1\n",
    "EXP_FOLDER = \"../logs/2023-02-10/2/\"   # nfl1 - 1536x1024  LR=4e-4  5ep gem CBIS CMMD       0.4703  -  th=0.19  -  auc 0.9125\n",
    "EXP_FOLDER = \"../logs/2023-02-10/3/\"   # nfl1 - 1536x1024  LR=4e-4  5ep gem CBIS            0.4686  -  th=0.28  -  auc 0.9156\n",
    "EXP_FOLDER = \"../logs/2023-02-10/4/\"   # nfl1 - 1536x1024  LR=3e-4  5ep gem CBIS CMMD s     0.4686  -  th=0.19  -  auc 0.9122\n",
    "EXP_FOLDER = \"../logs/2023-02-10/5/\"   # v2-s - 1536x1024  LR=3e-4  5ep gem CBIS            0.4701  -  th=0.24  -  auc 0.9182\n",
    "EXP_FOLDER = \"../logs/2023-02-10/6/\"   # v2-s - 1536x1024  LR=4e-4  5ep gem CBIS            0.4771  -  th=0.27  -  auc 0.9190    <- v2-s   0.4837  -  th=0.20  -  auc 0.9186\n",
    "\n",
    "\n",
    "EXP_FOLDER = \"../logs/2023-02-10/9/\"   # nfl1 - 1536x1024  LR=3e-4  5ep bs8 CBIS PASM       0.4783  -  th=0.24  -  auc 0.9089\n",
    "EXP_FOLDER = \"../logs/2023-02-10/10/\"  # v2-s - 1536x1024  LR=4e-4  5ep bs8 CBIS CMMD PASM  0.4487  -  th=0.19  -  auc 0.9125\n",
    "EXP_FOLDER = \"../logs/2023-02-10/12/\"  # nfl2 - 1536x1024  LR=3e-4  5ep bs8 CBIS            0.4759  -  th=0.21  -  auc 0.9007\n",
    "EXP_FOLDER = \"../logs/2023-02-10/13/\"  # v2-m - 1536x1024  LR=3e-4  5ep bs6 CBIS            0.4705  -  th=0.24  -  auc 0.9101\n",
    "EXP_FOLDER = \"../logs/2023-02-10/16/\"  # v2-m - 1536x1024  LR=3e-4  5ep bs6 CBIS CMMD PASM  0.4858  -  th=0.23  -  auc 0.9152    <- v2-m   0.4988  -  th=0.32  -  auc 0.9163\n",
    "EXP_FOLDER = \"../logs/2023-02-11/0/\"   # v2-m - 1536x1024  LR=4e-4  5ep bs6 CBIS            0.4702  -  th=0.22  -  auc 0.9149\n",
    "EXP_FOLDER = \"../logs/2023-02-11/1/\"   # nfl2 - 1536x1024  LR=4e-4  5ep bs8 CBIS            0.4881  -  th=0.21  -  auc 0.8994    <- nfl2\n",
    "EXP_FOLDER = \"../logs/2023-02-11/3/\"   # nfl2 - 1536x1024  LR=3e-4  5ep bs8 CBIS CMMD PASM  0.4837  -  th=0.25  -  auc 0.9106    <- nfl2\n",
    "\n",
    "EXP_FOLDER = \"../logs/2023-02-11/4/\"   # nfl2 - 1536x1024  LR=4e-4  5ep CBIS CMMD PASM      0.4919  -  th=0.16  -  auc 0.9093\n",
    "# EXP_FOLDER = \"../logs/2023-02-11/8/\"   # nfl2 - 1536x1024  LR=3e-4 10ep CBIS CMMD PASM      0.4800  -  th=0.26  -  auc 0.8789\n",
    "\n",
    "# EXP_FOLDER = \"../logs/2023-02-12/1/\"   # nfl2 - 1536x1024  LR=3e-4  5ep CBIS CMMD PASM pl1  0.5030  -  th=0.23  -  auc 0.9043\n",
    "# EXP_FOLDER = \"../logs/2023-02-12/2/\"   # v2-m - 1536x1024  LR=3e-4  5ep CBIS CMMD PASM pl1  0.5099  -  th=0.31  -  auc 0.9115     <- v2-m         CV pf1 : 0.4946  -  th=0.31  -  auc 0.9140\n",
    "# EXP_FOLDER = \"../logs/2023-02-13/0/\"   # v2-s - 1536x1024  LR=4e-4  5ep CBIS CMMD PASM pl1  0.4714  -  th=0.33  -  auc 0.9116\n",
    "# EXP_FOLDER = \"../logs/2023-02-13/0/\"   # v2-s - 1536x1024  LR=4e-4  5ep CBIS CMMD PASM pl1  0.4714  -  th=0.33  -  auc 0.9116\n",
    "# EXP_FOLDER = \"../logs/2023-02-13/15/\"   # nfl1 - 1536x1024  LR=3e-4  4ep CBIS CMMD PASM pl1 0.4906  -  th=0.22  -  auc 0.9112\n",
    "# EXP_FOLDER = \"../logs/2023-02-13/16/\"   # nfl2 - 1536x1024  LR=3e-4  5ep CBIS CMMD PASM pl1 0.5057  -  th=0.21  -  auc 0.9125\n",
    "\n",
    "\n",
    "EXP_FOLDER = \"../logs/2023-02-14/3/\"   # nfl1 - 1536x1024  LR=3e-4 5ep CBIS CMMD PASM         0.4780  -  th=0.20  -  auc 0.9164\n",
    "EXP_FOLDER = \"../logs/2023-02-14/4/\"   # v2-m - 1536x1024  LR=3e-4 5ep CBIS                   0.4690  -  th=0.29  -  auc 0.9090\n",
    "EXP_FOLDER = \"../logs/2023-02-14/5/\"   # nfl2 - 1536x1024  LR=3e-4 10ep CBIS                  0.4706  -  th=0.23  -  auc 0.8664\n",
    "EXP_FOLDER = \"../logs/2023-02-15/5/\"   # v2-l - 1536x1024  LR=3e-4 5ep CBIS CMMD PASM         0.4717  -  th=0.31  -  auc 0.9117\n",
    "\n",
    "\n",
    "EXP_FOLDER = \"../logs/2023-02-16/5/\"  # nfl2 - 1536x1024  LR=4e-4  drop.2 bs8 CBIS  CMMD PASM 0.4948  -  th=0.22  -  auc 0.9091\n",
    "EXP_FOLDER = \"../logs/2023-02-17/0/\"  # v2-m - 1536x1024  LR=3e-4  drop.2 bs6 CBIS CMMD PASM  0.4851  -  th=0.30  -  auc 0.9161\n",
    "\n",
    "EXP_FOLDER = \"../logs/2023-02-19/2/\"  # nfl2 - 1536x1024  LR=3e-4  5ep aux0 CBIS CMMD PASM    0.5066  -  th=0.23  -  auc 0.9038"
   ]
  },
  {
   "cell_type": "markdown",
   "metadata": {},
   "source": [
    "### Blends"
   ]
  },
  {
   "cell_type": "code",
   "execution_count": null,
   "metadata": {},
   "outputs": [],
   "source": [
    "EXP_FOLDERS = [  # 1536x1024   0.5440  -  th=0.21  -  auc 0.9332  -  pct=98.485      RERUN -> TensorRT friendly\n",
    "    \"../logs/2023-02-10/6/\",   # v2-s - 1536x1024  LR=4e-4  5ep gem CBIS              0.4837  -  th=0.20  -  auc 0.9186\n",
    "    \"../logs/2023-02-10/16/\",  # v2-m - 1536x1024  LR=3e-4  5ep bs6 CBIS CMMD PASM    0.4988  -  th=0.32  -  auc 0.9163\n",
    "    \"../logs/2023-02-11/1/\",   # nfl2 - 1536x1024  LR=4e-4  5ep bs8 CBIS              0.4881  -  th=0.21  -  auc 0.8994\n",
    "    \"../logs/2023-02-11/3/\",   # nfl2 - 1536x1024  LR=3e-4  5ep bs8 CBIS CMMD PASM    0.4837  -  th=0.25  -  auc 0.9106\n",
    "]"
   ]
  },
  {
   "cell_type": "markdown",
   "metadata": {},
   "source": [
    "## Results"
   ]
  },
  {
   "cell_type": "code",
   "execution_count": null,
   "metadata": {},
   "outputs": [],
   "source": [
    "config = Config(json.load(open(EXP_FOLDER + \"config.json\", \"r\")))"
   ]
  },
  {
   "cell_type": "code",
   "execution_count": null,
   "metadata": {},
   "outputs": [],
   "source": [
    "df = prepare_data(DATA_PATH, config.img_folder)\n",
    "df = df.fillna(-1)"
   ]
  },
  {
   "cell_type": "code",
   "execution_count": null,
   "metadata": {},
   "outputs": [],
   "source": [
    "if \"fold\" not in df.columns:\n",
    "    folds = pd.read_csv(config.folds_file)\n",
    "    df = df.merge(folds, how=\"left\", on=[\"patient_id\", \"image_id\"])"
   ]
  },
  {
   "cell_type": "code",
   "execution_count": null,
   "metadata": {},
   "outputs": [],
   "source": [
    "df['pred'] = -1\n",
    "\n",
    "for i in range(4):\n",
    "    val_idx = list(df[df['fold'] == i].index)\n",
    "    df_val = df.iloc[val_idx].copy().reset_index(drop=True)\n",
    "    \n",
    "    if i not in []:\n",
    "        try:\n",
    "            file = EXP_FOLDER + f'pred_val_{i}.npy'\n",
    "            if os.path.exists(EXP_FOLDER + f'pred_val_inf_{i}.npy'):\n",
    "                file = EXP_FOLDER + f'pred_val_inf_{i}.npy'\n",
    "            pred_val = np.load(file)\n",
    "            \n",
    "            pred_val = []\n",
    "            for exp_folder in EXP_FOLDERS:\n",
    "                file = exp_folder + f'pred_val_{i}.npy'\n",
    "                if os.path.exists(exp_folder + f'pred_val_inf_{i}.npy'):\n",
    "                    file = exp_folder + f'pred_val_inf_{i}.npy'\n",
    "                pred_val.append(np.load(file))\n",
    "            pred_val = np.average(pred_val, 0)\n",
    "\n",
    "            df_val[\"pred\"] = pred_val\n",
    "            df.loc[val_idx, \"pred\"] = pred_val\n",
    "        \n",
    "            df_group = df_val.groupby([\"site_id\", 'machine_id', 'patient_id', 'laterality']).mean().reset_index()\n",
    "            th, scores, score = tweak_thresholds(\n",
    "                df_group[\"cancer\"].values,\n",
    "                df_group[\"pred\"].values\n",
    "            )\n",
    "            print(f\"Fold {i} score : {score:.4f}  -  th={th:.2f}\")\n",
    "#             break\n",
    "\n",
    "        except FileNotFoundError:\n",
    "            print(f'Fold {i} not found')\n",
    "    \n",
    "df = df[df['pred'] > -1].reset_index(drop=True)"
   ]
  },
  {
   "cell_type": "code",
   "execution_count": null,
   "metadata": {},
   "outputs": [],
   "source": [
    "# df_group = df[[\"site_id\", 'machine_id', 'patient_id', 'laterality', 'pred', 'cancer', 'BIRADS', 'invasive']].groupby([\"site_id\", 'machine_id', 'patient_id', 'laterality']).max().reset_index()\n",
    "df_group = df.groupby([\"site_id\", 'machine_id', 'patient_id', 'laterality']).mean().reset_index()"
   ]
  },
  {
   "cell_type": "code",
   "execution_count": null,
   "metadata": {},
   "outputs": [],
   "source": [
    "th, scores, score = tweak_thresholds(\n",
    "    df_group[\"cancer\"].values,\n",
    "    df_group[\"pred\"].values\n",
    ")"
   ]
  },
  {
   "cell_type": "code",
   "execution_count": null,
   "metadata": {},
   "outputs": [],
   "source": [
    "pred_pp = (df_group['pred'].values > th).astype(int)\n",
    "df_group['pred_pp'] = pred_pp\n",
    "\n",
    "score = pfbeta(df_group[\"cancer\"].values, pred_pp)\n",
    "auc = roc_auc_score(df_group[\"cancer\"].values, df_group[\"pred\"].values)\n",
    "\n",
    "print(f\"-> CV pf1 : {score:.4f}  -  th={th:.2f}  -  auc {auc:.4f}\")"
   ]
  },
  {
   "cell_type": "code",
   "execution_count": null,
   "metadata": {},
   "outputs": [],
   "source": [
    "from scipy.stats import percentileofscore, scoreatpercentile\n",
    "\n",
    "pct = percentileofscore(df_group[\"pred\"].values, th, kind='mean')\n",
    "pct = np.round(pct, 3)\n",
    "th_pct = scoreatpercentile(df_group[\"pred\"].values, pct)\n",
    "\n",
    "score = pfbeta(df_group[\"cancer\"].values, (df_group['pred'].values > th_pct).astype(int))\n",
    "print(f\"-> CV pf1 : {score:.4f}  -  th={th_pct:.2f}  -  auc {auc:.4f}  -  pct={pct}\")"
   ]
  },
  {
   "cell_type": "code",
   "execution_count": null,
   "metadata": {},
   "outputs": [],
   "source": [
    "plt.axvline(th, c=\"salmon\")\n",
    "plt.plot(np.round(np.arange(0, 1, 0.01), 2), scores)\n",
    "plt.text(th, score + 0.001, s=f' pf1={score :.4f}', c='salmon', size=9)\n",
    "plt.xlim(th - 0.2, th + 0.2)\n",
    "plt.ylim(score - 0.07, score + 0.01)\n",
    "plt.grid()\n",
    "plt.show()"
   ]
  },
  {
   "cell_type": "markdown",
   "metadata": {},
   "source": [
    "### Errors"
   ]
  },
  {
   "cell_type": "code",
   "execution_count": null,
   "metadata": {},
   "outputs": [],
   "source": [
    "fns = df[df['cancer'] == 1].sort_values('pred')\n",
    "fps = df[df['cancer'] == 0].sort_values('pred', ascending=False)\n",
    "\n",
    "n = 5\n",
    "df_error = pd.concat([fps.head(n), fns.head(n)]).reset_index(drop=True)"
   ]
  },
  {
   "cell_type": "code",
   "execution_count": null,
   "metadata": {},
   "outputs": [],
   "source": [
    "transforms = get_transfos(augment=False)\n",
    "dataset = BreastDataset(df_error, transforms=transforms)"
   ]
  },
  {
   "cell_type": "code",
   "execution_count": null,
   "metadata": {},
   "outputs": [],
   "source": [
    "for idx in range(len(dataset)):\n",
    "    img, y, w = dataset[idx]\n",
    "    plt.figure(figsize=(5, 5))\n",
    "    plt.imshow(img.mean(0), cmap=\"gray\")\n",
    "    plt.axis(False)\n",
    "    plt.title(f\"{df_error['patient_id'][idx]} {df_error['image_id'][idx]} - y={int(y)} - pred={df_error['pred'][idx] :.5f}\")\n",
    "    plt.show()"
   ]
  },
  {
   "cell_type": "markdown",
   "metadata": {},
   "source": [
    "### Inference"
   ]
  },
  {
   "cell_type": "code",
   "execution_count": null,
   "metadata": {},
   "outputs": [],
   "source": [
    "EXP_FOLDER = \"../logs/2023-02-10/2/\"   # nfl1 - 1536x1024  LR=4e-4  5ep gem CBIS CMMD       0.4703  -  th=0.19  -  auc 0.9125\n",
    "EXP_FOLDER = \"../logs/2023-02-10/6/\"   # v2-s - 1536x1024  LR=4e-4  5ep gem CBIS            0.4771  -  th=0.27  -  auc 0.9190\n",
    "\n",
    "# EXP_FOLDER = \"../logs/2023-02-10/16/\"  # v2-m - 1536x1024  LR=3e-4  5ep bs6 CBIS CMMD PASM  0.4858  -  th=0.23  -  auc 0.9152\n",
    "# EXP_FOLDER = \"../logs/2023-02-12/2/\"   # v2-m - 1536x1024  LR=3e-4  5ep CBIS CMMD PASM pl1  0.5099  -  th=0.31  -  auc 0.9115\n",
    "# EXP_FOLDER = \"../logs/2023-02-12/1/\"   # nfl2 - 1536x1024  LR=3e-4  5ep CBIS CMMD PASM pl1  0.5030  -  th=0.23  -  auc 0.9043\n",
    "\n",
    "EXP_FOLDER = \"../logs/2023-02-15/5/\"   # v2-l - 1536x1024  LR=3e-4 5ep CBIS CMMD PASM       0.4706  -  th=0.23  -  auc 0.8664\n",
    "\n",
    "# 1536x1024   0.5440  -  th=0.21  -  auc 0.9332  -  pct=98.485      RERUN -> TensorRT friendly\n",
    "# EXP_FOLDER = \"../logs/2023-02-10/6/\"   # v2-s - 1536x1024  LR=4e-4  5ep gem CBIS            0.4837  -  th=0.20  -  auc 0.9186\n",
    "# EXP_FOLDER = \"../logs/2023-02-10/16/\"  # v2-m - 1536x1024  LR=3e-4  5ep bs6 CBIS CMMD PASM  0.4988  -  th=0.32  -  auc 0.9163\n",
    "# EXP_FOLDER = \"../logs/2023-02-11/1/\"   # nfl2 - 1536x1024  LR=4e-4  5ep bs8 CBIS            0.4881  -  th=0.21  -  auc 0.8994\n",
    "# EXP_FOLDER = \"../logs/2023-02-11/3/\"   # nfl2 - 1536x1024  LR=3e-4  5ep bs8 CBIS CMMD PASM  0.4837  -  th=0.25  -  auc 0.9106\n",
    "EXP_FOLDER = \"../logs/2023-02-22/1/\""
   ]
  },
  {
   "cell_type": "code",
   "execution_count": null,
   "metadata": {},
   "outputs": [],
   "source": [
    "DEBUG = False\n",
    "SAVE = True\n",
    "USE_TTA = False\n",
    "USE_FP16 = True\n",
    "USE_TENSOR_RT = False\n",
    "EXTRACT_FTS = False"
   ]
  },
  {
   "cell_type": "code",
   "execution_count": null,
   "metadata": {},
   "outputs": [],
   "source": [
    "config = Config(json.load(open(EXP_FOLDER + \"config.json\", \"r\")))"
   ]
  },
  {
   "cell_type": "code",
   "execution_count": null,
   "metadata": {},
   "outputs": [],
   "source": [
    "df = prepare_data(DATA_PATH, config.img_folder)"
   ]
  },
  {
   "cell_type": "code",
   "execution_count": null,
   "metadata": {},
   "outputs": [],
   "source": [
    "if \"fold\" not in df.columns:\n",
    "    folds = pd.read_csv(config.folds_file)\n",
    "    df = df.merge(folds, how=\"left\", on=[\"patient_id\", \"image_id\"])"
   ]
  },
  {
   "cell_type": "code",
   "execution_count": null,
   "metadata": {},
   "outputs": [],
   "source": [
    "%%time\n",
    "pred_oof, pred_oof_aux = kfold_inference_val(\n",
    "    df,\n",
    "    EXP_FOLDER,\n",
    "    config=config,\n",
    "    debug=DEBUG,\n",
    "    save=SAVE,\n",
    "    use_tta=USE_TTA,\n",
    "    use_fp16=USE_FP16,\n",
    "    use_tensor_rt=USE_TENSOR_RT,\n",
    "    extract_fts=EXTRACT_FTS,\n",
    ")"
   ]
  },
  {
   "cell_type": "markdown",
   "metadata": {},
   "source": [
    "- Fold 0 score : 0.5575  -  th=0.32\n",
    "- Fold 1 score : 0.4663  -  th=0.27\n",
    "- Fold 2 score : 0.5304  -  th=0.20\n",
    "- Fold 3 score : 0.4343  -  th=0.24"
   ]
  },
  {
   "cell_type": "code",
   "execution_count": null,
   "metadata": {},
   "outputs": [],
   "source": [
    "if DEBUG:\n",
    "    df = df[df['fold'] == 0].reset_index(drop=True).head(len(pred_oof))\n",
    "\n",
    "df['pred'] = pred_oof\n",
    "df_group = df[['patient_id', 'laterality', 'pred', 'cancer']].groupby(['patient_id', 'laterality']).mean()"
   ]
  },
  {
   "cell_type": "code",
   "execution_count": null,
   "metadata": {},
   "outputs": [],
   "source": [
    "th, scores, score = tweak_thresholds(\n",
    "    df_group[\"cancer\"].values,\n",
    "    df_group[\"pred\"].values\n",
    ")\n",
    "\n",
    "print(f\"Best score : {score:.4f}\")\n",
    "print(f\"th = {th:.2f}\")\n",
    "\n",
    "print(f'\\n-> CV pf1 : {pfbeta(df_group[\"cancer\"].values, df_group[\"pred\"].values > th) :.4f}')\n",
    "print(f'-> CV AUC : {roc_auc_score(df_group[\"cancer\"].values, df_group[\"pred\"].values) :.4f}')"
   ]
  },
  {
   "cell_type": "code",
   "execution_count": null,
   "metadata": {},
   "outputs": [],
   "source": [
    "plt.axvline(th, c=\"salmon\")\n",
    "plt.plot(np.round(np.arange(0, 1, 0.01), 2), scores)\n",
    "plt.text(th, score + 0.001, s=f' pf1={score :.4f}', c='salmon', size=8)\n",
    "plt.ylim(0.3, score + 0.025)\n",
    "plt.show()"
   ]
  },
  {
   "cell_type": "markdown",
   "metadata": {},
   "source": [
    "Done ! "
   ]
  }
 ],
 "metadata": {
  "kernelspec": {
   "display_name": "Python 3 (ipykernel)",
   "language": "python",
   "name": "python3"
  },
  "language_info": {
   "codemirror_mode": {
    "name": "ipython",
    "version": 3
   },
   "file_extension": ".py",
   "mimetype": "text/x-python",
   "name": "python",
   "nbconvert_exporter": "python",
   "pygments_lexer": "ipython3",
   "version": "3.8.10"
  }
 },
 "nbformat": 4,
 "nbformat_minor": 4
}
