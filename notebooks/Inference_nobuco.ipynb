{
 "cells": [
  {
   "cell_type": "markdown",
   "metadata": {},
   "source": [
    "**About** : This notebook is used to infer models."
   ]
  },
  {
   "cell_type": "code",
   "execution_count": null,
   "metadata": {},
   "outputs": [],
   "source": [
    "# %load_ext nb_black\n",
    "%load_ext autoreload\n",
    "%autoreload 2"
   ]
  },
  {
   "cell_type": "code",
   "execution_count": null,
   "metadata": {},
   "outputs": [],
   "source": [
    "cd ../src/"
   ]
  },
  {
   "cell_type": "markdown",
   "metadata": {},
   "source": [
    "## Initialization"
   ]
  },
  {
   "cell_type": "markdown",
   "metadata": {},
   "source": [
    "### Imports"
   ]
  },
  {
   "cell_type": "code",
   "execution_count": null,
   "metadata": {},
   "outputs": [],
   "source": [
    "import os\n",
    "import torch\n",
    "\n",
    "print(torch.__version__)\n",
    "os.environ['CUDA_VISIBLE_DEVICES'] = \"-1\""
   ]
  },
  {
   "cell_type": "code",
   "execution_count": null,
   "metadata": {},
   "outputs": [],
   "source": [
    "import os\n",
    "import re\n",
    "import cv2\n",
    "import sys\n",
    "import glob\n",
    "import json\n",
    "import time\n",
    "import torch\n",
    "import warnings\n",
    "import numpy as np\n",
    "import pandas as pd\n",
    "import seaborn as sns\n",
    "import matplotlib.pyplot as plt\n",
    "\n",
    "from tqdm import tqdm\n",
    "from sklearn.metrics import *\n",
    "\n",
    "warnings.simplefilter(action=\"ignore\", category=FutureWarning)\n",
    "warnings.simplefilter(action=\"ignore\", category=UserWarning)"
   ]
  },
  {
   "cell_type": "code",
   "execution_count": null,
   "metadata": {},
   "outputs": [],
   "source": [
    "from utils.logger import Config, upload_to_kaggle\n",
    "\n",
    "from params import *\n",
    "from data.preparation import *\n",
    "\n",
    "from model_zoo.models import define_model\n",
    "from utils.metrics import *\n",
    "from utils.torch import load_model_weights\n",
    "from utils.plots import plot_sample\n",
    "from inference.main import uniform_soup"
   ]
  },
  {
   "cell_type": "markdown",
   "metadata": {},
   "source": [
    "## Expes"
   ]
  },
  {
   "cell_type": "code",
   "execution_count": null,
   "metadata": {},
   "outputs": [],
   "source": [
    "# EXP_FOLDER = \"../logs/2023-03-16/42/\"\n",
    "# EXP_FOLDER = \"../logs/2023-03-19/0/\"\n",
    "# EXP_FOLDER = \"../logs/2023-03-21/0/\"\n",
    "EXP_FOLDER = \"../logs/2023-03-21/13/\"\n",
    "EXP_FOLDER = \"../logs/2023-03-22/10/\"\n",
    "EXP_FOLDER = \"../logs/2023-03-22/16/\"\n",
    "EXP_FOLDER = \"../logs/2023-03-24/13/\"\n",
    "EXP_FOLDER = \"../logs/2023-03-24/25/\"\n",
    "EXP_FOLDER = \"../logs/2023-03-24/28/\"\n",
    "EXP_FOLDER = \"../logs/2023-03-29/5/\"\n",
    "# EXP_FOLDER = \"../logs/2023-03-30/2/\"\n",
    "EXP_FOLDER = \"../logs/2023-04-04/20/\"\n",
    "EXP_FOLDER = \"../logs/2023-04-05/30/\"\n",
    "EXP_FOLDER = \"../logs/2023-04-06/10/\"\n",
    "EXP_FOLDER = \"../logs/2023-04-07/12/\"\n",
    "\n",
    "EXP_FOLDER = \"../logs/2023-04-12/2/\"\n",
    "EXP_FOLDER = \"../logs/2023-04-13/29/\"\n",
    "\n",
    "EXP_FOLDER = \"../logs/2023-04-17/42/\"  # 0.7265 / x5 0.7273 / MTx10 0.7274\n",
    "\n",
    "EXP_FOLDER = \"../logs/2023-04-18/10/\""
   ]
  },
  {
   "cell_type": "code",
   "execution_count": null,
   "metadata": {},
   "outputs": [],
   "source": [
    "config = Config(json.load(open(EXP_FOLDER + \"config.json\", \"r\")))"
   ]
  },
  {
   "cell_type": "code",
   "execution_count": null,
   "metadata": {},
   "outputs": [],
   "source": [
    "df = prepare_data(DATA_PATH, config.processed_folder)"
   ]
  },
  {
   "cell_type": "code",
   "execution_count": null,
   "metadata": {},
   "outputs": [],
   "source": [
    "if \"fold\" not in df.columns:\n",
    "    folds = pd.read_csv(config.folds_file)\n",
    "    df = df.merge(folds, how=\"left\", on=[\"participant_id\", \"sequence_id\"])"
   ]
  },
  {
   "cell_type": "code",
   "execution_count": null,
   "metadata": {},
   "outputs": [],
   "source": [
    "try:\n",
    "    pred_oof = np.load(EXP_FOLDER + \"pred_oof.npy\")\n",
    "    score = accuracy(df['target'], pred_oof)\n",
    "    print(f\"-> CV acc : {score:.4f}\")\n",
    "except:\n",
    "    pass"
   ]
  },
  {
   "cell_type": "markdown",
   "metadata": {},
   "source": [
    "## Inference"
   ]
  },
  {
   "cell_type": "markdown",
   "metadata": {},
   "source": [
    "### Preprocessing"
   ]
  },
  {
   "cell_type": "code",
   "execution_count": null,
   "metadata": {},
   "outputs": [],
   "source": [
    "ROWS_PER_FRAME = 543  # number of landmarks per frame\n",
    "\n",
    "def load_relevant_data_subset(pq_path):\n",
    "    df = pd.read_parquet(pq_path)\n",
    "    n_frames = int(len(df) / ROWS_PER_FRAME)\n",
    "    data = df[['x', 'y', 'z']].values.reshape(n_frames, ROWS_PER_FRAME, 3)\n",
    "    return df, data.astype(np.float32)"
   ]
  },
  {
   "cell_type": "code",
   "execution_count": null,
   "metadata": {},
   "outputs": [],
   "source": [
    "KEPT_LANDMARKS = [\n",
    "    [468, 469, 470, 471, 472, 473, 474, 475, 476, 477, 478, 479, 480, 481, 482, 483, 484, 485, 486, 487, 488],  # left hand\n",
    "    [522, 523, 524, 525, 526, 527, 528, 529, 530, 531, 532, 533, 534, 535, 536, 537, 538, 539, 540, 541, 542],  # right hand\n",
    "    [10, 54, 67, 132, 150, 152, 162, 172, 176, 234, 284, 297, 361, 379, 389, 397, 400, 454],  # silhouette\n",
    "    [13, 37, 40, 61, 78, 81, 84, 87, 88, 91, 191, 267, 270, 291, 308, 311, 314, 317, 318, 321, 415],  # lips\n",
    "    [500, 501, 502, 503, 504, 505, 506, 507, 508, 509, 510, 511], # arms\n",
    "    [205, 425],  # cheeks\n",
    "]\n",
    "MAPPING = [i + 1 for i in range(len(KEPT_LANDMARKS))]\n",
    "\n",
    "TO_AVG = [\n",
    "    [466, 387, 385, 398, 263, 390, 374, 381, 362],  # left_eye\n",
    "    [246, 160, 158, 173, 33, 163, 145, 154, 133],\n",
    "    [383, 293, 296, 285],  # left_eyebrow\n",
    "    [156, 63, 66, 55],  # right_eyebrow\n",
    "    [1, 2, 98, 327, 168],  # nose\n",
    "]"
   ]
  },
  {
   "cell_type": "code",
   "execution_count": null,
   "metadata": {},
   "outputs": [],
   "source": [
    "import torch\n",
    "import torch.nn as nn\n",
    "import torch.nn.functional as F\n",
    "\n",
    "\n",
    "class Preprocessing(nn.Module):\n",
    "    def __init__(self, type_embed, max_len=50, model_max_len=50):\n",
    "        super(Preprocessing, self).__init__()\n",
    "\n",
    "        self.type_embed = torch.from_numpy(type_embed[None, :].astype(np.float32))\n",
    "        self.type_embed = self.type_embed.repeat(1000, 1)\n",
    "\n",
    "        self.landmark_embed = torch.tensor(np.arange(120)).float().unsqueeze(0) + 1\n",
    "        self.landmark_embed = self.landmark_embed.repeat(1000, 1)\n",
    "        \n",
    "#         self.ids = torch.from_numpy(np.sort(np.concatenate(KEPT_LANDMARKS)))\n",
    "        self.ids = torch.from_numpy(np.concatenate(KEPT_LANDMARKS))\n",
    "\n",
    "        self.to_avg = [torch.tensor(avg) for avg in TO_AVG]\n",
    "\n",
    "        self.hands = torch.tensor(\n",
    "            [468, 469, 470, 471, 472, 473, 474, 475, 476, 477, 478, 479, 480, 481, 482, 483, 484, 485, 486, 487, 488] + \n",
    "            [522, 523, 524, 525, 526, 527, 528, 529, 530, 531, 532, 533, 534, 535, 536, 537, 538, 539, 540, 541, 542]\n",
    "        )\n",
    "        \n",
    "        self.frames = torch.tensor(np.arange(1000) + 1)\n",
    "        \n",
    "        self.max_len = torch.tensor([max_len])\n",
    "        self.model_max_len = torch.tensor([model_max_len])\n",
    "\n",
    "    def filter_sign(self, x):\n",
    "        hands = x[:, self.hands, 0]\n",
    "        nan_prop = torch.isnan(hands).float().mean(-1)            \n",
    "        x = x[torch.where(nan_prop < 1)[0]]\n",
    "\n",
    "        length = self.frames[:x.size(0)].max().unsqueeze(0)\n",
    "        sz = torch.cat([length, self.max_len]).max()\n",
    "        \n",
    "        divisor = (((sz - self.max_len) > 0) * (sz / self.max_len) + 1).int()\n",
    "        ids = (self.frames[:x.size(0)] % divisor) == 0\n",
    "        return x[ids]\n",
    "    \n",
    "    def forward(self, x):\n",
    "        x = self.filter_sign(x)\n",
    "        n_frames = x.shape[0]     \n",
    "        \n",
    "        avg_ids = []\n",
    "        for ids in self.to_avg:\n",
    "            avg_id = x[:, ids].mean(1).unsqueeze(1)  # , keepdims=True)\n",
    "            avg_ids.append(avg_id)\n",
    "\n",
    "        x = torch.cat([x[:, self.ids]] + avg_ids, 1)\n",
    "\n",
    "        type_embed = self.type_embed[:n_frames]\n",
    "        landmark_embed = self.landmark_embed[:n_frames, :x.shape[1]]\n",
    "        \n",
    "        # Normalize & fill nans\n",
    "        nonan = x[~torch.isnan(x)].view(-1, x.shape[-1])\n",
    "        x = x - nonan.mean(0)[None, None, :]\n",
    "        x = x / nonan.std(0, unbiased=False)[None, None, :]\n",
    "        x[torch.isnan(x)] = 0\n",
    "\n",
    "        # Concat\n",
    "        x = torch.cat([\n",
    "            type_embed.unsqueeze(-1), x, landmark_embed.unsqueeze(-1)\n",
    "        ], -1).transpose(1, 2)\n",
    "        \n",
    "        x = x[:self.model_max_len]\n",
    "        \n",
    "        return x"
   ]
  },
  {
   "cell_type": "code",
   "execution_count": null,
   "metadata": {},
   "outputs": [],
   "source": [
    "import tensorflow as tf\n",
    "from tensorflow import keras\n",
    "from tensorflow.keras import layers\n",
    "\n",
    "\n",
    "class PreprocessingTF(keras.Model):\n",
    "    def __init__(self, type_embed, max_len=50, model_max_len=50):\n",
    "        super(PreprocessingTF, self).__init__()\n",
    "\n",
    "        self.type_embed = tf.convert_to_tensor(type_embed[None, :].astype(np.float32))\n",
    "        self.type_embed = tf.repeat(self.type_embed, 1000, axis=0)\n",
    "\n",
    "        self.landmark_embed = tf.range(100, dtype=tf.float32)[tf.newaxis, :] + 1\n",
    "        self.landmark_embed = tf.repeat(self.landmark_embed, 100, axis=0)\n",
    "\n",
    "        # self.ids = torch.from_numpy(np.sort(np.concatenate(KEPT_LANDMARKS)))\n",
    "        self.ids = tf.convert_to_tensor(np.concatenate(KEPT_LANDMARKS))\n",
    "\n",
    "        self.to_avg = [tf.convert_to_tensor(avg) for avg in TO_AVG]\n",
    "\n",
    "        self.hands = tf.convert_to_tensor(\n",
    "            [468, 469, 470, 471, 472, 473, 474, 475, 476, 477, 478, 479, 480, 481, 482, 483, 484, 485, 486, 487, 488] + \n",
    "            [522, 523, 524, 525, 526, 527, 528, 529, 530, 531, 532, 533, 534, 535, 536, 537, 538, 539, 540, 541, 542]\n",
    "        )\n",
    "\n",
    "        self.frames = tf.range(1000) + 1\n",
    "\n",
    "        self.max_len = tf.constant(max_len, dtype=tf.int32)\n",
    "        self.model_max_len = tf.constant(model_max_len, dtype=tf.int32)\n",
    "\n",
    "    def filter_sign(self, x):\n",
    "        hands = tf.gather(x, self.hands, axis=1)[:, :, 0]\n",
    "        nan_prop = tf.reduce_mean(tf.cast(tf.math.is_nan(hands), dtype=tf.float32), axis=-1)\n",
    "        nan_mask = nan_prop < 1\n",
    "        x = tf.boolean_mask(x, nan_mask)\n",
    "\n",
    "        length = tf.reduce_max(self.frames[:tf.shape(x)[0]])\n",
    "        sz = tf.reduce_max(tf.stack([length, self.max_len], axis=0))\n",
    "\n",
    "        divisor = tf.where(sz - self.max_len > 0, sz // self.max_len + 1, 1)\n",
    "        ids = tf.math.floormod(self.frames[:tf.shape(x)[0]], divisor) == 0\n",
    "        x = tf.boolean_mask(x, ids)\n",
    "\n",
    "        return x\n",
    "    \n",
    "    def call(self, x):\n",
    "        x = self.filter_sign(x)\n",
    "#         n_frames = x.shape[0]\n",
    "        n_frames = tf.reduce_max(self.frames[:tf.shape(x)[0]])\n",
    "\n",
    "        avg_ids = []\n",
    "        for ids in self.to_avg:\n",
    "            avg_id = tf.math.reduce_mean(tf.gather(x, ids, axis=1), axis=1, keepdims=True)\n",
    "            avg_ids.append(avg_id)\n",
    "\n",
    "        x = tf.concat([tf.gather(x, self.ids, axis=1)] + avg_ids, axis=1)\n",
    "\n",
    "        type_embed = self.type_embed[:n_frames]\n",
    "        landmark_embed = self.landmark_embed[:n_frames]\n",
    "\n",
    "        # Normalize & fill nans\n",
    "        nonan = tf.boolean_mask(x, tf.math.logical_not(tf.math.is_nan(x)))\n",
    "        nonan = tf.reshape(nonan, (-1, 3))\n",
    "        mean = tf.math.reduce_mean(nonan, axis=0)[tf.newaxis, tf.newaxis, :]\n",
    "        x = x - tf.math.reduce_mean(nonan, axis=0)[tf.newaxis, tf.newaxis, :]\n",
    "        x = x / tf.math.reduce_std(nonan, axis=0)[tf.newaxis, tf.newaxis, :]\n",
    "        \n",
    "#         x = tf.where(tf.math.is_nan(x))\n",
    "        x = tf.where(tf.math.is_nan(x), tf.zeros_like(x), x)\n",
    "        \n",
    "        # Concat\n",
    "        x = tf.concat([\n",
    "            tf.expand_dims(type_embed, -1), x, tf.expand_dims(landmark_embed, -1)\n",
    "        ], -1)\n",
    "        x = tf.transpose(x, [0, 2, 1])\n",
    "\n",
    "        x = x[:self.model_max_len]\n",
    "\n",
    "        return x"
   ]
  },
  {
   "cell_type": "code",
   "execution_count": null,
   "metadata": {},
   "outputs": [],
   "source": [
    "landmarks = np.concatenate(KEPT_LANDMARKS)\n",
    "type_embed = np.zeros(1000)\n",
    "start = 0\n",
    "for subset, idx in zip(KEPT_LANDMARKS, MAPPING):\n",
    "    print(subset, idx)\n",
    "    type_embed[start: start + len(subset)] = idx\n",
    "    start += len(subset)\n",
    "\n",
    "type_embed = type_embed[type_embed > 0]\n",
    "\n",
    "type_embed = np.concatenate([type_embed, np.array([idx] * len(TO_AVG))])\n",
    "\n",
    "print(\"\\nn_landmarks :\", len(type_embed))"
   ]
  },
  {
   "cell_type": "code",
   "execution_count": null,
   "metadata": {},
   "outputs": [],
   "source": [
    "prepro = Preprocessing(type_embed, max_len=config.max_len, model_max_len=config.max_len)"
   ]
  },
  {
   "cell_type": "code",
   "execution_count": null,
   "metadata": {},
   "outputs": [],
   "source": [
    "inp = tf.keras.Input((543, 3), dtype=tf.float32, name=\"inputs\")\n",
    "prepro_tf = PreprocessingTF(type_embed, max_len=config.max_len, model_max_len=config.max_len)"
   ]
  },
  {
   "cell_type": "code",
   "execution_count": null,
   "metadata": {},
   "outputs": [],
   "source": [
    "preds = []\n",
    "times = []\n",
    "\n",
    "# for i in tqdm(range(len(df['path']))):\n",
    "for i in tqdm(range(100)):\n",
    "    path = df['path'][i]\n",
    "    name = f\"{path.split('/')[-2]}_{path.split('/')[-1].split('.')[0]}.npy\"\n",
    "\n",
    "    pq, data = load_relevant_data_subset(path)\n",
    "    \n",
    "    x = torch.from_numpy(data)\n",
    "    x_ = tf.constant(data)\n",
    "\n",
    "    x_torch = prepro(x)\n",
    "    x_tf = prepro_tf(x_)\n",
    "    \n",
    "    print(np.abs(x_tf.numpy() - x_torch.numpy()).max())\n",
    "\n",
    "    break"
   ]
  },
  {
   "cell_type": "markdown",
   "metadata": {},
   "source": [
    "### Model"
   ]
  },
  {
   "cell_type": "code",
   "execution_count": null,
   "metadata": {},
   "outputs": [],
   "source": [
    "import onnx\n",
    "import onnx_tf\n",
    "import tensorflow as tf\n",
    "import onnxruntime as rt\n",
    "import tflite_runtime.interpreter as tflite\n",
    "\n",
    "from onnx_tf.backend import prepare"
   ]
  },
  {
   "cell_type": "code",
   "execution_count": null,
   "metadata": {},
   "outputs": [],
   "source": [
    "import torch.nn as nn\n",
    "from torch.nn import LayerNorm\n",
    "\n",
    "class DebertaV2Output(nn.Module):\n",
    "    def __init__(self, config):\n",
    "        super().__init__()\n",
    "        self.dense = nn.Linear(config.intermediate_size, config.output_size)\n",
    "        self.LayerNorm = LayerNorm(config.output_size, config.layer_norm_eps)\n",
    "        self.config = config\n",
    "\n",
    "    def forward(self, hidden_states, input_tensor):\n",
    "        hidden_states = self.dense(hidden_states + input_tensor)\n",
    "        hidden_states = self.LayerNorm(hidden_states)\n",
    "        return hidden_states"
   ]
  },
  {
   "cell_type": "code",
   "execution_count": null,
   "metadata": {},
   "outputs": [],
   "source": [
    "import torch\n",
    "import torch.nn as nn\n",
    "from transformers import AutoConfig\n",
    "from model_zoo.deberta import DebertaV2Encoder\n",
    "from model_zoo.utils import add_shift\n",
    "    \n",
    "class Model(nn.Module):\n",
    "    \"\"\"\n",
    "    Model with an attention mechanism.\n",
    "    \"\"\"\n",
    "    def __init__(\n",
    "        self,\n",
    "        type_embed,\n",
    "        embed_dim=256,\n",
    "        dense_dim=384,\n",
    "        transfo_dim=768,\n",
    "        transfo_layers=3,\n",
    "        transfo_heads=1,\n",
    "        num_classes=250,\n",
    "        drop_rate=0,\n",
    "        n_landmarks=100,\n",
    "        max_len=50,\n",
    "    ):\n",
    "        \"\"\"\n",
    "        Constructor.\n",
    "\n",
    "        Args:\n",
    "            encoder (timm model): Encoder.\n",
    "            num_classes (int, optional): Number of classes. Defaults to 1.\n",
    "            num_classes_aux (int, optional): Number of aux classes. Defaults to 0.\n",
    "            n_channels (int, optional): Number of image channels. Defaults to 3.\n",
    "        \"\"\"\n",
    "        super().__init__()\n",
    "        self.num_classes = num_classes\n",
    "        self.num_classes_aux = 0\n",
    "        self.transfo_heads = transfo_heads\n",
    "\n",
    "        self.type_embed = nn.Embedding(9, embed_dim, padding_idx=0)\n",
    "        self.landmark_embed = nn.Embedding(101, embed_dim, padding_idx=0)\n",
    "        self.type_norm = nn.LayerNorm(embed_dim)\n",
    "        self.landmark_norm = nn.LayerNorm(embed_dim)\n",
    "\n",
    "#         self.pos_dense = nn.Linear(9, embed_dim)\n",
    "        self.pos_cnn = nn.Sequential(\n",
    "            nn.Conv1d(3, 8, kernel_size=5, padding=2, bias=False),\n",
    "            nn.Conv1d(8, 16, kernel_size=5, padding=2, bias=False),\n",
    "        )\n",
    "        self.pos_dense = nn.Linear(19, embed_dim)\n",
    "        \n",
    "        self.dense = nn.Linear(3 * embed_dim, embed_dim)\n",
    "        \n",
    "        self.left_hand_mlp = nn.Sequential(\n",
    "            nn.Linear(embed_dim * 21, dense_dim), \n",
    "            nn.BatchNorm1d(dense_dim),\n",
    "            nn.Dropout(p=drop_rate),\n",
    "            nn.Mish(),\n",
    "        )\n",
    "\n",
    "        self.right_hand_mlp = nn.Sequential(\n",
    "            nn.Linear(embed_dim * 21 , dense_dim),\n",
    "            nn.BatchNorm1d(dense_dim),\n",
    "            nn.Dropout(p=drop_rate),\n",
    "            nn.Mish(),\n",
    "        )\n",
    "\n",
    "        self.lips_mlp = nn.Sequential(\n",
    "            nn.Linear(embed_dim * 21, dense_dim),\n",
    "            nn.BatchNorm1d(dense_dim),\n",
    "            nn.Dropout(p=drop_rate),\n",
    "            nn.Mish(),\n",
    "        )\n",
    "        \n",
    "        self.face_mlp = nn.Sequential(\n",
    "            nn.Linear(embed_dim * 25, dense_dim),\n",
    "            nn.BatchNorm1d(dense_dim),\n",
    "            nn.Dropout(p=drop_rate),\n",
    "            nn.Mish(),\n",
    "        )\n",
    "        \n",
    "        self.full_mlp = nn.Sequential(\n",
    "            nn.Linear(embed_dim * n_landmarks, dense_dim),\n",
    "            nn.BatchNorm1d(dense_dim),\n",
    "            nn.Dropout(p=drop_rate),\n",
    "            nn.Mish(),\n",
    "        )\n",
    "\n",
    "        transfo_dim_ = transfo_dim\n",
    "        if transfo_layers == 3:  # 512, 768, 1024 / 768\n",
    "            delta = 256\n",
    "            transfo_dim = 512\n",
    "        else:  # 768, 768 \n",
    "            delta = 0\n",
    "        self.transfo_dim = transfo_dim\n",
    "\n",
    "        self.landmark_mlp = nn.Sequential(\n",
    "            nn.Linear(dense_dim * 4, transfo_dim),\n",
    "            nn.BatchNorm1d(transfo_dim),\n",
    "            nn.Dropout(p=drop_rate),\n",
    "            nn.Mish(),\n",
    "        )\n",
    "\n",
    "        name = \"microsoft/deberta-v3-base\"\n",
    "\n",
    "        config = AutoConfig.from_pretrained(name, output_hidden_states=True)\n",
    "        config.hidden_size = transfo_dim\n",
    "        config.intermediate_size = transfo_dim\n",
    "        config.output_size = transfo_dim\n",
    "        if transfo_layers >= 2:\n",
    "            config.output_size = transfo_dim + delta\n",
    "        config.num_hidden_layers = 1\n",
    "        config.num_attention_heads = transfo_heads\n",
    "        config.attention_probs_dropout_prob = drop_rate\n",
    "        config.hidden_dropout_prob = drop_rate\n",
    "        config.hidden_act = nn.Mish()  # \"relu\"\n",
    "        config.max_relative_positions = max_len\n",
    "        config.position_buckets = max_len\n",
    "        config.max_len = max_len\n",
    "\n",
    "        self.frame_transformer_1 = DebertaV2Encoder(config)\n",
    "        self.frame_transformer_1.layer[0].output = DebertaV2Output(config)\n",
    "\n",
    "        self.frame_transformer_2 = None\n",
    "        if transfo_layers >= 2:\n",
    "            config.hidden_size += delta\n",
    "            config.intermediate_size += delta\n",
    "            \n",
    "            if transfo_layers >= 3 and transfo_dim_ == 1024:\n",
    "                config.output_size += delta\n",
    "\n",
    "            config.attention_probs_dropout_prob *= 2\n",
    "            config.hidden_dropout_prob *= 2\n",
    "            self.frame_transformer_2 = DebertaV2Encoder(config)\n",
    "            self.frame_transformer_2.layer[0].output = DebertaV2Output(config)\n",
    "\n",
    "        self.frame_transformer_3 = None\n",
    "        if transfo_layers >= 3:\n",
    "            if transfo_dim_ == 1024:\n",
    "                config.hidden_size += delta\n",
    "                config.intermediate_size += delta\n",
    "                config.attention_probs_dropout_prob *= 2\n",
    "                config.hidden_dropout_prob *= 2\n",
    "\n",
    "            self.frame_transformer_3 = DebertaV2Encoder(config)\n",
    "            self.frame_transformer_3.layer[0].output = DebertaV2Output(config)\n",
    "\n",
    "        self.logits = nn.Linear(config.output_size, num_classes)\n",
    "\n",
    "    \n",
    "    def forward(self, x):\n",
    "        \"\"\"\n",
    "        Forward function.\n",
    "\n",
    "        Args:\n",
    "            x (torch tensor [batch_size x c x h x w]): Input batch.\n",
    "            return_fts (bool, Optional): Whether to return encoder features.\n",
    "\n",
    "        Returns:\n",
    "            torch tensor [batch_size x num_classes]: logits.\n",
    "            torch tensor [batch_size x num_classes_aux]: logits aux.\n",
    "            torch tensor [batch_size x num_features]: Encoder features, if return_fts.\n",
    "        \"\"\"\n",
    "        x = x.unsqueeze(0)\n",
    "\n",
    "        bs, n_frames, _, n_landmarks = x.size()    \n",
    "\n",
    "        x_type = self.type_norm(self.type_embed(x[:, :, 0].long()))\n",
    "        x_landmark = self.landmark_norm(self.landmark_embed(x[:, :, 4].long()))\n",
    "        \n",
    "        x_pos_ = x[:, :, 1:4].transpose(2, 3).contiguous()\n",
    "        \n",
    "        x_pos = x_pos_.transpose(1, 2).transpose(2, 3).contiguous().view(bs * n_landmarks, 3, -1)\n",
    "        x_pos = self.pos_cnn(x_pos)\n",
    "        x_pos = x_pos.view(bs, n_landmarks, 16, -1).transpose(2, 3).transpose(1, 2).contiguous()\n",
    "\n",
    "        x_pos = torch.cat([x_pos_, x_pos], -1)\n",
    "\n",
    "        x_pos = self.pos_dense(x_pos)\n",
    "\n",
    "        fts = self.dense(torch.cat([x_type, x_landmark, x_pos], -1))\n",
    "\n",
    "        n_fts = fts.size(-1)\n",
    "        embed = x[:, :, 0].unsqueeze(1).view(-1).long()\n",
    "\n",
    "        left_hand_fts = fts.view(-1, n_fts)[embed == 1].view(-1, 21 * n_fts)\n",
    "        left_hand_fts = self.left_hand_mlp(left_hand_fts)\n",
    "\n",
    "        right_hand_fts = fts.view(-1, n_fts)[embed == 2].view(-1, 21 * n_fts)\n",
    "        right_hand_fts = self.right_hand_mlp(right_hand_fts)\n",
    "        \n",
    "        hand_fts = torch.stack([left_hand_fts, right_hand_fts], -1).amax(-1)\n",
    "\n",
    "        lips_fts = fts.view(-1, n_fts)[embed == 4].view(-1, 21 * n_fts)\n",
    "        lips_fts = self.lips_mlp(lips_fts)\n",
    "\n",
    "        face_fts = fts.view(-1, n_fts)[(embed == 3) | (embed == 6)].view(-1, 25 * n_fts)\n",
    "        face_fts = self.face_mlp(face_fts)\n",
    "\n",
    "        fts = fts.view(-1, n_fts * n_landmarks)\n",
    "    \n",
    "        fts = self.full_mlp(fts)\n",
    "\n",
    "        fts = torch.cat([fts, hand_fts, lips_fts, face_fts], -1)\n",
    "\n",
    "        fts = self.landmark_mlp(fts)\n",
    "        fts = fts.view(bs, -1, self.transfo_dim)\n",
    "\n",
    "        fts = self.frame_transformer_1(fts).last_hidden_state\n",
    "        if self.frame_transformer_2 is not None:\n",
    "            fts = self.frame_transformer_2(fts).last_hidden_state\n",
    "        if self.frame_transformer_3 is not None:\n",
    "            fts = self.frame_transformer_3(fts).last_hidden_state\n",
    "\n",
    "        fts = fts.mean(1) # / mask.sum(1)  # masked avg\n",
    "\n",
    "        logits = self.logits(fts)\n",
    "\n",
    "        return logits"
   ]
  },
  {
   "cell_type": "code",
   "execution_count": null,
   "metadata": {},
   "outputs": [],
   "source": [
    "model = Model(\n",
    "    type_embed,\n",
    "    embed_dim=config.embed_dim,\n",
    "    dense_dim=config.dense_dim,\n",
    "    transfo_dim=config.transfo_dim,\n",
    "    transfo_layers=config.transfo_layers,\n",
    "    transfo_heads=config.transfo_heads,\n",
    "    drop_rate=config.drop_rate,\n",
    "    num_classes=config.num_classes,\n",
    "    max_len=config.max_len,\n",
    ").cpu().eval()\n",
    "\n",
    "config.embed_dim, config.transfo_dim"
   ]
  },
  {
   "cell_type": "code",
   "execution_count": null,
   "metadata": {},
   "outputs": [],
   "source": [
    "N_SOUP = 10\n",
    "TEACHER = True"
   ]
  },
  {
   "cell_type": "code",
   "execution_count": null,
   "metadata": {},
   "outputs": [],
   "source": [
    "if N_SOUP:\n",
    "    if not TEACHER:\n",
    "        weights = [EXP_FOLDER + f\"{config.name}_fullfit_0_{ep}.pt\" for ep in range(config.epochs - N_SOUP, config.epochs + 1)]\n",
    "    else:\n",
    "        weights = [EXP_FOLDER + f\"{config.name}_teacher_fullfit_0_{ep}.pt\" for ep in range(config.epochs - N_SOUP, config.epochs + 1)]\n",
    "    print(\"-> Soup :\", [w.split('/')[-1] for w in weights])\n",
    "    model = uniform_soup(model, weights)\n",
    "    \n",
    "else:\n",
    "    try:\n",
    "    #     model = load_model_weights(model, EXP_FOLDER + f\"{config.name}_fullfit_0.pt\")\n",
    "    #     model = load_model_weights(model, EXP_FOLDER + f\"{config.name}_teacher_fullfit_0.pt\")\n",
    "        model = load_model_weights(model, EXP_FOLDER + f\"{config.name}_0.pt\")\n",
    "    except: # FileNotFoundError:\n",
    "        print('Not loading weights !')"
   ]
  },
  {
   "cell_type": "code",
   "execution_count": null,
   "metadata": {},
   "outputs": [],
   "source": [
    "# model.pos_cnn = nn.Sequential(\n",
    "#     DenseConv1d(3, 8, conv_weights=model.pos_cnn[0].weight.data),\n",
    "#     DenseConv1d(8, 16, conv_weights=model.pos_cnn[1].weight.data),\n",
    "# )"
   ]
  },
  {
   "cell_type": "code",
   "execution_count": null,
   "metadata": {},
   "outputs": [],
   "source": [
    "# x = np.load('../input/processed_3_torch/16069_100015657.npy')\n",
    "# x = torch.from_numpy(x).unsqueeze(0)\n",
    "# y = model(x)"
   ]
  },
  {
   "cell_type": "code",
   "execution_count": null,
   "metadata": {},
   "outputs": [],
   "source": [
    "df = df[df['fold'] == 0].reset_index(drop=True)\n",
    "pred_val = np.load(EXP_FOLDER + \"pred_val_0.npy\")"
   ]
  },
  {
   "cell_type": "code",
   "execution_count": null,
   "metadata": {},
   "outputs": [],
   "source": [
    "accuracy(df['target'], pred_val)"
   ]
  },
  {
   "cell_type": "code",
   "execution_count": null,
   "metadata": {},
   "outputs": [],
   "source": [
    "preds = []\n",
    "times = []\n",
    "\n",
    "# for i in tqdm(range(len(df['path']))):\n",
    "for i in tqdm(range(100)):\n",
    "    path = df['path'][i]\n",
    "    name = f\"{path.split('/')[-2]}_{path.split('/')[-1].split('.')[0]}.npy\"\n",
    "\n",
    "    pq, data = load_relevant_data_subset(path)\n",
    "    \n",
    "    x = torch.from_numpy(data)\n",
    "\n",
    "    t0 = time.time()\n",
    "    x = prepro(x)\n",
    "    y = model(x)\n",
    "    preds.append(y.detach().cpu().numpy().flatten())\n",
    "    t1 = time.time()\n",
    "    \n",
    "    times.append((t1 - t0) * 1000)\n",
    "#     break"
   ]
  },
  {
   "cell_type": "code",
   "execution_count": null,
   "metadata": {},
   "outputs": [],
   "source": [
    "# rel_pos = torch.from_numpy(np.load('rel_pos.npy').astype(np.int32))\n",
    "# rel_pos.size()"
   ]
  },
  {
   "cell_type": "code",
   "execution_count": null,
   "metadata": {},
   "outputs": [],
   "source": [
    "print(f'Runtime : {np.mean(times) :.1f}ms')"
   ]
  },
  {
   "cell_type": "code",
   "execution_count": null,
   "metadata": {},
   "outputs": [],
   "source": [
    "preds = np.stack(preds)"
   ]
  },
  {
   "cell_type": "code",
   "execution_count": null,
   "metadata": {},
   "outputs": [],
   "source": [
    "accuracy(df['target'].head(len(preds)), preds)"
   ]
  },
  {
   "cell_type": "code",
   "execution_count": null,
   "metadata": {},
   "outputs": [],
   "source": [
    "accuracy(df['target'].head(len(preds)), pred_val[:len(preds)])"
   ]
  },
  {
   "cell_type": "markdown",
   "metadata": {},
   "source": [
    "#### Nobuco"
   ]
  },
  {
   "cell_type": "code",
   "execution_count": null,
   "metadata": {},
   "outputs": [],
   "source": [
    "import tensorflow_addons as tfa\n",
    "\n",
    "import nobuco\n",
    "from nobuco import ChannelOrder, ChannelOrderingStrategy"
   ]
  },
  {
   "cell_type": "code",
   "execution_count": null,
   "metadata": {},
   "outputs": [],
   "source": [
    "@nobuco.converter(torch.nn.functional.mish, channel_ordering_strategy=ChannelOrderingStrategy.MINIMUM_TRANSPOSITIONS)\n",
    "def mish(input: torch.Tensor, inplace: bool = False):\n",
    "    return lambda input, inplace=False: tfa.activations.mish(input)"
   ]
  },
  {
   "cell_type": "code",
   "execution_count": null,
   "metadata": {},
   "outputs": [],
   "source": [
    "@nobuco.converter(torch.Tensor.long, channel_ordering_strategy=ChannelOrderingStrategy.MINIMUM_TRANSPOSITIONS)\n",
    "def long(input: torch.Tensor, inplace: bool = False):\n",
    "    return lambda input, inplace=False: tf.cast(input, tf.int64)"
   ]
  },
  {
   "cell_type": "code",
   "execution_count": null,
   "metadata": {},
   "outputs": [],
   "source": [
    "@nobuco.converter(torch.Tensor.amax, channel_ordering_strategy=ChannelOrderingStrategy.FORCE_PYTORCH_ORDER)\n",
    "def amax(input: torch.Tensor, dim=None, keepdim=False):\n",
    "    return lambda input, axis: tf.reduce_max(input, axis=dim)"
   ]
  },
  {
   "cell_type": "code",
   "execution_count": null,
   "metadata": {},
   "outputs": [],
   "source": [
    "@nobuco.converter(torch.gather, channel_ordering_strategy=ChannelOrderingStrategy.MINIMUM_TRANSPOSITIONS)\n",
    "def gather(input, dim, index):\n",
    "    return lambda input, dim, index: tf.gather(input, index)"
   ]
  },
  {
   "cell_type": "code",
   "execution_count": null,
   "metadata": {},
   "outputs": [],
   "source": [
    "inp = x.clone()\n",
    "inp.size()"
   ]
  },
  {
   "cell_type": "code",
   "execution_count": null,
   "metadata": {},
   "outputs": [],
   "source": [
    "keras_model = nobuco.pytorch_to_keras(\n",
    "    model,\n",
    "    args=[inp],\n",
    "    input_shapes={inp: (None, 5, 100)},\n",
    "    inputs_channel_order=ChannelOrder.PYTORCH,\n",
    "    outputs_channel_order=ChannelOrder.TENSORFLOW\n",
    ")"
   ]
  },
  {
   "cell_type": "code",
   "execution_count": null,
   "metadata": {},
   "outputs": [],
   "source": [
    "# keras_model.summary()"
   ]
  },
  {
   "cell_type": "code",
   "execution_count": null,
   "metadata": {},
   "outputs": [],
   "source": [
    "preds = []\n",
    "times = []\n",
    "\n",
    "# for i in tqdm(range(len(df['path']))):\n",
    "for i in tqdm(range(100)):\n",
    "    path = df['path'][i]\n",
    "    name = f\"{path.split('/')[-2]}_{path.split('/')[-1].split('.')[0]}.npy\"\n",
    "\n",
    "    pq, data = load_relevant_data_subset(path)\n",
    "    x = torch.from_numpy(data)\n",
    "\n",
    "    x = prepro_tf(x)\n",
    "    y = keras_model(x)\n",
    "    preds.append(y.numpy()[0])\n",
    "\n",
    "#     break"
   ]
  },
  {
   "cell_type": "code",
   "execution_count": null,
   "metadata": {},
   "outputs": [],
   "source": [
    "accuracy(df['target'].head(len(preds)), preds)"
   ]
  },
  {
   "cell_type": "markdown",
   "metadata": {},
   "source": [
    "### Prepro + model"
   ]
  },
  {
   "cell_type": "code",
   "execution_count": null,
   "metadata": {},
   "outputs": [],
   "source": [
    "class TFLiteModel(tf.keras.Model):\n",
    "    def __init__(self, prepro, model):\n",
    "        super(TFLiteModel, self).__init__()\n",
    "        self.prepro = prepro\n",
    "        self.model = model\n",
    "    \n",
    "    @tf.function(input_signature=[tf.TensorSpec(shape=[None, 543, 3], dtype=tf.float32, name='inputs')])\n",
    "    def call(self, inputs=None):\n",
    "        x = self.prepro(tf.cast(inputs, dtype=tf.float32))\n",
    "        y = self.model(x)\n",
    "\n",
    "        # Return a dictionary with the output tensor\n",
    "#         return x\n",
    "        return {'outputs': y}"
   ]
  },
  {
   "cell_type": "code",
   "execution_count": null,
   "metadata": {},
   "outputs": [],
   "source": [
    "# inp = tf.keras.Input((543, 3), dtype=tf.float32, name=\"inputs\")\n",
    "prepro_tf = PreprocessingTF(type_embed, max_len=config.max_len, model_max_len=config.max_len)"
   ]
  },
  {
   "cell_type": "code",
   "execution_count": null,
   "metadata": {},
   "outputs": [],
   "source": [
    "tflite_keras_model = TFLiteModel(prepro_tf, keras_model)"
   ]
  },
  {
   "cell_type": "code",
   "execution_count": null,
   "metadata": {},
   "outputs": [],
   "source": [
    "preds = []\n",
    "\n",
    "# for i in tqdm(range(len(df['path']))):\n",
    "for i in tqdm(range(100)):\n",
    "    path = df['path'][i]\n",
    "    name = f\"{path.split('/')[-2]}_{path.split('/')[-1].split('.')[0]}.npy\"\n",
    "\n",
    "    pq, data = load_relevant_data_subset(path)\n",
    "\n",
    "    y = tflite_keras_model(data)\n",
    "    \n",
    "    preds.append(y['outputs'].numpy()[0])\n",
    "#     break"
   ]
  },
  {
   "cell_type": "code",
   "execution_count": null,
   "metadata": {},
   "outputs": [],
   "source": [
    "accuracy(df['target'].head(len(preds)), preds)"
   ]
  },
  {
   "cell_type": "code",
   "execution_count": null,
   "metadata": {},
   "outputs": [],
   "source": [
    "tflite_keras_model.save(EXP_FOLDER + 'model_keras')"
   ]
  },
  {
   "cell_type": "markdown",
   "metadata": {},
   "source": [
    "### TfLite"
   ]
  },
  {
   "cell_type": "code",
   "execution_count": null,
   "metadata": {},
   "outputs": [],
   "source": [
    "# custom_objects = {'WeightLayer': WeightLayer}\n",
    "\n",
    "# keras_model_restored = keras.models.load_model(model_path + '.h5', custom_objects=custom_objects)\n",
    "# print('Model loaded')\n",
    "\n",
    "# converter = TFLiteConverter.from_keras_model_file(model_path + '.h5', custom_objects=custom_objects)\n",
    "# converter.target_ops = [tf.lite.OpsSet.SELECT_TF_OPS, tf.lite.OpsSet.TFLITE_BUILTINS]\n",
    "# tflite_model = converter.convert()\n",
    "# with open(model_path + '.tflite', 'wb') as f:\n",
    "#     f.write(tflite_model)"
   ]
  },
  {
   "cell_type": "code",
   "execution_count": null,
   "metadata": {},
   "outputs": [],
   "source": [
    "converter = tf.lite.TFLiteConverter.from_saved_model(EXP_FOLDER + \"model_keras\")\n",
    "\n",
    "converter.optimizations = [tf.lite.Optimize.DEFAULT]\n",
    "converter.target_spec.supported_types = [tf.float16]\n",
    "\n",
    "# converter.target_spec.supported_ops = [\n",
    "#     tf.lite.OpsSet.TFLITE_BUILTINS, # enable TensorFlow Lite ops.\n",
    "#     tf.lite.OpsSet.SELECT_TF_OPS # enable TensorFlow ops.\n",
    "# ]\n",
    "\n",
    "tflite_model = converter.convert()\n",
    "\n",
    "with open(EXP_FOLDER + 'model.tflite', 'wb') as f:\n",
    "    f.write(tflite_model)"
   ]
  },
  {
   "cell_type": "code",
   "execution_count": null,
   "metadata": {},
   "outputs": [],
   "source": [
    "interpreter = tflite.Interpreter(EXP_FOLDER + \"model.tflite\")\n",
    "\n",
    "prediction_fn = interpreter.get_signature_runner(\"serving_default\")\n",
    "\n",
    "output = prediction_fn(inputs=data)\n",
    "output['outputs'].max()"
   ]
  },
  {
   "cell_type": "code",
   "execution_count": null,
   "metadata": {},
   "outputs": [],
   "source": [
    "preds = []\n",
    "times = []\n",
    "# for i in tqdm(range(len(df['path']))):\n",
    "for i in tqdm(range(10)):\n",
    "    path = df['path'][i]\n",
    "    name = f\"{path.split('/')[-2]}_{path.split('/')[-1].split('.')[0]}.npy\"\n",
    "\n",
    "    pq, data = load_relevant_data_subset(path)\n",
    "\n",
    "    t0 = time.time()\n",
    "    output = prediction_fn(inputs=data)\n",
    "    t1 = time.time()\n",
    "\n",
    "    preds.append(output['outputs'])\n",
    "    times.append((t1 - t0) * 1000)\n",
    "    \n",
    "#     break"
   ]
  },
  {
   "cell_type": "code",
   "execution_count": null,
   "metadata": {},
   "outputs": [],
   "source": [
    "accuracy(df['target'].head(len(preds)), preds)"
   ]
  },
  {
   "cell_type": "code",
   "execution_count": null,
   "metadata": {},
   "outputs": [],
   "source": [
    "print(f'-> Runtime : {np.mean(times) :.1f}ms')\n",
    "\n",
    "if np.mean(times) > 100:\n",
    "    print(\"\\n WARNING ! Runtime must be < 100 ms !\")"
   ]
  },
  {
   "cell_type": "markdown",
   "metadata": {},
   "source": [
    "### Size & upload"
   ]
  },
  {
   "cell_type": "code",
   "execution_count": null,
   "metadata": {},
   "outputs": [],
   "source": [
    "size = os.path.getsize(EXP_FOLDER + 'model.tflite') / np.power(1024, 2)\n",
    "print(f\"-> Model size : {size:.3f} Mo\")\n",
    "\n",
    "assert size < 40, \"Model size must be < 40 Mo !\""
   ]
  },
  {
   "cell_type": "code",
   "execution_count": null,
   "metadata": {},
   "outputs": [],
   "source": [
    "upload_to_kaggle([EXP_FOLDER], \"/workspace/datasets/islr_weights_1/\", \"ISLR Models\", update_folders=False)"
   ]
  },
  {
   "cell_type": "markdown",
   "metadata": {},
   "source": [
    "Done ! "
   ]
  }
 ],
 "metadata": {
  "kernelspec": {
   "display_name": "Python 3 (ipykernel)",
   "language": "python",
   "name": "python3"
  },
  "language_info": {
   "codemirror_mode": {
    "name": "ipython",
    "version": 3
   },
   "file_extension": ".py",
   "mimetype": "text/x-python",
   "name": "python",
   "nbconvert_exporter": "python",
   "pygments_lexer": "ipython3",
   "version": "3.8.10"
  }
 },
 "nbformat": 4,
 "nbformat_minor": 4
}
