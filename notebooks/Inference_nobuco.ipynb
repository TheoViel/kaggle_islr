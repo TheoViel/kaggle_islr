{
 "cells": [
  {
   "cell_type": "markdown",
   "metadata": {},
   "source": [
    "**About** : This notebook is used to infer models."
   ]
  },
  {
   "cell_type": "code",
   "execution_count": null,
   "metadata": {},
   "outputs": [],
   "source": [
    "# %load_ext nb_black\n",
    "%load_ext autoreload\n",
    "%autoreload 2"
   ]
  },
  {
   "cell_type": "code",
   "execution_count": null,
   "metadata": {},
   "outputs": [],
   "source": [
    "cd ../src/"
   ]
  },
  {
   "cell_type": "markdown",
   "metadata": {},
   "source": [
    "## Initialization"
   ]
  },
  {
   "cell_type": "markdown",
   "metadata": {},
   "source": [
    "### Imports"
   ]
  },
  {
   "cell_type": "code",
   "execution_count": null,
   "metadata": {},
   "outputs": [],
   "source": [
    "import os\n",
    "import torch\n",
    "\n",
    "print(torch.__version__)\n",
    "os.environ['CUDA_VISIBLE_DEVICES'] = \"-1\""
   ]
  },
  {
   "cell_type": "code",
   "execution_count": null,
   "metadata": {},
   "outputs": [],
   "source": [
    "import os\n",
    "import re\n",
    "import cv2\n",
    "import sys\n",
    "import glob\n",
    "import json\n",
    "import time\n",
    "import torch\n",
    "import warnings\n",
    "import numpy as np\n",
    "import pandas as pd\n",
    "import seaborn as sns\n",
    "import matplotlib.pyplot as plt\n",
    "\n",
    "from tqdm import tqdm\n",
    "from sklearn.metrics import *\n",
    "\n",
    "warnings.simplefilter(action=\"ignore\", category=FutureWarning)\n",
    "warnings.simplefilter(action=\"ignore\", category=UserWarning)"
   ]
  },
  {
   "cell_type": "code",
   "execution_count": null,
   "metadata": {},
   "outputs": [],
   "source": [
    "from utils.logger import Config, upload_to_kaggle\n",
    "\n",
    "from params import *\n",
    "from data.preparation import *\n",
    "\n",
    "from model_zoo.models import define_model\n",
    "from utils.metrics import *\n",
    "from utils.torch import load_model_weights\n",
    "from utils.plots import plot_sample\n",
    "from inference.main import uniform_soup"
   ]
  },
  {
   "cell_type": "markdown",
   "metadata": {},
   "source": [
    "## Expes"
   ]
  },
  {
   "cell_type": "code",
   "execution_count": null,
   "metadata": {},
   "outputs": [],
   "source": [
    "EXP_FOLDER = \"../logs/2023-04-17/42/\"  # 0.7265 / x5 0.7273 / MTx10 0.7274\n",
    "\n",
    "EXP_FOLDER = \"../logs/2023-04-21/31/\"\n",
    "# EXP_FOLDER = \"../logs/2023-04-19/6/\"\n",
    "\n",
    "EXP_FOLDER = \"../logs/2023-04-23/27/\"   # 0.7302 / DIST 0.7341 / DISTx10 0.7310\n",
    "EXP_FOLDER = \"../logs/2023-04-23/28/\"   # 0.7295 / DIST 0.7341 / DISTx10 0.7348\n",
    "\n",
    "EXP_FOLDER = \"../logs/2023-04-24/9/\""
   ]
  },
  {
   "cell_type": "code",
   "execution_count": null,
   "metadata": {},
   "outputs": [],
   "source": [
    "config = Config(json.load(open(EXP_FOLDER + \"config.json\", \"r\")))"
   ]
  },
  {
   "cell_type": "code",
   "execution_count": null,
   "metadata": {},
   "outputs": [],
   "source": [
    "df = prepare_data(DATA_PATH, config.processed_folder)"
   ]
  },
  {
   "cell_type": "code",
   "execution_count": null,
   "metadata": {},
   "outputs": [],
   "source": [
    "if \"fold\" not in df.columns:\n",
    "    folds = pd.read_csv(config.folds_file)\n",
    "    df = df.merge(folds, how=\"left\", on=[\"participant_id\", \"sequence_id\"])"
   ]
  },
  {
   "cell_type": "markdown",
   "metadata": {},
   "source": [
    "## Inference"
   ]
  },
  {
   "cell_type": "markdown",
   "metadata": {},
   "source": [
    "### Preprocessing"
   ]
  },
  {
   "cell_type": "code",
   "execution_count": null,
   "metadata": {},
   "outputs": [],
   "source": [
    "from tflite.prepro import *"
   ]
  },
  {
   "cell_type": "code",
   "execution_count": null,
   "metadata": {},
   "outputs": [],
   "source": [
    "landmarks = np.concatenate(KEPT_LANDMARKS)\n",
    "type_embed = np.zeros(1000)\n",
    "start = 0\n",
    "for subset, idx in zip(KEPT_LANDMARKS, MAPPING):\n",
    "    print(subset, idx)\n",
    "    type_embed[start: start + len(subset)] = idx\n",
    "    start += len(subset)\n",
    "\n",
    "type_embed = type_embed[type_embed > 0]\n",
    "\n",
    "type_embed = np.concatenate([type_embed, np.array([idx] * len(TO_AVG))])\n",
    "\n",
    "print(\"\\nn_landmarks :\", len(type_embed))"
   ]
  },
  {
   "cell_type": "code",
   "execution_count": null,
   "metadata": {},
   "outputs": [],
   "source": [
    "MAX_LENS = {\n",
    "    \"torch_12/\": 25,\n",
    "    \"torch_16/\": 30,\n",
    "}"
   ]
  },
  {
   "cell_type": "code",
   "execution_count": null,
   "metadata": {},
   "outputs": [],
   "source": [
    "prepro = Preprocessing(type_embed, max_len=MAX_LENS[config.processed_folder], model_max_len=config.max_len)\n",
    "config.max_len"
   ]
  },
  {
   "cell_type": "code",
   "execution_count": null,
   "metadata": {},
   "outputs": [],
   "source": [
    "inp = tf.keras.Input((543, 3), dtype=tf.float32, name=\"inputs\")\n",
    "prepro_tf = PreprocessingTF(type_embed, max_len=MAX_LENS[config.processed_folder], model_max_len=config.max_len)"
   ]
  },
  {
   "cell_type": "code",
   "execution_count": null,
   "metadata": {},
   "outputs": [],
   "source": [
    "preds = []\n",
    "times = []\n",
    "\n",
    "# for i in tqdm(range(len(df['path']))):\n",
    "for i in tqdm(range(100)):\n",
    "    path = df['path'][i]\n",
    "    name = f\"{path.split('/')[-2]}_{path.split('/')[-1].split('.')[0]}.npy\"\n",
    "\n",
    "    pq, data = load_relevant_data_subset(path)\n",
    "    \n",
    "    x = torch.from_numpy(data)\n",
    "    x_ = tf.constant(data)\n",
    "\n",
    "    x_torch = prepro(x)\n",
    "    x_tf = prepro_tf(x_)\n",
    "    \n",
    "    print(np.abs(x_tf.numpy() - x_torch.numpy()).max())\n",
    "\n",
    "    break"
   ]
  },
  {
   "cell_type": "markdown",
   "metadata": {},
   "source": [
    "### Model"
   ]
  },
  {
   "cell_type": "code",
   "execution_count": null,
   "metadata": {},
   "outputs": [],
   "source": [
    "from tflite.models import Model\n",
    "from utils.torch import count_parameters"
   ]
  },
  {
   "cell_type": "code",
   "execution_count": null,
   "metadata": {},
   "outputs": [],
   "source": [
    "DIST = config.mt_config['distill']\n",
    "DIST = True\n",
    "\n",
    "model = Model(\n",
    "    type_embed,\n",
    "    embed_dim=config.embed_dim,\n",
    "    transfo_dim=config.transfo_dim if not DIST else 512,\n",
    "    dense_dim=config.dense_dim if not DIST else 192,\n",
    "    transfo_layers=config.transfo_layers  if not DIST else 2,\n",
    "    transfo_heads=config.transfo_heads,\n",
    "    drop_rate=config.drop_rate,\n",
    "    num_classes=config.num_classes,\n",
    "    max_len=config.max_len,\n",
    ").cpu().eval()\n",
    "\n",
    "config.embed_dim, config.transfo_dim"
   ]
  },
  {
   "cell_type": "code",
   "execution_count": null,
   "metadata": {},
   "outputs": [],
   "source": [
    "N_SOUP = 0\n",
    "TEACHER = False"
   ]
  },
  {
   "cell_type": "code",
   "execution_count": null,
   "metadata": {},
   "outputs": [],
   "source": [
    "if DIST:\n",
    "    pred_oof = np.load(EXP_FOLDER + \"pred_oof_dist.npy\")\n",
    "elif TEACHER:\n",
    "    pred_oof = np.load(EXP_FOLDER + \"pred_oof_teach.npy\")\n",
    "else:\n",
    "    try:\n",
    "        pred_oof = np.load(EXP_FOLDER + \"pred_oof_inf.npy\")\n",
    "    except:\n",
    "        pred_oof = np.load(EXP_FOLDER + \"pred_oof.npy\")\n",
    "\n",
    "score = accuracy(df['target'], pred_oof)\n",
    "print(f\"-> CV acc : {score:.4f}\")"
   ]
  },
  {
   "cell_type": "code",
   "execution_count": null,
   "metadata": {},
   "outputs": [],
   "source": [
    "if N_SOUP:\n",
    "    if TEACHER:\n",
    "        weights = [EXP_FOLDER + f\"{config.name}_teacher_fullfit_0_{ep}.pt\" for ep in range(config.epochs - N_SOUP, config.epochs + 1)]\n",
    "    elif DIST:\n",
    "        weights = [EXP_FOLDER + f\"{config.name}_distilled_fullfit_0_{ep}.pt\" for ep in range(config.epochs - N_SOUP, config.epochs + 1)]\n",
    "    else:\n",
    "        weights = [EXP_FOLDER + f\"{config.name}_fullfit_0_{ep}.pt\" for ep in range(config.epochs - N_SOUP, config.epochs + 1)]\n",
    "    print(\"-> Soup :\", [w.split('/')[-1] for w in weights])\n",
    "    model = uniform_soup(model, weights)\n",
    "\n",
    "else:\n",
    "    try:\n",
    "    #     model = load_model_weights(model, EXP_FOLDER + f\"{config.name}_fullfit_0.pt\")\n",
    "    #     model = load_model_weights(model, EXP_FOLDER + f\"{config.name}_teacher_fullfit_0.pt\")\n",
    "#         model = load_model_weights(model, EXP_FOLDER + f\"{config.name}_0.pt\")\n",
    "        model = load_model_weights(model, EXP_FOLDER + f\"{config.name}_distilled_0.pt\")\n",
    "    \n",
    "#         weights = [EXP_FOLDER + f\"{config.name}_0_{ep}.pt\" for ep in range(config.epochs - 10, config.epochs + 1)]\n",
    "#         print(\"-> Soup :\", [w.split('/')[-1] for w in weights])\n",
    "#         model = uniform_soup(model, weights)\n",
    "    \n",
    "    except: # FileNotFoundError:\n",
    "        print('Not loading weights !')"
   ]
  },
  {
   "cell_type": "code",
   "execution_count": null,
   "metadata": {},
   "outputs": [],
   "source": [
    "df = df[df['fold'] == 0].reset_index(drop=True)\n",
    "pred_val = np.load(EXP_FOLDER + \"pred_val_0.npy\")\n",
    "print('Ref val acc :', accuracy(df['target'], pred_val))"
   ]
  },
  {
   "cell_type": "code",
   "execution_count": null,
   "metadata": {},
   "outputs": [],
   "source": [
    "preds = []\n",
    "times = []\n",
    "\n",
    "# for i in tqdm(range(len(df['path']))):\n",
    "for i in tqdm(range(100)):\n",
    "    path = df['path'][i]\n",
    "    name = f\"{path.split('/')[-2]}_{path.split('/')[-1].split('.')[0]}.npy\"\n",
    "\n",
    "    pq, data = load_relevant_data_subset(path)\n",
    "    \n",
    "    x = torch.from_numpy(data)\n",
    "\n",
    "    t0 = time.time()\n",
    "    x = prepro(x)\n",
    "    y = model(x)\n",
    "    preds.append(y.detach().cpu().numpy().flatten())\n",
    "    t1 = time.time()\n",
    "    \n",
    "    times.append((t1 - t0) * 1000)\n",
    "#     break"
   ]
  },
  {
   "cell_type": "code",
   "execution_count": null,
   "metadata": {},
   "outputs": [],
   "source": [
    "print(f'Runtime : {np.mean(times) :.1f}ms')"
   ]
  },
  {
   "cell_type": "code",
   "execution_count": null,
   "metadata": {},
   "outputs": [],
   "source": [
    "preds = np.stack(preds)"
   ]
  },
  {
   "cell_type": "code",
   "execution_count": null,
   "metadata": {},
   "outputs": [],
   "source": [
    "accuracy(df['target'].head(len(preds)), preds)"
   ]
  },
  {
   "cell_type": "markdown",
   "metadata": {},
   "source": [
    "#### Nobuco"
   ]
  },
  {
   "cell_type": "code",
   "execution_count": null,
   "metadata": {},
   "outputs": [],
   "source": [
    "import nobuco\n",
    "import tensorflow_addons as tfa\n",
    "from nobuco import ChannelOrder, ChannelOrderingStrategy"
   ]
  },
  {
   "cell_type": "code",
   "execution_count": null,
   "metadata": {},
   "outputs": [],
   "source": [
    "@nobuco.converter(torch.nn.functional.mish, channel_ordering_strategy=ChannelOrderingStrategy.MINIMUM_TRANSPOSITIONS)\n",
    "def mish(input: torch.Tensor, inplace: bool = False):\n",
    "    return lambda input, inplace=False: tfa.activations.mish(input)"
   ]
  },
  {
   "cell_type": "code",
   "execution_count": null,
   "metadata": {},
   "outputs": [],
   "source": [
    "@nobuco.converter(torch.Tensor.long, channel_ordering_strategy=ChannelOrderingStrategy.MINIMUM_TRANSPOSITIONS)\n",
    "def long(input: torch.Tensor, inplace: bool = False):\n",
    "    return lambda input, inplace=False: tf.cast(input, tf.int64)"
   ]
  },
  {
   "cell_type": "code",
   "execution_count": null,
   "metadata": {},
   "outputs": [],
   "source": [
    "@nobuco.converter(torch.Tensor.int, channel_ordering_strategy=ChannelOrderingStrategy.MINIMUM_TRANSPOSITIONS)\n",
    "def int(input: torch.Tensor, inplace: bool = False):\n",
    "    return lambda input, inplace=False: tf.cast(input, tf.int32)"
   ]
  },
  {
   "cell_type": "code",
   "execution_count": null,
   "metadata": {},
   "outputs": [],
   "source": [
    "@nobuco.converter(torch.Tensor.amax, channel_ordering_strategy=ChannelOrderingStrategy.FORCE_PYTORCH_ORDER)\n",
    "def amax(input: torch.Tensor, dim=None, keepdim=False):\n",
    "    return lambda input, axis: tf.reduce_max(input, axis=dim)"
   ]
  },
  {
   "cell_type": "code",
   "execution_count": null,
   "metadata": {},
   "outputs": [],
   "source": [
    "@nobuco.converter(torch.gather, channel_ordering_strategy=ChannelOrderingStrategy.MINIMUM_TRANSPOSITIONS)\n",
    "def gather(input, dim, index):\n",
    "    return lambda input, dim, index: tf.gather(input, index)"
   ]
  },
  {
   "cell_type": "code",
   "execution_count": null,
   "metadata": {},
   "outputs": [],
   "source": [
    "@nobuco.converter(torch.zeros, channel_ordering_strategy=ChannelOrderingStrategy.MINIMUM_TRANSPOSITIONS)\n",
    "def zeros(*size):\n",
    "    print(size)\n",
    "    return lambda size: tf.zeros(size)"
   ]
  },
  {
   "cell_type": "code",
   "execution_count": null,
   "metadata": {},
   "outputs": [],
   "source": [
    "path = df['path'][0]\n",
    "pq, data = load_relevant_data_subset(path)\n",
    "inp = torch.from_numpy(prepro_tf(data).numpy()).contiguous()\n",
    "inp.size()"
   ]
  },
  {
   "cell_type": "code",
   "execution_count": null,
   "metadata": {},
   "outputs": [],
   "source": [
    "keras_model = nobuco.pytorch_to_keras(\n",
    "    model,\n",
    "    args=[inp],\n",
    "    input_shapes={inp: (None, 5, 100)},\n",
    "    inputs_channel_order=ChannelOrder.PYTORCH,\n",
    "    outputs_channel_order=ChannelOrder.TENSORFLOW\n",
    ")"
   ]
  },
  {
   "cell_type": "code",
   "execution_count": null,
   "metadata": {},
   "outputs": [],
   "source": [
    "# keras_model.summary()"
   ]
  },
  {
   "cell_type": "code",
   "execution_count": null,
   "metadata": {},
   "outputs": [],
   "source": [
    "preds = []\n",
    "for i in tqdm(range(100)):\n",
    "    path = df['path'][i]\n",
    "    pq, data = load_relevant_data_subset(path)\n",
    "    x = prepro_tf(data)\n",
    "    y = keras_model(x)\n",
    "    preds.append(y.numpy()[0])\n",
    "#     break"
   ]
  },
  {
   "cell_type": "code",
   "execution_count": null,
   "metadata": {},
   "outputs": [],
   "source": [
    "accuracy(df['target'].head(len(preds)), preds)"
   ]
  },
  {
   "cell_type": "markdown",
   "metadata": {},
   "source": [
    "### Prepro + model"
   ]
  },
  {
   "cell_type": "code",
   "execution_count": null,
   "metadata": {},
   "outputs": [],
   "source": [
    "class TFLiteModel(tf.keras.Model):\n",
    "    def __init__(self, prepro, model):\n",
    "        super(TFLiteModel, self).__init__()\n",
    "        self.prepro = prepro\n",
    "        self.model = model\n",
    "    \n",
    "    @tf.function(input_signature=[tf.TensorSpec(shape=[None, 543, 3], dtype=tf.float32, name='inputs')])\n",
    "    def call(self, inputs=None):\n",
    "        x = self.prepro(tf.cast(inputs, dtype=tf.float32))\n",
    "        y = self.model(x)\n",
    "\n",
    "        return {'outputs': y}"
   ]
  },
  {
   "cell_type": "code",
   "execution_count": null,
   "metadata": {},
   "outputs": [],
   "source": [
    "prepro_tf = PreprocessingTF(type_embed, max_len=MAX_LENS[config.processed_folder], model_max_len=config.max_len)"
   ]
  },
  {
   "cell_type": "code",
   "execution_count": null,
   "metadata": {},
   "outputs": [],
   "source": [
    "tflite_keras_model = TFLiteModel(prepro_tf, keras_model)"
   ]
  },
  {
   "cell_type": "code",
   "execution_count": null,
   "metadata": {},
   "outputs": [],
   "source": [
    "preds = []\n",
    "\n",
    "# for i in tqdm(range(len(df['path']))):\n",
    "for i in tqdm(range(1000)):\n",
    "    path = df['path'][i]\n",
    "    name = f\"{path.split('/')[-2]}_{path.split('/')[-1].split('.')[0]}.npy\"\n",
    "\n",
    "    pq, data = load_relevant_data_subset(path)\n",
    "\n",
    "    y = tflite_keras_model(data)\n",
    "    \n",
    "    preds.append(y['outputs'].numpy()[0])\n",
    "#     break"
   ]
  },
  {
   "cell_type": "code",
   "execution_count": null,
   "metadata": {},
   "outputs": [],
   "source": [
    "accuracy(df['target'].head(len(preds)), preds)"
   ]
  },
  {
   "cell_type": "code",
   "execution_count": null,
   "metadata": {},
   "outputs": [],
   "source": [
    "tflite_keras_model.save(EXP_FOLDER + 'model_keras')"
   ]
  },
  {
   "cell_type": "markdown",
   "metadata": {},
   "source": [
    "### TfLite"
   ]
  },
  {
   "cell_type": "code",
   "execution_count": null,
   "metadata": {},
   "outputs": [],
   "source": [
    "converter = tf.lite.TFLiteConverter.from_saved_model(EXP_FOLDER + \"model_keras\")\n",
    "\n",
    "converter.optimizations = [tf.lite.Optimize.DEFAULT]\n",
    "converter.target_spec.supported_types = [tf.float16]\n",
    "\n",
    "# converter.target_spec.supported_ops = [\n",
    "#     tf.lite.OpsSet.TFLITE_BUILTINS, # enable TensorFlow Lite ops.\n",
    "#     tf.lite.OpsSet.SELECT_TF_OPS # enable TensorFlow ops.\n",
    "# ]\n",
    "\n",
    "tflite_model = converter.convert()\n",
    "\n",
    "with open(EXP_FOLDER + 'model.tflite', 'wb') as f:\n",
    "    f.write(tflite_model)"
   ]
  },
  {
   "cell_type": "code",
   "execution_count": null,
   "metadata": {},
   "outputs": [],
   "source": [
    "from tflite_runtime.interpreter import Interpreter\n",
    "\n",
    "interpreter = Interpreter(EXP_FOLDER + \"model.tflite\")\n",
    "\n",
    "prediction_fn = interpreter.get_signature_runner(\"serving_default\")\n",
    "\n",
    "output = prediction_fn(inputs=data)\n",
    "output['outputs'].max()"
   ]
  },
  {
   "cell_type": "code",
   "execution_count": null,
   "metadata": {},
   "outputs": [],
   "source": [
    "preds = []\n",
    "times = []\n",
    "# for i in tqdm(range(len(df['path']))):\n",
    "for i in tqdm(range(1000)):\n",
    "    path = df['path'][i]\n",
    "    name = f\"{path.split('/')[-2]}_{path.split('/')[-1].split('.')[0]}.npy\"\n",
    "\n",
    "    pq, data = load_relevant_data_subset(path)\n",
    "\n",
    "    t0 = time.time()\n",
    "    output = prediction_fn(inputs=data)\n",
    "    t1 = time.time()\n",
    "\n",
    "    preds.append(output['outputs'])\n",
    "    times.append((t1 - t0) * 1000)\n",
    "    \n",
    "#     break"
   ]
  },
  {
   "cell_type": "code",
   "execution_count": null,
   "metadata": {},
   "outputs": [],
   "source": [
    "accuracy(df['target'].head(len(preds)), preds)"
   ]
  },
  {
   "cell_type": "code",
   "execution_count": null,
   "metadata": {},
   "outputs": [],
   "source": [
    "accuracy(df['target'].head(len(preds)), pred_val[:len(preds)])"
   ]
  },
  {
   "cell_type": "code",
   "execution_count": null,
   "metadata": {},
   "outputs": [],
   "source": [
    "print(f'-> Runtime : {np.mean(times) :.1f}ms')\n",
    "\n",
    "if np.mean(times) > 100:\n",
    "    print(\"\\n WARNING ! Runtime must be < 100 ms !\")"
   ]
  },
  {
   "cell_type": "markdown",
   "metadata": {},
   "source": [
    "### Size & upload"
   ]
  },
  {
   "cell_type": "code",
   "execution_count": null,
   "metadata": {},
   "outputs": [],
   "source": [
    "size = os.path.getsize(EXP_FOLDER + 'model.tflite') / np.power(1024, 2)\n",
    "print(f\"-> Model size : {size:.3f} Mo\")\n",
    "\n",
    "assert size < 40, \"Model size must be < 40 Mo !\""
   ]
  },
  {
   "cell_type": "code",
   "execution_count": null,
   "metadata": {},
   "outputs": [],
   "source": [
    "upload_to_kaggle([EXP_FOLDER], \"/workspace/datasets/islr_weights_1/\", \"ISLR Models\", update_folders=False)"
   ]
  },
  {
   "cell_type": "markdown",
   "metadata": {},
   "source": [
    "Done ! "
   ]
  }
 ],
 "metadata": {
  "kernelspec": {
   "display_name": "Python 3 (ipykernel)",
   "language": "python",
   "name": "python3"
  },
  "language_info": {
   "codemirror_mode": {
    "name": "ipython",
    "version": 3
   },
   "file_extension": ".py",
   "mimetype": "text/x-python",
   "name": "python",
   "nbconvert_exporter": "python",
   "pygments_lexer": "ipython3",
   "version": "3.8.10"
  }
 },
 "nbformat": 4,
 "nbformat_minor": 4
}
