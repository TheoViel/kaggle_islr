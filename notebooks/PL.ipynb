{
 "cells": [
  {
   "cell_type": "markdown",
   "metadata": {},
   "source": [
    "**About** : This notebook is used to generate PLs."
   ]
  },
  {
   "cell_type": "code",
   "execution_count": null,
   "metadata": {},
   "outputs": [],
   "source": [
    "# %load_ext nb_black\n",
    "%load_ext autoreload\n",
    "%autoreload 2"
   ]
  },
  {
   "cell_type": "code",
   "execution_count": null,
   "metadata": {},
   "outputs": [],
   "source": [
    "cd ../src/"
   ]
  },
  {
   "cell_type": "markdown",
   "metadata": {},
   "source": [
    "## Initialization"
   ]
  },
  {
   "cell_type": "markdown",
   "metadata": {},
   "source": [
    "### Imports"
   ]
  },
  {
   "cell_type": "code",
   "execution_count": null,
   "metadata": {},
   "outputs": [],
   "source": [
    "import os\n",
    "import torch\n",
    "\n",
    "print(torch.__version__)\n",
    "os.environ['CUDA_VISIBLE_DEVICES'] = \"1\"\n",
    "torch.cuda.get_device_name(0)"
   ]
  },
  {
   "cell_type": "code",
   "execution_count": null,
   "metadata": {},
   "outputs": [],
   "source": [
    "import os\n",
    "import re\n",
    "import cv2\n",
    "import sys\n",
    "import glob\n",
    "import json\n",
    "import torch\n",
    "import warnings\n",
    "import numpy as np\n",
    "import pandas as pd\n",
    "import seaborn as sns\n",
    "import matplotlib.pyplot as plt\n",
    "\n",
    "from tqdm import tqdm\n",
    "from sklearn.metrics import *\n",
    "\n",
    "warnings.simplefilter(action=\"ignore\", category=FutureWarning)\n",
    "warnings.simplefilter(action=\"ignore\", category=UserWarning)"
   ]
  },
  {
   "cell_type": "code",
   "execution_count": null,
   "metadata": {},
   "outputs": [],
   "source": [
    "from utils.logger import Config, upload_to_kaggle\n",
    "\n",
    "from params import *\n",
    "from data.dataset import BreastDataset\n",
    "from data.preparation import *\n",
    "from data.transforms import get_transfos\n",
    "\n",
    "from model_zoo.models import define_model\n",
    "from utils.metrics import *\n",
    "from utils.torch import load_model_weights\n",
    "from utils.plots import plot_confusion_matrix\n",
    "\n",
    "from inference.predict import predict, predict_tta\n",
    "from inference.main import *"
   ]
  },
  {
   "cell_type": "markdown",
   "metadata": {},
   "source": [
    "### Expes"
   ]
  },
  {
   "cell_type": "code",
   "execution_count": null,
   "metadata": {},
   "outputs": [],
   "source": [
    "EXP_FOLDERS = [  # 1536x1024   0.5102  -  th=0.20  -  auc 0.9263  -  pct=98.367   LB 0.61\n",
    "#     \"../logs/2023-02-09/13/\",  # nfl1 - 1536x1024  LR=3e-4  5ep gem CBIS           0.4734  -  th=0.23  -  auc 0.9141\n",
    "    \"../logs/2023-02-10/1/\",  # nfl1 - 1536x1024  LR=3e-4  6ep gem CBIS           0.4756  -  th=0.20  -  auc 0.9127\n",
    "    \"../logs/2023-02-10/2/\",  # nfl1 - 1536x1024  LR=4e-4  5ep gem CBIS CMMD      0.4703  -  th=0.19  -  auc 0.9125\n",
    "    \"../logs/2023-02-10/5/\",  # v2-s - 1536x1024  LR=3e-4  5ep gem CBIS           0.4701  -  th=0.24  -  auc 0.9182\n",
    "    \"../logs/2023-02-10/6/\",   # v2-s - 1536x1024  LR=4e-4  5ep gem CBIS           0.4771  -  th=0.27  -  auc 0.9190\n",
    "]"
   ]
  },
  {
   "cell_type": "code",
   "execution_count": null,
   "metadata": {},
   "outputs": [],
   "source": [
    "# EXP_FOLDERS = [  # 1536x1024   0.5401  -  th=0.21  -  auc 0.9317  -  pct=98.51\n",
    "#     \"../logs/2023-02-10/1/\",   # nfl1 - 1536x1024  LR=3e-4  6ep gem CBIS           0.4756  -  th=0.20  -  auc 0.9127\n",
    "#     \"../logs/2023-02-10/6/\",   # v2-s - 1536x1024  LR=4e-4  5ep gem CBIS           0.4771  -  th=0.27  -  auc 0.9190\n",
    "#     \"../logs/2023-02-10/16/\",  # v2-m - 1536x1024  LR=3e-4  5ep bs6 CBIS CMMD PASM  0.4858  -  th=0.23  -  auc 0.9152\n",
    "#     \"../logs/2023-02-11/1/\",   # nfl2 - 1536x1024  LR=4e-4  5ep bs8 CBIS            0.4881  -  th=0.21  -  auc 0.8994\n",
    "#     \"../logs/2023-02-11/3/\",   # nfl2 - 1536x1024  LR=3e-4  5ep bs8 CBIS CMMD PASM  0.4837  -  th=0.25  -  auc 0.9106\n",
    "# ]"
   ]
  },
  {
   "cell_type": "markdown",
   "metadata": {},
   "source": [
    "### Main"
   ]
  },
  {
   "cell_type": "code",
   "execution_count": null,
   "metadata": {},
   "outputs": [],
   "source": [
    "EXP_FOLDER = EXP_FOLDERS[0]"
   ]
  },
  {
   "cell_type": "code",
   "execution_count": null,
   "metadata": {},
   "outputs": [],
   "source": [
    "DEBUG = False\n",
    "SAVE = True\n",
    "USE_FP16 = True"
   ]
  },
  {
   "cell_type": "code",
   "execution_count": null,
   "metadata": {},
   "outputs": [],
   "source": [
    "config = Config(json.load(open(EXP_FOLDER + \"config.json\", \"r\")))"
   ]
  },
  {
   "cell_type": "code",
   "execution_count": null,
   "metadata": {},
   "outputs": [],
   "source": [
    "df = prepare_vindr_data(DATA_PATH, DATA_PATH + \"vindr_\" + config.img_folder)"
   ]
  },
  {
   "cell_type": "code",
   "execution_count": null,
   "metadata": {},
   "outputs": [],
   "source": [
    "import os\n",
    "import json\n",
    "import glob\n",
    "import numpy as np\n",
    "import pandas as pd\n",
    "\n",
    "from data.dataset import BreastDataset\n",
    "from data.transforms import get_transfos\n",
    "from model_zoo.models import define_model\n",
    "from utils.logger import Config\n",
    "from utils.metrics import tweak_thresholds\n",
    "from utils.torch import load_model_weights\n",
    "from inference.predict import predict, predict_tta\n",
    "\n",
    "\n",
    "def kfold_inference_pl(df, exp_folder, debug=False, save=True, use_fp16=False):\n",
    "    config = Config(json.load(open(exp_folder + \"config.json\", \"r\")))\n",
    "\n",
    "    model = define_model(\n",
    "        config.name,\n",
    "        num_classes=config.num_classes,\n",
    "        num_classes_aux=config.num_classes_aux,\n",
    "        n_channels=config.n_channels,\n",
    "        reduce_stride=config.reduce_stride,\n",
    "        use_gem=config.use_gem,\n",
    "        pretrained=False,\n",
    "    )\n",
    "    model = model.cuda().eval()\n",
    "\n",
    "    weights = [f for f in sorted(glob.glob(exp_folder + \"*.pt\")) if \"fullfit\" not in f]\n",
    "    folds = [int(w[-4]) for w in weights]\n",
    "\n",
    "    save_folder = \"\"\n",
    "    if save:\n",
    "        save_folder = exp_folder + \"pl/\"\n",
    "        os.makedirs(save_folder, exist_ok=True)\n",
    "\n",
    "    for fold in folds:\n",
    "        print(f\"\\n- Fold {fold + 1}\")\n",
    "\n",
    "        df_val = df.copy()\n",
    "        if debug:\n",
    "            df_val = df_val.head(4)\n",
    "\n",
    "        dataset = BreastDataset(\n",
    "            df_val,\n",
    "            transforms=get_transfos(augment=False, resize=config.resize),\n",
    "        )\n",
    "\n",
    "        weight = weights[folds.index(fold)]\n",
    "        model = load_model_weights(model, weight, verbose=1)\n",
    "\n",
    "        pred_val, _ = predict(\n",
    "            model,\n",
    "            dataset,\n",
    "            config.loss_config,\n",
    "            batch_size=config.data_config[\"val_bs\"],\n",
    "            use_fp16=use_fp16,\n",
    "        )\n",
    "\n",
    "        if debug:\n",
    "            return pred_val\n",
    "\n",
    "        if save:\n",
    "            np.save(save_folder + f\"pred_pl_{fold}.npy\", pred_val)"
   ]
  },
  {
   "cell_type": "code",
   "execution_count": null,
   "metadata": {},
   "outputs": [],
   "source": [
    "for exp_folder in tqdm(EXP_FOLDERS):\n",
    "    pred = kfold_inference_pl(\n",
    "        df, exp_folder, debug=DEBUG, save=SAVE,use_fp16=USE_FP16\n",
    "    )"
   ]
  },
  {
   "cell_type": "markdown",
   "metadata": {},
   "source": [
    "### Results"
   ]
  },
  {
   "cell_type": "code",
   "execution_count": null,
   "metadata": {},
   "outputs": [],
   "source": [
    "for fold in range(4):\n",
    "    preds = []\n",
    "    for exp_folder in EXP_FOLDERS:\n",
    "        preds.append(np.load(exp_folder + f\"pl/pred_pl_{fold}.npy\"))\n",
    "    df[f'pred_pl_{fold}'] = np.mean(preds, 0)"
   ]
  },
  {
   "cell_type": "code",
   "execution_count": null,
   "metadata": {},
   "outputs": [],
   "source": [
    "df['pred_pl_fullfit'] = df[['pred_pl_0', 'pred_pl_1', 'pred_pl_2', 'pred_pl_3']].values.mean(-1)"
   ]
  },
  {
   "cell_type": "code",
   "execution_count": null,
   "metadata": {},
   "outputs": [],
   "source": [
    "df.to_csv('../input/vindr_pl.csv', index=False)"
   ]
  },
  {
   "cell_type": "code",
   "execution_count": null,
   "metadata": {},
   "outputs": [],
   "source": [
    "df[['BIRADS', 'pred_pl_fullfit']].groupby('BIRADS').mean()"
   ]
  },
  {
   "cell_type": "code",
   "execution_count": null,
   "metadata": {},
   "outputs": [],
   "source": [
    "df[['BIRADS', 'pred_pl_fullfit']].groupby('BIRADS').max()"
   ]
  },
  {
   "cell_type": "code",
   "execution_count": null,
   "metadata": {},
   "outputs": [],
   "source": [
    "# df_pl = prepare_pl_data(DATA_PATH, \"vindr_yolox_1536_1024/\", fold=\"fullfit\")"
   ]
  },
  {
   "cell_type": "markdown",
   "metadata": {},
   "source": [
    "Done ! "
   ]
  }
 ],
 "metadata": {
  "kernelspec": {
   "display_name": "Python 3 (ipykernel)",
   "language": "python",
   "name": "python3"
  },
  "language_info": {
   "codemirror_mode": {
    "name": "ipython",
    "version": 3
   },
   "file_extension": ".py",
   "mimetype": "text/x-python",
   "name": "python",
   "nbconvert_exporter": "python",
   "pygments_lexer": "ipython3",
   "version": "3.8.10"
  }
 },
 "nbformat": 4,
 "nbformat_minor": 4
}
