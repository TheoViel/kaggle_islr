{
 "cells": [
  {
   "cell_type": "markdown",
   "metadata": {},
   "source": [
    "**About** : This notebook is used to train models."
   ]
  },
  {
   "cell_type": "code",
   "execution_count": null,
   "metadata": {},
   "outputs": [],
   "source": [
    "# %load_ext nb_black\n",
    "%load_ext autoreload\n",
    "%autoreload 2"
   ]
  },
  {
   "cell_type": "code",
   "execution_count": null,
   "metadata": {},
   "outputs": [],
   "source": [
    "cd ../src/"
   ]
  },
  {
   "cell_type": "markdown",
   "metadata": {},
   "source": [
    "## Initialization"
   ]
  },
  {
   "cell_type": "markdown",
   "metadata": {},
   "source": [
    "### Imports"
   ]
  },
  {
   "cell_type": "code",
   "execution_count": null,
   "metadata": {},
   "outputs": [],
   "source": [
    "import os\n",
    "import torch\n",
    "\n",
    "print(torch.__version__)\n",
    "os.environ['CUDA_VISIBLE_DEVICES'] = \"0\"\n",
    "device = torch.cuda.get_device_name(0)\n",
    "print(device)"
   ]
  },
  {
   "cell_type": "code",
   "execution_count": null,
   "metadata": {},
   "outputs": [],
   "source": [
    "import os\n",
    "import sys\n",
    "import glob\n",
    "import json\n",
    "import cudf\n",
    "import torch\n",
    "import warnings\n",
    "import numpy as np\n",
    "import pandas as pd\n",
    "import seaborn as sns\n",
    "import matplotlib.pyplot as plt\n",
    "\n",
    "from tqdm import tqdm\n",
    "from sklearn.metrics import *\n",
    "\n",
    "pd.set_option('display.width', 500)\n",
    "pd.set_option('max_colwidth', 100)"
   ]
  },
  {
   "cell_type": "code",
   "execution_count": null,
   "metadata": {},
   "outputs": [],
   "source": [
    "from params import *\n",
    "from utils.plots import *\n",
    "from data.preparation import *"
   ]
  },
  {
   "cell_type": "markdown",
   "metadata": {},
   "source": [
    "## Data preparation"
   ]
  },
  {
   "cell_type": "code",
   "execution_count": null,
   "metadata": {},
   "outputs": [],
   "source": [
    "df = prepare_data(DATA_PATH)"
   ]
  },
  {
   "cell_type": "code",
   "execution_count": null,
   "metadata": {},
   "outputs": [],
   "source": [
    "df.head()"
   ]
  },
  {
   "cell_type": "code",
   "execution_count": null,
   "metadata": {},
   "outputs": [],
   "source": [
    "def process_sign_2(path, remove_face=True):\n",
    "    sign = cudf.read_parquet(path, columns=['frame', 'type', 'landmark_index', 'x', 'y', 'z'])\n",
    "    \n",
    "    for k in FACE_LANDMARKS.keys():\n",
    "        sign.loc[(sign['landmark_index'].isin(FACE_LANDMARKS[k])) & (sign['type'] == \"face\"), 'type'] = k\n",
    "        \n",
    "    sign.loc[(sign['landmark_index'].isin(ARM_LANDMARKS)) & (sign['type'] == \"pose\"), 'type'] = \"arm\"\n",
    "    \n",
    "    if remove_face:\n",
    "        sign = sign[sign['type'] != \"face\"].reset_index(drop=True)\n",
    "        sign = sign[sign['type'] != \"pose\"].reset_index(drop=True)\n",
    "\n",
    "    sign['type'] = sign['type'].map(TYPE_MAPPING)\n",
    "\n",
    "    sign[['x', 'y', 'z']].fillna(-10, inplace=True)\n",
    "    assert not sign.isna().sum().max()\n",
    "\n",
    "    dfg = sign[[\"frame\", \"type\", \"x\", \"y\", \"z\"]].astype('float32').groupby('frame').agg(list)\n",
    "    return np.array(dfg.to_pandas().values.tolist()), sign"
   ]
  },
  {
   "cell_type": "code",
   "execution_count": null,
   "metadata": {},
   "outputs": [],
   "source": [
    "def filter_sign(sign):\n",
    "    frames_to_remove = sign[sign[\"type\"].isin(['right_hand', \"left_hand\"])].copy()\n",
    "    frames_to_remove['x'] = frames_to_remove['x'].isna()\n",
    "    frames_to_remove = frames_to_remove[[\"frame\", \"x\"]].groupby(['frame']).mean()\n",
    "\n",
    "    frames_to_remove = frames_to_remove[frames_to_remove['x'] == 1].index.values.tolist()\n",
    "\n",
    "    sign = sign[~sign['frame'].isin(frames_to_remove)]\n",
    "    \n",
    "    n_frames = len(sign) // 543\n",
    "    divisor = (n_frames - 50) // 50 + 1\n",
    "    if divisor:\n",
    "        sign = sign[(sign['frame'] % divisor) == 0]\n",
    "        \n",
    "    return sign"
   ]
  },
  {
   "cell_type": "code",
   "execution_count": null,
   "metadata": {},
   "outputs": [],
   "source": [
    "def process_sign_3(path, remove_face=True):\n",
    "    sign = cudf.read_parquet(path, columns=['frame', 'type', 'landmark_index', 'x', 'y', 'z'])\n",
    "    \n",
    "    if len(sign) // 543 > 50:  # Remove no hands & use stride\n",
    "        sign = filter_sign(sign)\n",
    "    \n",
    "    # Remove useless landmarks\n",
    "    for k in FACE_LANDMARKS.keys():\n",
    "        sign.loc[(sign['landmark_index'].isin(FACE_LANDMARKS[k])) & (sign['type'] == \"face\"), 'type'] = k\n",
    "    sign.loc[(sign['landmark_index'].isin(ARM_LANDMARKS)) & (sign['type'] == \"pose\"), 'type'] = \"arm\"\n",
    "    \n",
    "    if remove_face:\n",
    "        sign = sign[sign['type'] != \"face\"].reset_index(drop=True)\n",
    "        sign = sign[sign['type'] != \"pose\"].reset_index(drop=True)\n",
    "\n",
    "    # Map type & fill nans\n",
    "    sign['type'] = sign['type'].map(TYPE_MAPPING)\n",
    "\n",
    "    sign[['x', 'y', 'z']].fillna(-10, inplace=True)\n",
    "    assert not sign.isna().sum().max()\n",
    "\n",
    "    # Group by frame\n",
    "    dfg = sign[[\"frame\", \"type\", \"x\", \"y\", \"z\"]].astype('float32').groupby('frame').agg(list)\n",
    "    return np.array(dfg.to_pandas().values.tolist()), sign"
   ]
  },
  {
   "cell_type": "code",
   "execution_count": null,
   "metadata": {},
   "outputs": [],
   "source": [
    "save_folder = '../input/processed_3/'\n",
    "os.makedirs(save_folder, exist_ok=True)\n",
    "    \n",
    "for i in tqdm(range(len(df))):\n",
    "    path = df['path'][i]\n",
    "    name = f\"{path.split('/')[-2]}_{path.split('/')[-1].split('.')[0]}.npy\"\n",
    "    \n",
    "#     if os.path.exists(save_folder + name):\n",
    "#         continue\n",
    "\n",
    "    x, sign = process_sign_3(path, remove_face=True)\n",
    "    np.save(save_folder + name, x)\n",
    "    \n",
    "#     break"
   ]
  },
  {
   "cell_type": "code",
   "execution_count": null,
   "metadata": {},
   "outputs": [],
   "source": [
    "%%time\n",
    "x, sign = process_sign_3(df[\"path\"][0], remove_face=True)"
   ]
  },
  {
   "cell_type": "code",
   "execution_count": null,
   "metadata": {},
   "outputs": [],
   "source": [
    "x.shape"
   ]
  },
  {
   "cell_type": "markdown",
   "metadata": {},
   "source": [
    "### Plot"
   ]
  },
  {
   "cell_type": "code",
   "execution_count": null,
   "metadata": {},
   "outputs": [],
   "source": [
    "idx = 0\n",
    "for idx in range(100):\n",
    "    sign = cudf.read_parquet(df['path'][idx])\n",
    "    sign['y'] *= -1\n",
    "\n",
    "    frames_to_remove = sign[sign[\"type\"].isin(['right_hand', \"left_hand\"])]\n",
    "    frames_to_remove['x'] = frames_to_remove['x'].isna()\n",
    "    frames_to_remove = frames_to_remove[[\"frame\", \"x\"]].groupby(['frame']).mean()\n",
    "    \n",
    "    frames_to_remove = frames_to_remove[frames_to_remove['x'] == 1].index.values.tolist()\n",
    "\n",
    "    sign = sign[~sign['frame'].isin(frames_to_remove)]\n",
    "\n",
    "    n_frames = len(sign) // 543\n",
    "    \n",
    "    if n_frames > 50:\n",
    "        print(idx, n_frames)\n",
    "#     break\n",
    "        "
   ]
  },
  {
   "cell_type": "code",
   "execution_count": null,
   "metadata": {},
   "outputs": [],
   "source": [
    "idx = 331  # 45\n",
    "sign = pd.read_parquet(df['path'][idx])\n",
    "sign['y'] *= -1\n",
    "\n",
    "frames_to_remove = sign[sign[\"type\"].isin(['right_hand', \"left_hand\"])].copy()\n",
    "frames_to_remove['x'] = frames_to_remove['x'].isna()\n",
    "frames_to_remove = frames_to_remove[[\"frame\", \"x\"]].groupby(['frame']).mean()\n",
    "\n",
    "frames_to_remove = frames_to_remove[frames_to_remove['x'] == 1].index.values.tolist()\n",
    "\n",
    "sign = sign[~sign['frame'].isin(frames_to_remove)]"
   ]
  },
  {
   "cell_type": "code",
   "execution_count": null,
   "metadata": {},
   "outputs": [],
   "source": [
    "n_frames_before = len(sign)  // 543\n",
    "\n",
    "# n_frames = 500\n",
    "divisor = (n_frames - 50) // 50 + 1\n",
    "if divisor:\n",
    "    sign = sign[(sign['frame'] % divisor) == 0]\n",
    "    \n",
    "n_frames_after = len(sign)  // 543\n",
    "\n",
    "print(f'Frames {n_frames_before} -> {n_frames_after}')"
   ]
  },
  {
   "cell_type": "code",
   "execution_count": null,
   "metadata": {},
   "outputs": [],
   "source": []
  },
  {
   "cell_type": "code",
   "execution_count": null,
   "metadata": {},
   "outputs": [],
   "source": [
    "animate(sign, label=df['sign'][idx])"
   ]
  },
  {
   "cell_type": "markdown",
   "metadata": {},
   "source": [
    "Done ! "
   ]
  }
 ],
 "metadata": {
  "kernelspec": {
   "display_name": "Python 3 (ipykernel)",
   "language": "python",
   "name": "python3"
  },
  "language_info": {
   "codemirror_mode": {
    "name": "ipython",
    "version": 3
   },
   "file_extension": ".py",
   "mimetype": "text/x-python",
   "name": "python",
   "nbconvert_exporter": "python",
   "pygments_lexer": "ipython3",
   "version": "3.8.10"
  },
  "vscode": {
   "interpreter": {
    "hash": "f7241b2af102f7e024509099765066b36197b195077f7bfac6e5bc041ba17c8c"
   }
  }
 },
 "nbformat": 4,
 "nbformat_minor": 4
}
