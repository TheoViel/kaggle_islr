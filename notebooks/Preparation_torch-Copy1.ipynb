{
 "cells": [
  {
   "cell_type": "markdown",
   "metadata": {},
   "source": [
    "**About** : This notebook is used to infer models."
   ]
  },
  {
   "cell_type": "code",
   "execution_count": null,
   "metadata": {},
   "outputs": [],
   "source": [
    "# %load_ext nb_black\n",
    "%load_ext autoreload\n",
    "%autoreload 2"
   ]
  },
  {
   "cell_type": "code",
   "execution_count": null,
   "metadata": {},
   "outputs": [],
   "source": [
    "cd ../src/"
   ]
  },
  {
   "cell_type": "markdown",
   "metadata": {},
   "source": [
    "## Initialization"
   ]
  },
  {
   "cell_type": "markdown",
   "metadata": {},
   "source": [
    "### Imports"
   ]
  },
  {
   "cell_type": "code",
   "execution_count": null,
   "metadata": {},
   "outputs": [],
   "source": [
    "import os\n",
    "import torch\n",
    "\n",
    "print(torch.__version__)\n",
    "os.environ['CUDA_VISIBLE_DEVICES'] = \"1\"\n",
    "torch.cuda.get_device_name(0)"
   ]
  },
  {
   "cell_type": "code",
   "execution_count": null,
   "metadata": {},
   "outputs": [],
   "source": [
    "import os\n",
    "import re\n",
    "import cv2\n",
    "import sys\n",
    "import glob\n",
    "import json\n",
    "import time\n",
    "import torch\n",
    "import warnings\n",
    "import numpy as np\n",
    "import pandas as pd\n",
    "import seaborn as sns\n",
    "import matplotlib.pyplot as plt\n",
    "\n",
    "from tqdm import tqdm\n",
    "from sklearn.metrics import *\n",
    "\n",
    "warnings.simplefilter(action=\"ignore\", category=FutureWarning)\n",
    "warnings.simplefilter(action=\"ignore\", category=UserWarning)"
   ]
  },
  {
   "cell_type": "code",
   "execution_count": null,
   "metadata": {},
   "outputs": [],
   "source": [
    "from utils.logger import Config, upload_to_kaggle\n",
    "\n",
    "from params import *\n",
    "from data.dataset import SignDataset\n",
    "from data.preparation import *\n",
    "\n",
    "from model_zoo.models import define_model\n",
    "from utils.metrics import *\n",
    "from utils.torch import load_model_weights\n",
    "from utils.plots import plot_sample\n",
    "# from utils.plots import plot_confusion_matrix\n",
    "\n",
    "from inference.predict import predict, predict_tta\n",
    "# from inference.main import *"
   ]
  },
  {
   "cell_type": "code",
   "execution_count": null,
   "metadata": {},
   "outputs": [],
   "source": [
    "df = prepare_data(DATA_PATH, \"\")"
   ]
  },
  {
   "cell_type": "markdown",
   "metadata": {},
   "source": [
    "### Preprocessing"
   ]
  },
  {
   "cell_type": "code",
   "execution_count": null,
   "metadata": {},
   "outputs": [],
   "source": [
    "import pickle"
   ]
  },
  {
   "cell_type": "code",
   "execution_count": null,
   "metadata": {},
   "outputs": [],
   "source": [
    "# data = pickle.load(open('../input/0.pkl', 'rb'))['keypoints']\n",
    "# # data = pickle.load(open('../input/24.pkl', 'rb'))['keypoints']\n"
   ]
  },
  {
   "cell_type": "code",
   "execution_count": null,
   "metadata": {},
   "outputs": [],
   "source": [
    "ROWS_PER_FRAME = 543  # number of landmarks per frame\n",
    "\n",
    "def load_relevant_data_subset(pq_path):\n",
    "    df = pd.read_parquet(pq_path)\n",
    "    n_frames = int(len(df) / ROWS_PER_FRAME)\n",
    "    data = df[['x', 'y', 'z']].values.reshape(n_frames, ROWS_PER_FRAME, 3)\n",
    "    return df, data.astype(np.float32)"
   ]
  },
  {
   "cell_type": "code",
   "execution_count": null,
   "metadata": {},
   "outputs": [],
   "source": [
    "KEPT_LANDMARKS = [\n",
    "    [10, 297, 284, 389, 454, 361, 397, 379, 400, 152, 176, 150, 172, 132, 234, 162, 54, 67],  # silhouette\n",
    "    [61, 40, 37, 267, 270, 291, 91, 84, 314, 321, 191, 81, 13, 311, 415, 78, 88, 87, 317, 318, 308],  # lips\n",
    "    [205, 425],  # cheeks\n",
    "    [500, 501, 502, 503, 504, 505, 506, 507, 508, 509, 510, 511], # arms\n",
    "    [468, 469, 470, 471, 472, 473, 474, 475, 476, 477, 478, 479, 480, 481, 482, 483, 484, 485, 486, 487, 488],  # left hand\n",
    "    [522, 523, 524, 525, 526, 527, 528, 529, 530, 531, 532, 533, 534, 535, 536, 537, 538, 539, 540, 541, 542],  # right hand\n",
    "#     [374],  # left_eye\n",
    "#     [296],  # left_eyebrow\n",
    "#     [145],  # right_eye\n",
    "#     [66],  # right_eyebrow\n",
    "#     [1],  # nose\n",
    "]\n",
    "MAPPING = [11, 6, 2, 1, 5, 10] # + [3, 4, 8, 9, 7]"
   ]
  },
  {
   "cell_type": "code",
   "execution_count": null,
   "metadata": {},
   "outputs": [],
   "source": [
    "TO_AVG = [\n",
    "    [466, 387, 385, 398, 263, 390, 374, 381, 362],  # left_eye\n",
    "    [383, 293, 296, 285],  # left_eyebrow\n",
    "    [246, 160, 158, 173, 33, 163, 145, 154, 133],  # right_eye\n",
    "    [156, 63, 66, 55],  # right_eyebrow\n",
    "    [1, 2, 98, 327, 168],  # nose\n",
    "]"
   ]
  },
  {
   "cell_type": "code",
   "execution_count": null,
   "metadata": {},
   "outputs": [],
   "source": [
    "import torch\n",
    "import torch.nn as nn\n",
    "import torch.nn.functional as F\n",
    "\n",
    "\n",
    "class Preprocessing(nn.Module):\n",
    "    def __init__(self, type_embed, max_len=50):\n",
    "        super(Preprocessing, self).__init__()\n",
    "\n",
    "        self.type_embed = torch.from_numpy(type_embed[None, :].astype(np.float32))\n",
    "        self.type_embed = self.type_embed.repeat(1000, 1)\n",
    "\n",
    "        self.landmark_embed = torch.tensor(np.arange(120)).float().unsqueeze(0) + 1\n",
    "        self.landmark_embed = self.landmark_embed.repeat(1000, 1)\n",
    "        \n",
    "#         self.ids = torch.from_numpy(np.sort(np.concatenate(KEPT_LANDMARKS)))\n",
    "        self.ids = torch.tensor([\n",
    "            10,  13,  37,  40,  54,  61,  67,  78,  81,  84,  87,  88,  91, 132,\n",
    "            150, 152, 162, 172, 176, 191, 205, 234, 267, 270, 284, 291, 297, 308,\n",
    "            311, 314, 317, 318, 321, 361, 379, 389, 397, 400, 415, 425, 454, 468,\n",
    "            469, 470, 471, 472, 473, 474, 475, 476, 477, 478, 479, 480, 481, 482,\n",
    "            483, 484, 485, 486, 487, 488, 500, 501, 502, 503, 504, 505, 506, 507,\n",
    "            508, 509, 510, 511, 522, 523, 524, 525, 526, 527, 528, 529, 530, 531,\n",
    "            532, 533, 534, 535, 536, 537, 538, 539, 540, 541, 542\n",
    "        ])\n",
    "\n",
    "        self.to_avg = [\n",
    "            torch.tensor([466, 387, 385, 398, 263, 390, 374, 381, 362]),\n",
    "            torch.tensor([383, 293, 296, 285]),\n",
    "            torch.tensor([246, 160, 158, 173, 33, 163, 145, 154, 133]),\n",
    "            torch.tensor([156, 63, 66, 55]),\n",
    "            torch.tensor([1, 2, 98, 327, 168])\n",
    "        ]\n",
    "\n",
    "        self.hands = torch.tensor(\n",
    "            [468, 469, 470, 471, 472, 473, 474, 475, 476, 477, 478, 479, 480, 481, 482, 483, 484, 485, 486, 487, 488] + \n",
    "            [522, 523, 524, 525, 526, 527, 528, 529, 530, 531, 532, 533, 534, 535, 536, 537, 538, 539, 540, 541, 542]\n",
    "        )\n",
    "        \n",
    "        self.frames = torch.tensor(np.arange(1000) + 1)\n",
    "        \n",
    "        self.max_len = torch.tensor([max_len])\n",
    "        self.min_1 = torch.tensor([1])\n",
    "\n",
    "    def filter_sign(self, x):\n",
    "        hands = x[:, self.hands, 0]\n",
    "        nan_prop = torch.isnan(hands).float().mean(-1)            \n",
    "        x = x[torch.where(nan_prop < 1)[0]]\n",
    "        \n",
    "        length = self.frames[:x.size(0)].max().unsqueeze(0)\n",
    "        sz = torch.cat([length, self.max_len]).max()\n",
    "        \n",
    "        divisor = ((sz - self.max_len) / self.max_len + 1).int()\n",
    "        ids = (self.frames[:x.size(0)] % divisor) == 0\n",
    "        \n",
    "        return x[ids]\n",
    "        \n",
    "    def forward(self, x):\n",
    "        x = self.filter_sign(x)\n",
    "        n_frames = x.shape[0]     \n",
    "        \n",
    "        avg_ids = []\n",
    "        for ids in self.to_avg:\n",
    "            avg_id = x[:, ids].mean(1, keepdims=True)\n",
    "            avg_ids.append(avg_id)\n",
    "\n",
    "        x = torch.cat([x[:, self.ids]] + avg_ids, 1)\n",
    "\n",
    "        type_embed = self.type_embed[:n_frames]\n",
    "        landmark_embed = self.landmark_embed[:n_frames, :x.shape[1]]\n",
    "        \n",
    "        # Normalize & fill nans\n",
    "        nonan = x[~torch.isnan(x)].view(-1, x.shape[-1])\n",
    "        x = x - nonan.mean(0)[None, None, :]\n",
    "        x = x / nonan.std(0, unbiased=False)[None, None, :]\n",
    "        x[torch.isnan(x)] = 0\n",
    "\n",
    "        # Concat\n",
    "        x = torch.cat([\n",
    "            type_embed.unsqueeze(-1), x # , landmark_embed.unsqueeze(-1)\n",
    "        ], -1).transpose(1, 2)\n",
    "\n",
    "# #         Resize\n",
    "#         x = x.contiguous().view(x.size(0), -1).transpose(0, 1)\n",
    "#         x = F.interpolate(x.unsqueeze(1), 50).squeeze(1)\n",
    "#         x = x.transpose(0, 1).contiguous().view(50, 5, -1)\n",
    "        \n",
    "        # Crop\n",
    "#         x = x[:self.max_len]\n",
    "        \n",
    "        return x"
   ]
  },
  {
   "cell_type": "code",
   "execution_count": null,
   "metadata": {},
   "outputs": [],
   "source": [
    "landmarks = np.sort(np.concatenate(KEPT_LANDMARKS))\n",
    "type_embed = np.zeros(1000)\n",
    "\n",
    "for subset, idx in zip(KEPT_LANDMARKS, MAPPING):\n",
    "    type_embed[np.array(subset)] = idx\n",
    "type_embed = type_embed[type_embed > 0]\n",
    "\n",
    "type_embed = np.concatenate([type_embed, np.array([3, 4, 8, 9, 7])])"
   ]
  },
  {
   "cell_type": "code",
   "execution_count": null,
   "metadata": {},
   "outputs": [],
   "source": [
    "prepro = Preprocessing(type_embed, max_len=50)"
   ]
  },
  {
   "cell_type": "code",
   "execution_count": null,
   "metadata": {},
   "outputs": [],
   "source": [
    "SAVE = False\n",
    "\n",
    "SAVE_FOLDER = \"../input/torch_1/\"\n",
    "os.makedirs(SAVE_FOLDER, exist_ok=True)"
   ]
  },
  {
   "cell_type": "code",
   "execution_count": null,
   "metadata": {},
   "outputs": [],
   "source": [
    "ts = []\n",
    "for i in tqdm(range(len(df['path']))):\n",
    "    path = df['path'][i]\n",
    "#     path = '../input/09848.parquet'\n",
    "    path = '../input/wlasl/train_landmark_files/1000002/00376.parquet'\n",
    "    \n",
    "    name = f\"{path.split('/')[-2]}_{path.split('/')[-1].split('.')[0]}.npy\"\n",
    "    \n",
    "    if SAVE and os.path.exists(SAVE_FOLDER + name):\n",
    "        continue\n",
    "\n",
    "    pq, data = load_relevant_data_subset(path)\n",
    "    data = torch.from_numpy(data)\n",
    "    \n",
    "    t0 = time.time()\n",
    "    \n",
    "    out_torch = prepro(data)\n",
    "\n",
    "    assert len(out_torch)\n",
    "\n",
    "    t1 = time.time()\n",
    "    \n",
    "    ts.append((t1 - t0) * 1000)\n",
    "\n",
    "    if SAVE:\n",
    "        np.save(SAVE_FOLDER + name, out_torch.numpy())\n",
    "\n",
    "    if not (i % 10000):\n",
    "        data = {\n",
    "            \"x\": out_torch[:, 1],\n",
    "            \"y\": out_torch[:, 2],\n",
    "            \"z\": out_torch[:, 3],\n",
    "            \"type\": out_torch[:, 0],\n",
    "        }\n",
    "        plot_sample(data, n_frames=9, figsize=(10, 10))\n",
    "    \n",
    "    break\n",
    "    if i > 100:\n",
    "        break\n",
    "\n",
    "print(f'Prepro : {np.mean(ts) :.1f}ms')"
   ]
  },
  {
   "cell_type": "markdown",
   "metadata": {},
   "source": [
    "Done ! "
   ]
  },
  {
   "cell_type": "code",
   "execution_count": null,
   "metadata": {},
   "outputs": [],
   "source": [
    "files = glob.glob(\"../input/wlasl/train_landmark_files/*/*.parquet\")"
   ]
  },
  {
   "cell_type": "code",
   "execution_count": null,
   "metadata": {},
   "outputs": [],
   "source": [
    "len(files)"
   ]
  },
  {
   "cell_type": "code",
   "execution_count": null,
   "metadata": {},
   "outputs": [],
   "source": [
    "pd.read_csv('../input/wlasl/sample.csv')"
   ]
  }
 ],
 "metadata": {
  "kernelspec": {
   "display_name": "Python 3 (ipykernel)",
   "language": "python",
   "name": "python3"
  },
  "language_info": {
   "codemirror_mode": {
    "name": "ipython",
    "version": 3
   },
   "file_extension": ".py",
   "mimetype": "text/x-python",
   "name": "python",
   "nbconvert_exporter": "python",
   "pygments_lexer": "ipython3",
   "version": "3.8.10"
  }
 },
 "nbformat": 4,
 "nbformat_minor": 4
}
