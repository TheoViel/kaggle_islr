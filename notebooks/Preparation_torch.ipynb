{
 "cells": [
  {
   "cell_type": "markdown",
   "metadata": {},
   "source": [
    "**About** : This notebook is used to infer models."
   ]
  },
  {
   "cell_type": "code",
   "execution_count": null,
   "metadata": {},
   "outputs": [],
   "source": [
    "# %load_ext nb_black\n",
    "%load_ext autoreload\n",
    "%autoreload 2"
   ]
  },
  {
   "cell_type": "code",
   "execution_count": null,
   "metadata": {},
   "outputs": [],
   "source": [
    "cd ../src/"
   ]
  },
  {
   "cell_type": "markdown",
   "metadata": {},
   "source": [
    "## Initialization"
   ]
  },
  {
   "cell_type": "markdown",
   "metadata": {},
   "source": [
    "### Imports"
   ]
  },
  {
   "cell_type": "code",
   "execution_count": null,
   "metadata": {},
   "outputs": [],
   "source": [
    "import os\n",
    "import torch\n",
    "\n",
    "print(torch.__version__)\n",
    "os.environ['CUDA_VISIBLE_DEVICES'] = \"1\"\n",
    "torch.cuda.get_device_name(0)"
   ]
  },
  {
   "cell_type": "code",
   "execution_count": null,
   "metadata": {},
   "outputs": [],
   "source": [
    "import os\n",
    "import re\n",
    "import cv2\n",
    "import sys\n",
    "import glob\n",
    "import json\n",
    "import time\n",
    "import torch\n",
    "import warnings\n",
    "import numpy as np\n",
    "import pandas as pd\n",
    "import matplotlib.pyplot as plt\n",
    "\n",
    "from tqdm import tqdm\n",
    "from sklearn.metrics import *\n",
    "\n",
    "warnings.simplefilter(action=\"ignore\", category=FutureWarning)\n",
    "warnings.simplefilter(action=\"ignore\", category=UserWarning)"
   ]
  },
  {
   "cell_type": "code",
   "execution_count": null,
   "metadata": {},
   "outputs": [],
   "source": [
    "from params import *\n",
    "from data.preparation import *\n",
    "from utils.plots import plot_sample, plot_sample_with_edges"
   ]
  },
  {
   "cell_type": "code",
   "execution_count": null,
   "metadata": {},
   "outputs": [],
   "source": [
    "df = prepare_data(DATA_PATH, \"\")"
   ]
  },
  {
   "cell_type": "code",
   "execution_count": null,
   "metadata": {},
   "outputs": [],
   "source": [
    "ROWS_PER_FRAME = 543  # number of landmarks per frame\n",
    "\n",
    "def load_relevant_data_subset(pq_path):\n",
    "    df = pd.read_parquet(pq_path)\n",
    "    n_frames = int(len(df) / ROWS_PER_FRAME)\n",
    "    data = df[['x', 'y', 'z']].values.reshape(n_frames, ROWS_PER_FRAME, 3)\n",
    "    return df, data.astype(np.float32)"
   ]
  },
  {
   "cell_type": "markdown",
   "metadata": {},
   "source": [
    "### Landmarks"
   ]
  },
  {
   "cell_type": "code",
   "execution_count": null,
   "metadata": {},
   "outputs": [],
   "source": [
    "KEPT_LANDMARKS = [\n",
    "    [468, 469, 470, 471, 472, 473, 474, 475, 476, 477, 478, 479, 480, 481, 482, 483, 484, 485, 486, 487, 488],  # left hand\n",
    "    [522, 523, 524, 525, 526, 527, 528, 529, 530, 531, 532, 533, 534, 535, 536, 537, 538, 539, 540, 541, 542],  # right hand\n",
    "    [10, 54, 67, 132, 150, 152, 162, 172, 176, 234, 284, 297, 361, 379, 389, 397, 400, 454],  # silhouette\n",
    "    [13, 37, 40, 61, 78, 81, 84, 87, 88, 91, 191, 267, 270, 291, 308, 311, 314, 317, 318, 321, 415],  # lips\n",
    "    [500, 501, 502, 503, 504, 505, 506, 507, 508, 509, 510, 511], # arms\n",
    "    [205, 425],  # cheeks\n",
    "]\n",
    "MAPPING = [i + 1 for i in range(len(KEPT_LANDMARKS))]\n",
    "\n",
    "TO_AVG = [\n",
    "    [466, 387, 385, 398, 263, 390, 374, 381, 362],  # left_eye\n",
    "    [246, 160, 158, 173, 33, 163, 145, 154, 133],\n",
    "    [383, 293, 296, 285],  # left_eyebrow\n",
    "    [156, 63, 66, 55],  # right_eyebrow\n",
    "    [1, 2, 98, 327, 168],  # nose\n",
    "]"
   ]
  },
  {
   "cell_type": "code",
   "execution_count": null,
   "metadata": {},
   "outputs": [],
   "source": [
    "landmarks = np.concatenate(KEPT_LANDMARKS)\n",
    "type_embed = np.zeros(1000)\n",
    "start = 0\n",
    "for subset, idx in zip(KEPT_LANDMARKS, MAPPING):\n",
    "    print(subset, idx)\n",
    "    type_embed[start: start + len(subset)] = idx\n",
    "    start += len(subset)\n",
    "\n",
    "type_embed = type_embed[type_embed > 0]\n",
    "\n",
    "type_embed = np.concatenate([type_embed, np.array([idx] * len(TO_AVG))])\n",
    "\n",
    "print(\"\\nn_landmarks :\", len(type_embed))"
   ]
  },
  {
   "cell_type": "markdown",
   "metadata": {},
   "source": [
    "### Preprocessing class"
   ]
  },
  {
   "cell_type": "code",
   "execution_count": null,
   "metadata": {},
   "outputs": [],
   "source": [
    "import torch\n",
    "import torch.nn as nn\n",
    "import torch.nn.functional as F\n",
    "\n",
    "\n",
    "class Preprocessing(nn.Module):\n",
    "    def __init__(self, type_embed, max_len=50):\n",
    "        super(Preprocessing, self).__init__()\n",
    "\n",
    "        self.type_embed = torch.from_numpy(type_embed[None, :].astype(np.float32))\n",
    "        self.type_embed = self.type_embed.repeat(1000, 1)\n",
    "\n",
    "        self.landmark_embed = torch.tensor(np.arange(120)).float().unsqueeze(0) + 1\n",
    "        self.landmark_embed = self.landmark_embed.repeat(1000, 1)\n",
    "        \n",
    "        self.ids = torch.from_numpy(np.concatenate(KEPT_LANDMARKS))\n",
    "\n",
    "        self.to_avg = [torch.tensor(avg) for avg in TO_AVG]\n",
    "\n",
    "        self.hands = torch.tensor(\n",
    "            [468, 469, 470, 471, 472, 473, 474, 475, 476, 477, 478, 479, 480, 481, 482, 483, 484, 485, 486, 487, 488] + \n",
    "            [522, 523, 524, 525, 526, 527, 528, 529, 530, 531, 532, 533, 534, 535, 536, 537, 538, 539, 540, 541, 542]\n",
    "        )\n",
    "\n",
    "        self.frames = torch.tensor(np.arange(1000) + 1)\n",
    "        \n",
    "        self.max_len = torch.tensor([max_len])\n",
    "        self.min_1 = torch.tensor([1])\n",
    "        \n",
    "        self.shoulders = torch.where((self.ids == 500) | (self.ids == 501))[0]  # torch.tensor([62, 63])  # [500, 501]\n",
    "\n",
    "    def filter_sign(self, x):\n",
    "        hands = x[:, self.hands, 0]\n",
    "        nan_prop = torch.isnan(hands).float().mean(-1)\n",
    "        \n",
    "        x = x[torch.where(nan_prop < 1)[0]]\n",
    "#         if len(torch.where(nan_prop < 1)[0]) > 5:  # NEW\n",
    "#             x = x[torch.where(nan_prop < 1)[0]]\n",
    "#         else:\n",
    "#             print(len(x), len(torch.where(nan_prop < 1)[0]))\n",
    "\n",
    "        length = self.frames[:x.size(0)].max().unsqueeze(0)\n",
    "        sz = torch.cat([length, self.max_len]).max()\n",
    "        \n",
    "        divisor = (((sz - self.max_len) > 0) * (sz / self.max_len) + 1).int()\n",
    "        ids = (self.frames[:x.size(0)] % divisor) == 0\n",
    "        \n",
    "        return x[ids]\n",
    "    \n",
    "    def normalize_shoulders(self, x):\n",
    "        shoulders = x.transpose(0, 1)[self.shoulders]  # 2 x n_frames x 3\n",
    "        center = ((shoulders[0] + shoulders[1]) / 2).mean(0)\n",
    "        dist = torch.sqrt(((shoulders[0] - shoulders[1]) ** 2).sum(-1)).mean()\n",
    "#         print(center, dist)\n",
    "        return (x - center) / (dist + 1e-6)\n",
    "        \n",
    "    def forward(self, x):\n",
    "#         shape = x.shape\n",
    "        \n",
    "        x = self.filter_sign(x)\n",
    "        \n",
    "#         if x.shape[0] <= 3:\n",
    "#             print(shape, x_.shape)\n",
    "# #         else:\n",
    "#         return \n",
    "            \n",
    "        n_frames = x.shape[0]     \n",
    "        \n",
    "        avg_ids = []\n",
    "        for ids in self.to_avg:\n",
    "            avg_id = x[:, ids].mean(1, keepdims=True)\n",
    "            avg_ids.append(avg_id)\n",
    "\n",
    "        x = torch.cat([x[:, self.ids]] + avg_ids, 1)\n",
    "\n",
    "        type_embed = self.type_embed[:n_frames]\n",
    "        landmark_embed = self.landmark_embed[:n_frames, :x.shape[1]]\n",
    "        \n",
    "        # Normalize & fill nans\n",
    "#         x = self.normalize_shoulders(x)\n",
    "        nonan = x[~torch.isnan(x)].view(-1, x.shape[-1])\n",
    "        x = x - nonan.mean(0)[None, None, :]\n",
    "        x = x / nonan.std(0, unbiased=False)[None, None, :]\n",
    "        x[torch.isnan(x)] = 0\n",
    "\n",
    "        # Concat\n",
    "        x = torch.cat([\n",
    "            type_embed.unsqueeze(-1).to(x.device), x # , landmark_embed.unsqueeze(-1)\n",
    "        ], -1).transpose(1, 2)\n",
    "\n",
    "# #         Resize\n",
    "#         x = x.contiguous().view(x.size(0), -1).transpose(0, 1)\n",
    "#         x = F.interpolate(x.unsqueeze(1), 50).squeeze(1)\n",
    "#         x = x.transpose(0, 1).contiguous().view(50, 5, -1)\n",
    "        \n",
    "        # Crop\n",
    "#         x = x[:self.max_len]\n",
    "        \n",
    "        return x"
   ]
  },
  {
   "cell_type": "markdown",
   "metadata": {},
   "source": [
    "### Main"
   ]
  },
  {
   "cell_type": "code",
   "execution_count": null,
   "metadata": {},
   "outputs": [],
   "source": [
    "prepro = Preprocessing(type_embed, max_len=25)"
   ]
  },
  {
   "cell_type": "code",
   "execution_count": null,
   "metadata": {},
   "outputs": [],
   "source": [
    "SAVE = False\n",
    "\n",
    "SAVE_FOLDER = \"../input/torch_17/\"\n",
    "os.makedirs(SAVE_FOLDER, exist_ok=True)"
   ]
  },
  {
   "cell_type": "code",
   "execution_count": null,
   "metadata": {},
   "outputs": [],
   "source": [
    "for i in tqdm(range(len(df['path']))):\n",
    "# for i in range(100):\n",
    "    path = df['path'][i]\n",
    "    name = f\"{path.split('/')[-2]}_{path.split('/')[-1].split('.')[0]}.npy\"\n",
    "    \n",
    "    if SAVE and os.path.exists(SAVE_FOLDER + name):\n",
    "        continue\n",
    "\n",
    "    pq, data = load_relevant_data_subset(path)\n",
    "    \n",
    "    data = torch.from_numpy(data).cuda()\n",
    "    \n",
    "    out_torch = prepro(data).cpu()\n",
    "\n",
    "    if SAVE:\n",
    "        np.save(SAVE_FOLDER + name, out_torch.numpy())\n",
    "\n",
    "    if not (i % 30000):\n",
    "        data = {\n",
    "            \"x\": out_torch[:, 1],\n",
    "            \"y\": out_torch[:, 2],\n",
    "            \"z\": out_torch[:, 3],\n",
    "            \"type\": out_torch[:, 0],\n",
    "        }\n",
    "        plot_sample_with_edges(data, n_frames=4, figsize=(10, 10))\n",
    "\n",
    "    break"
   ]
  },
  {
   "cell_type": "markdown",
   "metadata": {},
   "source": [
    "### Graph & flip"
   ]
  },
  {
   "cell_type": "code",
   "execution_count": null,
   "metadata": {},
   "outputs": [],
   "source": [
    "GRAPH = [\n",
    "    [42, 53, 52, 56, 59, 54, 57, 55, 58, 47],  # left head\n",
    "    [42, 44, 43, 48, 51, 45, 49, 46, 50, 47],  # right head\n",
    "\n",
    "    [63, 62, 61, 71, 72, 73, 79, 76, 66, 69, 63], # outter lips\n",
    "    [64, 70, 65, 60, 75, 80, 74, 78, 77, 67, 68, 64],  # inner lips\n",
    "\n",
    "    # RIGHT HAND\n",
    "    [41, 40, 39, 38],\n",
    "    [37, 36, 35, 34],\n",
    "    [33, 32, 31, 30],\n",
    "    [29, 28, 27, 26],\n",
    "    [25, 24, 23, 22, 21],\n",
    "    [38, 34, 30, 26, 21, 38],\n",
    "\n",
    "    # LEFT HAND\n",
    "    [20, 19, 18, 17],\n",
    "    [16, 15, 14, 13],\n",
    "    [12, 11, 10, 9],\n",
    "    [8, 7, 6, 5],\n",
    "    [4, 3, 2, 1, 0],\n",
    "    [17, 13, 9, 5, 0, 17],\n",
    "    \n",
    "    # Arms\n",
    "    [82, 81, 83, 85, 87, 89, 91, 85],\n",
    "    [82, 84, 86, 88, 90, 92, 86],\n",
    "]"
   ]
  },
  {
   "cell_type": "code",
   "execution_count": null,
   "metadata": {},
   "outputs": [],
   "source": [
    "FLIP_MAP = {  # torch_7\n",
    "    53: 44, 52: 43, 56: 48, 59: 51, 54: 45, 57: 49, 55: 46, 58: 50, 47: 47,  # head\n",
    "    41: 20, 40: 19, 39: 18, 38: 17, 37: 16, 36: 15, 35: 14, 34: 13, 33: 12, 32: 11, 31: 10, 30: 9, 29: 8, 28: 7, 27: 6, 26: 5, 25: 4, 24: 3, 23: 2, 22: 1, 21: 0,  # hands\n",
    "    97: 98, 95: 96, 94: 93,  # eyebrows, cheeks, eyes\n",
    "    63: 73, 62: 72, 61: 71, 71: 61, 72: 62, 73: 63, 79: 69, 76: 66, 66: 76, 69: 79,  # outter lips\n",
    "    64: 74, 70: 80, 65: 75, 78: 68, 67: 77,  # inner lips\n",
    "    81: 82, 83: 84, 85: 86, 87: 88, 89: 90, 91: 92,  # arms\n",
    "}\n",
    "\n",
    "\n",
    "FLIP_ARRAY = np.arange(np.max(np.concatenate(list(FLIP_MAP.items()))) + 1)\n",
    "for k, v in FLIP_MAP.items():\n",
    "    FLIP_ARRAY[k] = v\n",
    "    FLIP_ARRAY[v] = k\n",
    "\n",
    "    \n",
    "def flip(data, flip_array=FLIP_ARRAY, p=1):\n",
    "    if np.random.random() > p:\n",
    "        return data\n",
    "\n",
    "    flip_array_ = np.arange(len(data['x'].T))\n",
    "    flip_array = flip_array[:len(flip_array_)]\n",
    "    flip_array_[:len(flip_array)] = flip_array\n",
    "\n",
    "    data['x'] = - data['x']\n",
    "    for k in ['x', 'y', 'z']:\n",
    "        data[k] = data[k].T[flip_array_].T\n",
    "    return data"
   ]
  },
  {
   "cell_type": "code",
   "execution_count": null,
   "metadata": {},
   "outputs": [],
   "source": [
    "plot_sample_with_edges(data, n_frames=1, figsize=(10, 10), show_text=True, graph=GRAPH)"
   ]
  },
  {
   "cell_type": "code",
   "execution_count": null,
   "metadata": {},
   "outputs": [],
   "source": [
    "data = flip(data)"
   ]
  },
  {
   "cell_type": "code",
   "execution_count": null,
   "metadata": {},
   "outputs": [],
   "source": [
    "plot_sample_with_edges(data, n_frames=1, figsize=(10, 10), show_text=True, graph=GRAPH)"
   ]
  },
  {
   "cell_type": "markdown",
   "metadata": {},
   "source": [
    "Done ! "
   ]
  }
 ],
 "metadata": {
  "kernelspec": {
   "display_name": "Python 3 (ipykernel)",
   "language": "python",
   "name": "python3"
  },
  "language_info": {
   "codemirror_mode": {
    "name": "ipython",
    "version": 3
   },
   "file_extension": ".py",
   "mimetype": "text/x-python",
   "name": "python",
   "nbconvert_exporter": "python",
   "pygments_lexer": "ipython3",
   "version": "3.8.10"
  }
 },
 "nbformat": 4,
 "nbformat_minor": 4
}
