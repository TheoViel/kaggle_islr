{
 "cells": [
  {
   "cell_type": "markdown",
   "metadata": {},
   "source": [
    "**About** : This notebook is used to infer models."
   ]
  },
  {
   "cell_type": "code",
   "execution_count": null,
   "metadata": {},
   "outputs": [],
   "source": [
    "# %load_ext nb_black\n",
    "%load_ext autoreload\n",
    "%autoreload 2"
   ]
  },
  {
   "cell_type": "code",
   "execution_count": null,
   "metadata": {},
   "outputs": [],
   "source": [
    "cd ../src/"
   ]
  },
  {
   "cell_type": "markdown",
   "metadata": {},
   "source": [
    "## Initialization"
   ]
  },
  {
   "cell_type": "markdown",
   "metadata": {},
   "source": [
    "### Imports"
   ]
  },
  {
   "cell_type": "code",
   "execution_count": null,
   "metadata": {},
   "outputs": [],
   "source": [
    "import os\n",
    "import torch\n",
    "\n",
    "print(torch.__version__)\n",
    "os.environ['CUDA_VISIBLE_DEVICES'] = \"1\"\n",
    "torch.cuda.get_device_name(0)"
   ]
  },
  {
   "cell_type": "code",
   "execution_count": null,
   "metadata": {},
   "outputs": [],
   "source": [
    "import os\n",
    "import re\n",
    "import cv2\n",
    "import sys\n",
    "import glob\n",
    "import json\n",
    "import time\n",
    "import torch\n",
    "import warnings\n",
    "import numpy as np\n",
    "import pandas as pd\n",
    "import seaborn as sns\n",
    "import matplotlib.pyplot as plt\n",
    "\n",
    "from tqdm import tqdm\n",
    "from sklearn.metrics import *\n",
    "\n",
    "warnings.simplefilter(action=\"ignore\", category=FutureWarning)\n",
    "warnings.simplefilter(action=\"ignore\", category=UserWarning)"
   ]
  },
  {
   "cell_type": "code",
   "execution_count": null,
   "metadata": {},
   "outputs": [],
   "source": [
    "from utils.logger import Config, upload_to_kaggle\n",
    "\n",
    "from params import *\n",
    "from data.dataset import SignDataset\n",
    "from data.preparation import *\n",
    "\n",
    "from model_zoo.models import define_model\n",
    "from utils.metrics import *\n",
    "from utils.torch import load_model_weights\n",
    "from utils.plots import plot_sample\n",
    "# from utils.plots import plot_confusion_matrix\n",
    "\n",
    "from inference.predict import predict, predict_tta\n",
    "# from inference.main import *"
   ]
  },
  {
   "cell_type": "code",
   "execution_count": null,
   "metadata": {},
   "outputs": [],
   "source": [
    "df = prepare_data(DATA_PATH, \"\")"
   ]
  },
  {
   "cell_type": "markdown",
   "metadata": {},
   "source": [
    "### Preprocessing"
   ]
  },
  {
   "cell_type": "code",
   "execution_count": null,
   "metadata": {},
   "outputs": [],
   "source": [
    "ROWS_PER_FRAME = 543  # number of landmarks per frame\n",
    "\n",
    "def load_relevant_data_subset(pq_path):\n",
    "    df = pd.read_parquet(pq_path)\n",
    "    n_frames = int(len(df) / ROWS_PER_FRAME)\n",
    "    data = df[['x', 'y', 'z']].values.reshape(n_frames, ROWS_PER_FRAME, 3)\n",
    "    return df, data.astype(np.float32)"
   ]
  },
  {
   "cell_type": "code",
   "execution_count": null,
   "metadata": {},
   "outputs": [],
   "source": [
    "KEPT_LANDMARKS = [\n",
    "    [489, 490, 491, 492, 493, 494, 495, 496, 497, 498, 499, 500, 501, 502, 503, 504, 505, 506, 507, 508, 509, 510, 511, 512, 513, 514, 515, 516, 517, 518, 519, 520, 521],\n",
    "    [468, 469, 470, 471, 472, 473, 474, 475, 476, 477, 478, 479, 480, 481, 482, 483, 484, 485, 486, 487, 488],\n",
    "    [522, 523, 524, 525, 526, 527, 528, 529, 530, 531, 532, 533, 534, 535, 536, 537, 538, 539, 540, 541, 542],\n",
    "]\n",
    "MAPPING = [1, 2, 3]  # pose, lhand, rhand"
   ]
  },
  {
   "cell_type": "code",
   "execution_count": null,
   "metadata": {},
   "outputs": [],
   "source": [
    "import torch\n",
    "import torch.nn as nn\n",
    "import torch.nn.functional as F\n",
    "\n",
    "\n",
    "class Preprocessing(nn.Module):\n",
    "    def __init__(self, type_embed, max_len=50):\n",
    "        super(Preprocessing, self).__init__()\n",
    "\n",
    "        self.type_embed = torch.from_numpy(type_embed[None, :].astype(np.float32))\n",
    "        self.type_embed = self.type_embed.repeat(1000, 1)\n",
    "\n",
    "        self.landmark_embed = torch.tensor(np.arange(120)).float().unsqueeze(0) + 1\n",
    "        self.landmark_embed = self.landmark_embed.repeat(1000, 1)\n",
    "        \n",
    "        self.ids = torch.from_numpy(np.concatenate(KEPT_LANDMARKS))\n",
    "\n",
    "        self.to_avg = []\n",
    "\n",
    "        self.hands = torch.tensor(\n",
    "            [468, 469, 470, 471, 472, 473, 474, 475, 476, 477, 478, 479, 480, 481, 482, 483, 484, 485, 486, 487, 488] + \n",
    "            [522, 523, 524, 525, 526, 527, 528, 529, 530, 531, 532, 533, 534, 535, 536, 537, 538, 539, 540, 541, 542]\n",
    "        )\n",
    "        \n",
    "        self.frames = torch.tensor(np.arange(1000) + 1)\n",
    "        \n",
    "        self.max_len = torch.tensor([max_len])\n",
    "        \n",
    "        self.shoulders = torch.where((self.ids == 500) | (self.ids == 501))[0]  # torch.tensor([62, 63])  # [500, 501]\n",
    "        \n",
    "\n",
    "    def filter_sign(self, x):\n",
    "        hands = x[:, self.hands, 0]\n",
    "        nan_prop = torch.isnan(hands).float().mean(-1)            \n",
    "        x = x[torch.where(nan_prop < 1)[0]]\n",
    "        \n",
    "        length = self.frames[:x.size(0)].max().unsqueeze(0)\n",
    "        sz = torch.cat([length, self.max_len]).max()\n",
    "        \n",
    "        divisor = (((sz - self.max_len) > 0) * (sz / self.max_len) + 1).int()\n",
    "#         if sz > 50:\n",
    "#             print(sz, divisor)\n",
    "\n",
    "        ids = (self.frames[:x.size(0)] % divisor) == 0\n",
    "        \n",
    "        return x[ids]\n",
    "        \n",
    "    def normalize_shoulders(self, x):\n",
    "        shoulders = x.transpose(0, 1)[self.shoulders]  # 2 x n_frames x 3\n",
    "        center = ((shoulders[0] + shoulders[1]) / 2).mean(0)\n",
    "        dist = torch.sqrt(((shoulders[0] - shoulders[1]) ** 2).sum(-1)).mean()\n",
    "#         print(center, dist)\n",
    "        return (x - center) / (dist + 1e-6)\n",
    "\n",
    "    def forward(self, x):\n",
    "#         x = self.filter_sign(x)\n",
    "        n_frames = x.shape[0]     \n",
    "        \n",
    "        avg_ids = []\n",
    "        for ids in self.to_avg:\n",
    "            avg_id = x[:, ids].mean(1, keepdims=True)\n",
    "            avg_ids.append(avg_id)\n",
    "\n",
    "        x = torch.cat([x[:, self.ids]] + avg_ids, 1)\n",
    "\n",
    "        type_embed = self.type_embed[:n_frames]\n",
    "        landmark_embed = self.landmark_embed[:n_frames, :x.shape[1]]\n",
    "        \n",
    "        # Normalize & fill nans\n",
    "#         nonan = x[~torch.isnan(x)].view(-1, x.shape[-1])\n",
    "#         x = x - nonan.mean(0)[None, None, :]\n",
    "#         x = x / nonan.std(0, unbiased=False)[None, None, :]\n",
    "        \n",
    "        x[torch.isnan(x)] = 0\n",
    "        \n",
    "#         x = self.normalize_shoulders(x)\n",
    "\n",
    "        # Concat\n",
    "        x = torch.cat([\n",
    "            type_embed.unsqueeze(-1), x # , landmark_embed.unsqueeze(-1)\n",
    "        ], -1).transpose(1, 2)\n",
    "\n",
    "#         # SIMPLIFIED\n",
    "#         x = x[:, :, :2].transpose(0, 1)\n",
    "#         x = x[[ 0, 2, 5, 11, 12, 13, 14, 33, 37, 38, 41, 42, 45, 46, 49, 50, 53, 54, 58, 59, 62, 63, 66, 67, 70, 71, 74]]\n",
    "#         x = x.transpose(0, 1).transpose(1, 2)\n",
    "\n",
    "# #         Resize\n",
    "#         x = x.contiguous().view(x.size(0), -1).transpose(0, 1)\n",
    "#         x = F.interpolate(x.unsqueeze(1), 50).squeeze(1)\n",
    "#         x = x.transpose(0, 1).contiguous().view(50, 5, -1)\n",
    "        \n",
    "        # Crop\n",
    "#         x = x[:self.max_len]\n",
    "        \n",
    "        return x"
   ]
  },
  {
   "cell_type": "code",
   "execution_count": null,
   "metadata": {},
   "outputs": [],
   "source": [
    "landmarks = np.concatenate(KEPT_LANDMARKS)\n",
    "type_embed = np.zeros(1000)\n",
    "start = 0\n",
    "for subset, idx in zip(KEPT_LANDMARKS, MAPPING):\n",
    "    print(subset, idx)\n",
    "    type_embed[start: start + len(subset)] = idx\n",
    "    start += len(subset)\n",
    "\n",
    "type_embed = type_embed[type_embed > 0]"
   ]
  },
  {
   "cell_type": "code",
   "execution_count": null,
   "metadata": {},
   "outputs": [],
   "source": [
    "dataset = SignDataset(df, max_len=None, train=False)"
   ]
  },
  {
   "cell_type": "code",
   "execution_count": null,
   "metadata": {},
   "outputs": [],
   "source": [
    "prepro = Preprocessing(type_embed, max_len=40)"
   ]
  },
  {
   "cell_type": "code",
   "execution_count": null,
   "metadata": {},
   "outputs": [],
   "source": [
    "SAVE = False\n",
    "\n",
    "SAVE_FOLDER = \"../input/openhands/\"\n",
    "os.makedirs(SAVE_FOLDER, exist_ok=True)"
   ]
  },
  {
   "cell_type": "code",
   "execution_count": null,
   "metadata": {},
   "outputs": [],
   "source": [
    "ts = []\n",
    "lens = []\n",
    "\n",
    "for i in tqdm(range(len(df['path']))):\n",
    "    path = df['path'][i]\n",
    "    name = f\"{path.split('/')[-2]}_{path.split('/')[-1].split('.')[0]}.npy\"\n",
    "    \n",
    "#     if SAVE and os.path.exists(SAVE_FOLDER + name):\n",
    "#         continue\n",
    "\n",
    "    pq, data = load_relevant_data_subset(path)\n",
    "    data = torch.from_numpy(data)\n",
    "    \n",
    "    t0 = time.time()\n",
    "    \n",
    "    out_torch = prepro(data)\n",
    "    \n",
    "    lens.append(out_torch.size(0))\n",
    "\n",
    "    assert len(out_torch)\n",
    "\n",
    "    t1 = time.time()\n",
    "    \n",
    "    ts.append((t1 - t0) * 1000)\n",
    "\n",
    "    if SAVE:\n",
    "        np.save(SAVE_FOLDER + name, out_torch.numpy())\n",
    "\n",
    "    if not (i % 10000):\n",
    "        try:\n",
    "            data = {\n",
    "                \"x\": out_torch[:, 1],\n",
    "                \"y\": out_torch[:, 2],\n",
    "                \"z\": out_torch[:, 3],\n",
    "                \"type\": out_torch[:, 0],\n",
    "            }\n",
    "        except:\n",
    "            data = {\n",
    "                \"x\": out_torch[:, 0],\n",
    "                \"y\": out_torch[:, 1],\n",
    "    #             \"z\": out_torch[:, 3],\n",
    "                \"type\": torch.ones_like(out_torch[:, 0]),\n",
    "            }\n",
    "\n",
    "#         data[\"type\"][:, [11, 12]] = 4\n",
    "        plot_sample(data, n_frames=4, figsize=(10, 10))\n",
    "    \n",
    "    break\n",
    "#     if not SAVE:\n",
    "#         if i > 1000:\n",
    "#             break\n",
    "\n",
    "print(f'Prepro : {np.mean(ts) :.1f}ms')"
   ]
  },
  {
   "cell_type": "code",
   "execution_count": null,
   "metadata": {},
   "outputs": [],
   "source": [
    "import pickle\n",
    "\n",
    "path = '../input/wlasl/wlasl_poses_pickle/'\n",
    "d = pickle.load(open(path + np.random.choice(os.listdir(path)), 'rb'))['keypoints']\n",
    "\n",
    "# d = np.where(d[:, :, :1] == 0, np.nan, d)\n",
    "# x = torch.from_numpy(d)\n",
    "# nonan = x[~torch.isnan(x)].view(-1, x.shape[-1])\n",
    "# x = x - nonan.mean(0)[None, None, :]\n",
    "# x = x / nonan.std(0, unbiased=False)[None, None, :]\n",
    "# x[torch.isnan(x)] = 0\n",
    "\n",
    "x = torch.from_numpy(d)\n",
    "\n",
    "w_data = {\n",
    "    \"x\": x[:, :, 0],\n",
    "    \"y\": x[:, :, 1],\n",
    "    \"z\": x[:, :, 2],\n",
    "    \"type\" : torch.tensor([1] * 33 + [2] * 21 + [3] * 21).unsqueeze(0).repeat(d.shape[0], 1)\n",
    "}\n",
    "\n",
    "w_data[\"type\"][:, [11, 12]] = 4\n",
    "w_data[\"type\"][:, 50] = 4\n",
    "\n",
    "plot_sample(w_data, n_frames=4, figsize=(10, 10))"
   ]
  },
  {
   "cell_type": "code",
   "execution_count": null,
   "metadata": {},
   "outputs": [],
   "source": [
    "sns.histplot(lens)\n",
    "plt.show()"
   ]
  },
  {
   "cell_type": "markdown",
   "metadata": {},
   "source": [
    "Done ! "
   ]
  }
 ],
 "metadata": {
  "kernelspec": {
   "display_name": "Python 3 (ipykernel)",
   "language": "python",
   "name": "python3"
  },
  "language_info": {
   "codemirror_mode": {
    "name": "ipython",
    "version": 3
   },
   "file_extension": ".py",
   "mimetype": "text/x-python",
   "name": "python",
   "nbconvert_exporter": "python",
   "pygments_lexer": "ipython3",
   "version": "3.8.10"
  }
 },
 "nbformat": 4,
 "nbformat_minor": 4
}
