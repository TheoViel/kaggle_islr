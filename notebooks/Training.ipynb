{
 "cells": [
  {
   "cell_type": "markdown",
   "metadata": {},
   "source": [
    "**About** : This notebook is used to train models."
   ]
  },
  {
   "cell_type": "code",
   "execution_count": null,
   "metadata": {},
   "outputs": [],
   "source": [
    "# %load_ext nb_black\n",
    "%load_ext autoreload\n",
    "%autoreload 2"
   ]
  },
  {
   "cell_type": "code",
   "execution_count": null,
   "metadata": {},
   "outputs": [],
   "source": [
    "cd ../src/"
   ]
  },
  {
   "cell_type": "markdown",
   "metadata": {},
   "source": [
    "## Initialization"
   ]
  },
  {
   "cell_type": "markdown",
   "metadata": {},
   "source": [
    "### Imports"
   ]
  },
  {
   "cell_type": "code",
   "execution_count": null,
   "metadata": {},
   "outputs": [],
   "source": [
    "import os\n",
    "import torch\n",
    "\n",
    "print(torch.__version__)\n",
    "os.environ['CUDA_VISIBLE_DEVICES'] = \"1\"\n",
    "device = torch.cuda.get_device_name(0)\n",
    "print(device)"
   ]
  },
  {
   "cell_type": "code",
   "execution_count": null,
   "metadata": {},
   "outputs": [],
   "source": [
    "import os\n",
    "import sys\n",
    "import glob\n",
    "import json\n",
    "import cudf\n",
    "import torch\n",
    "import warnings\n",
    "import numpy as np\n",
    "import pandas as pd\n",
    "import seaborn as sns\n",
    "import matplotlib.pyplot as plt\n",
    "\n",
    "from tqdm import tqdm\n",
    "from sklearn.metrics import *\n",
    "from numerize.numerize import numerize\n",
    "\n",
    "pd.set_option('display.width', 500)\n",
    "pd.set_option('max_colwidth', 100)"
   ]
  },
  {
   "cell_type": "code",
   "execution_count": null,
   "metadata": {},
   "outputs": [],
   "source": [
    "from training.main import k_fold\n",
    "\n",
    "from utils.logger import (\n",
    "    prepare_log_folder,\n",
    "    save_config,\n",
    "    create_logger,\n",
    "    init_neptune\n",
    ")\n",
    "\n",
    "from params import *\n",
    "from utils.plots import *\n",
    "from data.dataset import *\n",
    "from data.preparation import *\n",
    "from utils.torch import init_distributed, count_parameters, load_model_weights\n",
    "from utils.plots import plot_sample, plot_sample_with_edges\n",
    "from model_zoo.models import *\n",
    "\n",
    "from data.transforms import flip"
   ]
  },
  {
   "cell_type": "markdown",
   "metadata": {},
   "source": [
    "## Data"
   ]
  },
  {
   "cell_type": "code",
   "execution_count": null,
   "metadata": {},
   "outputs": [],
   "source": [
    "df = prepare_data(DATA_PATH, processed_folder=\"torch_12/\")\n",
    "# df = prepare_data(DATA_PATH, processed_folder=\"torch_3/\")"
   ]
  },
  {
   "cell_type": "code",
   "execution_count": null,
   "metadata": {},
   "outputs": [],
   "source": [
    "# df = df[df['participant_id'] == 29302].reset_index(drop=True)\n",
    "# df = df[df['sign'] == \"person\"].reset_index(drop=True)"
   ]
  },
  {
   "cell_type": "code",
   "execution_count": null,
   "metadata": {},
   "outputs": [],
   "source": [
    "dataset = SignDataset(df, max_len=None, train=True, aug_strength=3)\n",
    "\n",
    "# dataset.fill_buffer(tqdm_enabled=True)"
   ]
  },
  {
   "cell_type": "code",
   "execution_count": null,
   "metadata": {},
   "outputs": [],
   "source": [
    "for i in tqdm(range(len(dataset))):\n",
    "#     i = 92284\n",
    "    data, _ = dataset[i]\n",
    "    \n",
    "#     for k in data.keys():\n",
    "#         print(k, data[k].size())\n",
    "    \n",
    "    print(df['sequence_id'][i], df['sign'][i])\n",
    "    plot_sample_with_edges(data, n_frames=4, figsize=(10, 10), show_text=False)\n",
    "    \n",
    "#     data = resize(data, max_size=50)\n",
    "#     plot_sample_with_edges(data, n_frames=4, figsize=(10, 10))\n",
    "\n",
    "#     if i > 10:\n",
    "    break"
   ]
  },
  {
   "cell_type": "code",
   "execution_count": null,
   "metadata": {},
   "outputs": [],
   "source": [
    "# plot_sample_with_edges(data, n_frames=1, figsize=(20, 20), show_text=True)"
   ]
  },
  {
   "cell_type": "markdown",
   "metadata": {},
   "source": [
    "## Model"
   ]
  },
  {
   "cell_type": "code",
   "execution_count": null,
   "metadata": {},
   "outputs": [],
   "source": [
    "model = define_model(\"mlp_bert_3\", transfo_heads=16, embed_dim=16, dense_dim=256, transfo_dim=768, transfo_layers=2, n_landmarks=100, max_len=30)"
   ]
  },
  {
   "cell_type": "code",
   "execution_count": null,
   "metadata": {},
   "outputs": [],
   "source": [
    "768 - 128"
   ]
  },
  {
   "cell_type": "code",
   "execution_count": null,
   "metadata": {},
   "outputs": [],
   "source": [
    "1024 - 256"
   ]
  },
  {
   "cell_type": "code",
   "execution_count": null,
   "metadata": {},
   "outputs": [],
   "source": [
    "# model = define_model(\"mlp_bert_3\", transfo_heads=16, embed_dim=16, dense_dim=256, transfo_dim=512 + 128, transfo_layers=3, n_landmarks=100, max_len=25)  #, pretrained_weights=\"../logs/pretrain/2023-03-23/4/mlp_bert_0.pt\").cpu()"
   ]
  },
  {
   "cell_type": "code",
   "execution_count": null,
   "metadata": {},
   "outputs": [],
   "source": [
    "numerize(count_parameters(model))"
   ]
  },
  {
   "cell_type": "code",
   "execution_count": null,
   "metadata": {},
   "outputs": [],
   "source": [
    "(\n",
    "    numerize(count_parameters(model.frame_transformer_1)),\n",
    "    numerize(count_parameters(model.frame_transformer_2)) if model.frame_transformer_2 else 0,\n",
    "    numerize(count_parameters(model.frame_transformer_3)) if model.frame_transformer_3 else 0\n",
    ")"
   ]
  },
  {
   "cell_type": "code",
   "execution_count": null,
   "metadata": {},
   "outputs": [],
   "source": [
    "dataset = SignDataset(df, max_len=30, train=False)\n",
    "\n",
    "BS = 8\n",
    "\n",
    "x = {}\n",
    "batch = [dataset[idx] for idx in range(BS)]  # \n",
    "# batch = [dataset[idx] for idx in np.random.randint(len(dataset), size=BS)]\n",
    "for k in data:\n",
    "    x[k] = torch.cat([d[k].unsqueeze(0) for d in batch])  # .cuda()"
   ]
  },
  {
   "cell_type": "code",
   "execution_count": null,
   "metadata": {},
   "outputs": [],
   "source": [
    "y, _ = model(x)\n",
    "y.size(), y.max()"
   ]
  },
  {
   "cell_type": "code",
   "execution_count": null,
   "metadata": {},
   "outputs": [],
   "source": [
    "# opt = torch.optim.Adam(model.parameters())\n",
    "# loss = y.mean()\n",
    "# loss.backward()\n",
    "# opt.step()\n",
    "# for name, param in model.named_parameters():\n",
    "#     if param.grad is None:\n",
    "#         print(name)"
   ]
  },
  {
   "cell_type": "markdown",
   "metadata": {},
   "source": [
    "## Training"
   ]
  },
  {
   "cell_type": "code",
   "execution_count": null,
   "metadata": {},
   "outputs": [],
   "source": [
    "\n",
    "class Config:\n",
    "    \"\"\"\n",
    "    Parameters used for training\n",
    "    \"\"\"\n",
    "\n",
    "    # General\n",
    "    seed = 42\n",
    "    verbose = 1\n",
    "    device = \"cuda\"\n",
    "    save_weights = True\n",
    "\n",
    "    # Data\n",
    "    processed_folder = \"torch_12/\"\n",
    "    max_len = 25\n",
    "    resize_mode = \"pad\"\n",
    "    aug_strength = 3\n",
    "    use_extra_data = False\n",
    "    n_landmarks = 100\n",
    "\n",
    "    # k-fold\n",
    "    k = 4\n",
    "    folds_file = f\"../input/folds_{k}.csv\"\n",
    "    selected_folds = [0]  # , 1, 2, 3]\n",
    "\n",
    "    # Model\n",
    "    #     name = \"gcn\"\n",
    "    name = \"mlp_bert_3\"\n",
    "    #     name = \"bi_bert\"\n",
    "    pretrained_weights = None  # \"../logs/pretrain/2023-04-08/2/mlp_bert_3_0.pt\"\n",
    "    syncbn = False\n",
    "    num_classes = 250\n",
    "    num_classes_aux = 0\n",
    "\n",
    "    transfo_layers = 3\n",
    "    embed_dim = 16\n",
    "    dense_dim = 256\n",
    "    transfo_dim = 1024  # 288\n",
    "    transfo_heads = 16\n",
    "    drop_rate = 0.05\n",
    "\n",
    "    # Training\n",
    "    loss_config = {\n",
    "        \"name\": \"ce\",  # ce\n",
    "        \"smoothing\": 0.3,\n",
    "        \"activation\": \"softmax\",\n",
    "        \"aux_loss_weight\": 0.0,\n",
    "        \"activation_aux\": \"softmax\",\n",
    "        \"ousm_k\": 3,\n",
    "    }\n",
    "\n",
    "    data_config = {\n",
    "        \"batch_size\": 32,\n",
    "        \"val_bs\": 1024,\n",
    "        \"use_len_sampler\": False,\n",
    "    }\n",
    "\n",
    "    optimizer_config = {\n",
    "        \"name\": \"AdamW\",\n",
    "        \"lr\": 3e-4,\n",
    "        \"warmup_prop\": 0.1,\n",
    "        \"betas\": (0.9, 0.999),\n",
    "        \"max_grad_norm\": 10.0,\n",
    "    }\n",
    "\n",
    "    epochs = 5\n",
    "\n",
    "    use_fp16 = True\n",
    "    model_soup = False\n",
    "\n",
    "    verbose = 1\n",
    "    verbose_eval = 250\n",
    "\n",
    "    fullfit = len(selected_folds) == 4\n",
    "    n_fullfit = 1"
   ]
  },
  {
   "cell_type": "code",
   "execution_count": null,
   "metadata": {},
   "outputs": [],
   "source": [
    "DEBUG = True\n",
    "log_folder = None\n",
    "run = None"
   ]
  },
  {
   "cell_type": "code",
   "execution_count": null,
   "metadata": {},
   "outputs": [],
   "source": [
    "if not DEBUG:\n",
    "    log_folder = prepare_log_folder(LOG_PATH)\n",
    "    print(f\"Logging results to {log_folder}\")\n",
    "    config_df = save_config(Config, log_folder + \"config.json\")\n",
    "    create_logger(directory=log_folder, name=\"logs.txt\")\n",
    "#     run = init_neptune(Config, log_folder)\n",
    "\n",
    "df = prepare_data(DATA_PATH, Config.processed_folder)\n",
    "init_distributed(Config)\n",
    "\n",
    "preds = k_fold(Config, df, log_folder=log_folder, run=run)"
   ]
  },
  {
   "cell_type": "markdown",
   "metadata": {},
   "source": [
    "Done ! "
   ]
  }
 ],
 "metadata": {
  "kernelspec": {
   "display_name": "Python 3 (ipykernel)",
   "language": "python",
   "name": "python3"
  },
  "language_info": {
   "codemirror_mode": {
    "name": "ipython",
    "version": 3
   },
   "file_extension": ".py",
   "mimetype": "text/x-python",
   "name": "python",
   "nbconvert_exporter": "python",
   "pygments_lexer": "ipython3",
   "version": "3.8.10"
  },
  "vscode": {
   "interpreter": {
    "hash": "f7241b2af102f7e024509099765066b36197b195077f7bfac6e5bc041ba17c8c"
   }
  }
 },
 "nbformat": 4,
 "nbformat_minor": 4
}
