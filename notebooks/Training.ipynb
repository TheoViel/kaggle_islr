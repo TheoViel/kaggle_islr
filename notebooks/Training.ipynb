{
 "cells": [
  {
   "cell_type": "markdown",
   "metadata": {},
   "source": [
    "**About** : This notebook is used to train models."
   ]
  },
  {
   "cell_type": "code",
   "execution_count": null,
   "metadata": {},
   "outputs": [],
   "source": [
    "# %load_ext nb_black\n",
    "%load_ext autoreload\n",
    "%autoreload 2"
   ]
  },
  {
   "cell_type": "code",
   "execution_count": null,
   "metadata": {},
   "outputs": [],
   "source": [
    "cd ../src/"
   ]
  },
  {
   "cell_type": "markdown",
   "metadata": {},
   "source": [
    "## Initialization"
   ]
  },
  {
   "cell_type": "markdown",
   "metadata": {},
   "source": [
    "### Imports"
   ]
  },
  {
   "cell_type": "code",
   "execution_count": null,
   "metadata": {},
   "outputs": [],
   "source": [
    "import os\n",
    "import torch\n",
    "\n",
    "print(torch.__version__)\n",
    "os.environ['CUDA_VISIBLE_DEVICES'] = \"0\"\n",
    "device = torch.cuda.get_device_name(0)\n",
    "print(device)"
   ]
  },
  {
   "cell_type": "code",
   "execution_count": null,
   "metadata": {},
   "outputs": [],
   "source": [
    "import os\n",
    "import sys\n",
    "import glob\n",
    "import json\n",
    "import cudf\n",
    "import torch\n",
    "import warnings\n",
    "import numpy as np\n",
    "import pandas as pd\n",
    "import seaborn as sns\n",
    "import matplotlib.pyplot as plt\n",
    "\n",
    "from tqdm import tqdm\n",
    "from sklearn.metrics import *\n",
    "from numerize.numerize import numerize\n",
    "\n",
    "pd.set_option('display.width', 500)\n",
    "pd.set_option('max_colwidth', 100)"
   ]
  },
  {
   "cell_type": "code",
   "execution_count": null,
   "metadata": {},
   "outputs": [],
   "source": [
    "from training.main import k_fold\n",
    "\n",
    "from utils.logger import (\n",
    "    prepare_log_folder,\n",
    "    save_config,\n",
    "    create_logger,\n",
    "    init_neptune\n",
    ")\n",
    "\n",
    "from params import *\n",
    "from utils.plots import *\n",
    "from data.dataset import *\n",
    "from data.preparation import *\n",
    "from utils.torch import init_distributed, count_parameters, load_model_weights\n",
    "from utils.plots import plot_sample\n",
    "from model_zoo.models import *"
   ]
  },
  {
   "cell_type": "markdown",
   "metadata": {},
   "source": [
    "## Data"
   ]
  },
  {
   "cell_type": "code",
   "execution_count": null,
   "metadata": {},
   "outputs": [],
   "source": [
    "df = prepare_data(DATA_PATH, processed_folder=\"torch_1/\")"
   ]
  },
  {
   "cell_type": "code",
   "execution_count": null,
   "metadata": {},
   "outputs": [],
   "source": [
    "dataset = SignDataset(df, max_len=None, train=False, aug_strength=1)\n",
    "# dataset = SignDataset(df, max_len=None, train=False)"
   ]
  },
  {
   "cell_type": "code",
   "execution_count": null,
   "metadata": {},
   "outputs": [],
   "source": [
    "for i in tqdm(range(len(dataset))):\n",
    "    data = dataset[i]\n",
    "    mask = data['mask']\n",
    "    assert mask.max() > 0\n",
    "    break"
   ]
  },
  {
   "cell_type": "code",
   "execution_count": null,
   "metadata": {},
   "outputs": [],
   "source": [
    "plot_sample(data, n_frames=4, figsize=(10, 10))"
   ]
  },
  {
   "cell_type": "code",
   "execution_count": null,
   "metadata": {},
   "outputs": [],
   "source": [
    "# lens = []\n",
    "# for i in tqdm(range(len(df.head(1000)))):\n",
    "#     lens.append(np.load(dataset.paths[i]).shape[0])\n",
    "# sns.histplot(lens)\n",
    "\n",
    "# plt.title((np.array(lens) > 50).mean())\n",
    "# plt.axvline(50, c=\"salmon\")\n",
    "# plt.show()"
   ]
  },
  {
   "cell_type": "code",
   "execution_count": null,
   "metadata": {},
   "outputs": [],
   "source": [
    "# df[['len', 'sign']].groupby('sign').mean()"
   ]
  },
  {
   "cell_type": "markdown",
   "metadata": {},
   "source": [
    "## Model"
   ]
  },
  {
   "cell_type": "code",
   "execution_count": null,
   "metadata": {},
   "outputs": [],
   "source": [
    "model = define_model(\"mlp_bert_2\", transfo_heads=8, embed_dim=32, transfo_dim=384)  #, pretrained_weights=\"../logs/pretrain/2023-03-23/4/mlp_bert_0.pt\").cpu()"
   ]
  },
  {
   "cell_type": "code",
   "execution_count": null,
   "metadata": {},
   "outputs": [],
   "source": [
    "# model.type_embed.weight.data.fill_(0.)"
   ]
  },
  {
   "cell_type": "code",
   "execution_count": null,
   "metadata": {},
   "outputs": [],
   "source": [
    "numerize(count_parameters(model))"
   ]
  },
  {
   "cell_type": "code",
   "execution_count": null,
   "metadata": {},
   "outputs": [],
   "source": [
    "dataset = SignDataset(df, max_len=50, train=False)"
   ]
  },
  {
   "cell_type": "code",
   "execution_count": null,
   "metadata": {},
   "outputs": [],
   "source": [
    "BS = 2\n",
    "\n",
    "x = {}\n",
    "batch = [dataset[idx] for idx in range(BS)]  # \n",
    "# batch = [dataset[idx] for idx in np.random.randint(len(dataset), size=BS)]\n",
    "for k in data:\n",
    "    x[k] = torch.cat([d[k].unsqueeze(0) for d in batch])"
   ]
  },
  {
   "cell_type": "code",
   "execution_count": null,
   "metadata": {},
   "outputs": [],
   "source": [
    "y, _ = model(x)\n",
    "# y.size(), y.max()"
   ]
  },
  {
   "cell_type": "code",
   "execution_count": null,
   "metadata": {},
   "outputs": [],
   "source": [
    "# opt = torch.optim.Adam(model.parameters())\n",
    "# loss = y.mean()\n",
    "# loss.backward()\n",
    "# opt.step()\n",
    "# for name, param in model.named_parameters():\n",
    "#     if param.grad is None:\n",
    "#         print(name)"
   ]
  },
  {
   "cell_type": "markdown",
   "metadata": {},
   "source": [
    "### Att"
   ]
  },
  {
   "cell_type": "code",
   "execution_count": null,
   "metadata": {},
   "outputs": [],
   "source": [
    "# model = load_model_weights(model, \"../logs/2023-03-10/12/bert_deberta_0.pt\")"
   ]
  },
  {
   "cell_type": "code",
   "execution_count": null,
   "metadata": {},
   "outputs": [],
   "source": [
    "# atts, _ = model.get_landmark_attentions(x)"
   ]
  },
  {
   "cell_type": "code",
   "execution_count": null,
   "metadata": {},
   "outputs": [],
   "source": [
    "# order = np.argsort(x['type'][0][0].cpu().numpy())\n",
    "# att = torch.cat(atts, 1)\n",
    "# print(att.size())\n",
    "# att = att.max(0).values.sum(0).detach().cpu().numpy()\n",
    "\n",
    "# print(att.shape)\n",
    "# att = att[order].T[order].T\n",
    "\n",
    "# att -= att.min()\n",
    "# att = att.mean(0)"
   ]
  },
  {
   "cell_type": "code",
   "execution_count": null,
   "metadata": {},
   "outputs": [],
   "source": [
    "# x['type'].size()"
   ]
  },
  {
   "cell_type": "code",
   "execution_count": null,
   "metadata": {},
   "outputs": [],
   "source": [
    "# cols = np.array([list(c) + [1] for c in sns.color_palette(\"muted\", n_colors=12)])\n",
    "\n",
    "# plt.figure(figsize=(15, 5))\n",
    "# plt.bar(x=range(len(att)), height=att, color=cols[np.sort(x['type'][0][0].cpu().numpy()) - 1])\n",
    "# plt.xlim(-1, len(att))\n",
    "\n",
    "# for i, (col, m) in enumerate(zip(cols, TYPE_MAPPING.keys())):\n",
    "#     plt.text(0, att.max() - i / 3, s=m, c=col, label=col)\n",
    "\n",
    "# plt.show()\n",
    "# # print(TYPE_MAPPING)"
   ]
  },
  {
   "cell_type": "code",
   "execution_count": null,
   "metadata": {},
   "outputs": [],
   "source": [
    "# # to_drop = [12, 20, 37, 58, 63, 65, 67, 70]\n",
    "# # idx = np.argwhere(x['type'][0][0].cpu().numpy() == 11).flatten()\n",
    "\n",
    "# idx = np.argwhere(x['type'][0][0].cpu().numpy() >= 0).flatten()\n",
    "\n",
    "# to_drop = np.argwhere(att[idx] <= 1).flatten()\n",
    "# print(to_drop)\n",
    "\n",
    "# plt.figure(figsize=(15, 5))\n",
    "# plt.axhline(1, c=\"g\", alpha=0.5)\n",
    "# plt.bar(x=idx, height=att[idx], color=['r' if i in to_drop else \"b\" for i in idx])"
   ]
  },
  {
   "cell_type": "markdown",
   "metadata": {},
   "source": [
    "## Training"
   ]
  },
  {
   "cell_type": "code",
   "execution_count": null,
   "metadata": {},
   "outputs": [],
   "source": [
    "class Config:\n",
    "    \"\"\"\n",
    "    Parameters used for training\n",
    "    \"\"\"\n",
    "    # General\n",
    "    seed = 42\n",
    "    verbose = 1\n",
    "    device = \"cuda\"\n",
    "    save_weights = True\n",
    "\n",
    "    # Data\n",
    "#     processed_folder = \"processed_9/\"\n",
    "    processed_folder = \"processed_3_torch/\"\n",
    "    max_len = 50\n",
    "    aug_strength = 2\n",
    "\n",
    "    # k-fold\n",
    "    k = 4\n",
    "    folds_file = f\"../input/folds_{k}.csv\"\n",
    "    selected_folds = [0]  # , 1, 2, 3]\n",
    "\n",
    "    # Model\n",
    "    name = \"mlp_bert\"\n",
    "#     name = \"bi_bert\"\n",
    "    pretrained_weights = None\n",
    "    syncbn = False\n",
    "    num_classes = 250\n",
    "\n",
    "    embed_dim = 32\n",
    "    transfo_dim = 384\n",
    "    transfo_heads = 8\n",
    "    drop_rate = 0.2\n",
    "\n",
    "    # Training\n",
    "    loss_config = {\n",
    "        \"name\": \"ce\",\n",
    "        \"smoothing\": 0.1,\n",
    "        \"activation\": \"softmax\",\n",
    "        \"aux_loss_weight\": 0.,\n",
    "        \"activation_aux\": \"softmax\",\n",
    "    }\n",
    "\n",
    "    data_config = {\n",
    "        \"batch_size\": 32,\n",
    "        \"val_bs\": 32,\n",
    "        \"use_len_sampler\": True,\n",
    "    }\n",
    "\n",
    "    optimizer_config = {\n",
    "        \"name\": \"AdamW\",\n",
    "        \"lr\": 3e-4,\n",
    "        \"warmup_prop\": 0.1,\n",
    "        \"betas\": (0.9, 0.999),\n",
    "        \"max_grad_norm\": 10.,\n",
    "    }\n",
    "\n",
    "    epochs = 30\n",
    "\n",
    "    use_fp16 = True\n",
    "\n",
    "    verbose = 1\n",
    "    verbose_eval = 250\n",
    "\n",
    "    fullfit = len(selected_folds) == 4\n",
    "    n_fullfit = 1"
   ]
  },
  {
   "cell_type": "code",
   "execution_count": null,
   "metadata": {},
   "outputs": [],
   "source": [
    "DEBUG = True\n",
    "log_folder = None\n",
    "run = None"
   ]
  },
  {
   "cell_type": "code",
   "execution_count": null,
   "metadata": {},
   "outputs": [],
   "source": [
    "if not DEBUG:\n",
    "    log_folder = prepare_log_folder(LOG_PATH)\n",
    "    print(f\"Logging results to {log_folder}\")\n",
    "    config_df = save_config(Config, log_folder + \"config.json\")\n",
    "    create_logger(directory=log_folder, name=\"logs.txt\")\n",
    "#     run = init_neptune(Config, log_folder)\n",
    "\n",
    "df = prepare_data(DATA_PATH, Config.processed_folder)\n",
    "init_distributed(Config)\n",
    "\n",
    "preds = k_fold(Config, df, log_folder=log_folder, run=run)"
   ]
  },
  {
   "cell_type": "markdown",
   "metadata": {},
   "source": [
    "Done ! "
   ]
  }
 ],
 "metadata": {
  "kernelspec": {
   "display_name": "Python 3 (ipykernel)",
   "language": "python",
   "name": "python3"
  },
  "language_info": {
   "codemirror_mode": {
    "name": "ipython",
    "version": 3
   },
   "file_extension": ".py",
   "mimetype": "text/x-python",
   "name": "python",
   "nbconvert_exporter": "python",
   "pygments_lexer": "ipython3",
   "version": "3.8.10"
  },
  "vscode": {
   "interpreter": {
    "hash": "f7241b2af102f7e024509099765066b36197b195077f7bfac6e5bc041ba17c8c"
   }
  }
 },
 "nbformat": 4,
 "nbformat_minor": 4
}
