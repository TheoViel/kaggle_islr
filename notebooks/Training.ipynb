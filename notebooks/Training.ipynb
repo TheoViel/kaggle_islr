{
 "cells": [
  {
   "cell_type": "markdown",
   "metadata": {},
   "source": [
    "**About** : This notebook is used to train models."
   ]
  },
  {
   "cell_type": "code",
   "execution_count": 1,
   "metadata": {},
   "outputs": [],
   "source": [
    "# %load_ext nb_black\n",
    "%load_ext autoreload\n",
    "%autoreload 2"
   ]
  },
  {
   "cell_type": "code",
   "execution_count": 2,
   "metadata": {},
   "outputs": [
    {
     "name": "stdout",
     "output_type": "stream",
     "text": [
      "c:\\Users\\tviel\\work\\kaggle_islr\\src\n"
     ]
    }
   ],
   "source": [
    "cd ../src/"
   ]
  },
  {
   "cell_type": "markdown",
   "metadata": {},
   "source": [
    "## Initialization"
   ]
  },
  {
   "cell_type": "markdown",
   "metadata": {},
   "source": [
    "### Imports"
   ]
  },
  {
   "cell_type": "code",
   "execution_count": 3,
   "metadata": {},
   "outputs": [
    {
     "name": "stdout",
     "output_type": "stream",
     "text": [
      "1.12.1+cu116\n",
      "NVIDIA RTX A3000 12GB Laptop GPU\n"
     ]
    }
   ],
   "source": [
    "import os\n",
    "import torch\n",
    "\n",
    "print(torch.__version__)\n",
    "os.environ['CUDA_VISIBLE_DEVICES'] = \"0\"\n",
    "device = torch.cuda.get_device_name(0)\n",
    "print(device)"
   ]
  },
  {
   "cell_type": "code",
   "execution_count": 4,
   "metadata": {},
   "outputs": [],
   "source": [
    "import os\n",
    "import sys\n",
    "import glob\n",
    "import json\n",
    "import torch\n",
    "import warnings\n",
    "import numpy as np\n",
    "import pandas as pd\n",
    "import seaborn as sns\n",
    "import matplotlib.pyplot as plt\n",
    "\n",
    "from tqdm import tqdm\n",
    "from sklearn.metrics import *\n",
    "\n",
    "pd.set_option('display.width', 500)\n",
    "pd.set_option('max_colwidth', 100)"
   ]
  },
  {
   "cell_type": "code",
   "execution_count": 5,
   "metadata": {},
   "outputs": [],
   "source": [
    "# from training.main import k_fold\n",
    "\n",
    "# from utils.logger import (\n",
    "#     prepare_log_folder,\n",
    "#     save_config,\n",
    "#     create_logger,\n",
    "#     init_neptune\n",
    "# )\n",
    "# from utils.metrics import pfbeta\n",
    "\n",
    "from params import *\n",
    "from utils.plots import *\n",
    "# from data.dataset import *\n",
    "# from data.preparation import *\n",
    "# from data.transforms import get_transfos\n",
    "\n",
    "# from model_zoo.models import define_model"
   ]
  },
  {
   "cell_type": "markdown",
   "metadata": {},
   "source": [
    "### Folds"
   ]
  },
  {
   "cell_type": "code",
   "execution_count": 6,
   "metadata": {
    "scrolled": true
   },
   "outputs": [],
   "source": [
    "# from sklearn.model_selection import StratifiedGroupKFold\n",
    "# K = 4\n",
    "\n",
    "# df = pd.read_csv(DATA_PATH + \"train.csv\")\n",
    "\n",
    "# sgkf = StratifiedGroupKFold(n_splits=K, shuffle=True, random_state=42)\n",
    "# splits = sgkf.split(df, y=df['cancer'], groups=df['patient_id'])\n",
    "\n",
    "# df['fold'] = -1\n",
    "# for i, (_, val_idx) in enumerate(splits):\n",
    "#     df.loc[val_idx, \"fold\"] = i\n",
    "    \n",
    "# df_folds = df[[\"patient_id\", \"image_id\", \"fold\"]]\n",
    "# df_folds.to_csv(f\"/workspace/folds_{K}.csv\", index=False)"
   ]
  },
  {
   "cell_type": "markdown",
   "metadata": {},
   "source": [
    "## Data"
   ]
  },
  {
   "cell_type": "code",
   "execution_count": null,
   "metadata": {},
   "outputs": [],
   "source": [
    "def prepare_data(data_path=\"../input/\"):\n",
    "    df = pd.read_csv(DATA_PATH + \"train.csv\")"
   ]
  },
  {
   "cell_type": "code",
   "execution_count": 7,
   "metadata": {},
   "outputs": [],
   "source": []
  },
  {
   "cell_type": "code",
   "execution_count": 8,
   "metadata": {},
   "outputs": [
    {
     "data": {
      "text/plain": [
       "4968"
      ]
     },
     "execution_count": 8,
     "metadata": {},
     "output_type": "execute_result"
    }
   ],
   "source": [
    "df[\"participant_id\"].value_counts().max()"
   ]
  },
  {
   "cell_type": "code",
   "execution_count": 9,
   "metadata": {},
   "outputs": [],
   "source": [
    "classes = json.load(open(DATA_PATH + \"sign_to_prediction_index_map.json\", \"r\"))"
   ]
  },
  {
   "cell_type": "code",
   "execution_count": 10,
   "metadata": {},
   "outputs": [],
   "source": [
    "df[\"target\"] = df[\"sign\"].map(classes)\n",
    "\n",
    "df['path'] = DATA_PATH + df['path']"
   ]
  },
  {
   "cell_type": "code",
   "execution_count": 11,
   "metadata": {},
   "outputs": [],
   "source": [
    "sign = pd.read_parquet(df['path'][0])\n",
    "sign[\"y\"] *= -1"
   ]
  },
  {
   "cell_type": "code",
   "execution_count": 12,
   "metadata": {},
   "outputs": [
    {
     "data": {
      "text/html": [
       "<div>\n",
       "<style scoped>\n",
       "    .dataframe tbody tr th:only-of-type {\n",
       "        vertical-align: middle;\n",
       "    }\n",
       "\n",
       "    .dataframe tbody tr th {\n",
       "        vertical-align: top;\n",
       "    }\n",
       "\n",
       "    .dataframe thead th {\n",
       "        text-align: right;\n",
       "    }\n",
       "</style>\n",
       "<table border=\"1\" class=\"dataframe\">\n",
       "  <thead>\n",
       "    <tr style=\"text-align: right;\">\n",
       "      <th></th>\n",
       "      <th>frame</th>\n",
       "      <th>row_id</th>\n",
       "      <th>type</th>\n",
       "      <th>landmark_index</th>\n",
       "      <th>x</th>\n",
       "      <th>y</th>\n",
       "      <th>z</th>\n",
       "    </tr>\n",
       "  </thead>\n",
       "  <tbody>\n",
       "    <tr>\n",
       "      <th>0</th>\n",
       "      <td>20</td>\n",
       "      <td>20-face-0</td>\n",
       "      <td>face</td>\n",
       "      <td>0</td>\n",
       "      <td>0.494400</td>\n",
       "      <td>-0.380470</td>\n",
       "      <td>-0.030626</td>\n",
       "    </tr>\n",
       "    <tr>\n",
       "      <th>1</th>\n",
       "      <td>20</td>\n",
       "      <td>20-face-1</td>\n",
       "      <td>face</td>\n",
       "      <td>1</td>\n",
       "      <td>0.496017</td>\n",
       "      <td>-0.350735</td>\n",
       "      <td>-0.057565</td>\n",
       "    </tr>\n",
       "    <tr>\n",
       "      <th>2</th>\n",
       "      <td>20</td>\n",
       "      <td>20-face-2</td>\n",
       "      <td>face</td>\n",
       "      <td>2</td>\n",
       "      <td>0.500818</td>\n",
       "      <td>-0.359343</td>\n",
       "      <td>-0.030283</td>\n",
       "    </tr>\n",
       "    <tr>\n",
       "      <th>3</th>\n",
       "      <td>20</td>\n",
       "      <td>20-face-3</td>\n",
       "      <td>face</td>\n",
       "      <td>3</td>\n",
       "      <td>0.489788</td>\n",
       "      <td>-0.321780</td>\n",
       "      <td>-0.040622</td>\n",
       "    </tr>\n",
       "    <tr>\n",
       "      <th>4</th>\n",
       "      <td>20</td>\n",
       "      <td>20-face-4</td>\n",
       "      <td>face</td>\n",
       "      <td>4</td>\n",
       "      <td>0.495304</td>\n",
       "      <td>-0.341821</td>\n",
       "      <td>-0.061152</td>\n",
       "    </tr>\n",
       "    <tr>\n",
       "      <th>...</th>\n",
       "      <td>...</td>\n",
       "      <td>...</td>\n",
       "      <td>...</td>\n",
       "      <td>...</td>\n",
       "      <td>...</td>\n",
       "      <td>...</td>\n",
       "      <td>...</td>\n",
       "    </tr>\n",
       "    <tr>\n",
       "      <th>12484</th>\n",
       "      <td>42</td>\n",
       "      <td>42-right_hand-16</td>\n",
       "      <td>right_hand</td>\n",
       "      <td>16</td>\n",
       "      <td>0.001660</td>\n",
       "      <td>-0.549574</td>\n",
       "      <td>-0.145409</td>\n",
       "    </tr>\n",
       "    <tr>\n",
       "      <th>12485</th>\n",
       "      <td>42</td>\n",
       "      <td>42-right_hand-17</td>\n",
       "      <td>right_hand</td>\n",
       "      <td>17</td>\n",
       "      <td>0.042694</td>\n",
       "      <td>-0.693116</td>\n",
       "      <td>-0.085307</td>\n",
       "    </tr>\n",
       "    <tr>\n",
       "      <th>12486</th>\n",
       "      <td>42</td>\n",
       "      <td>42-right_hand-18</td>\n",
       "      <td>right_hand</td>\n",
       "      <td>18</td>\n",
       "      <td>0.006723</td>\n",
       "      <td>-0.665044</td>\n",
       "      <td>-0.114017</td>\n",
       "    </tr>\n",
       "    <tr>\n",
       "      <th>12487</th>\n",
       "      <td>42</td>\n",
       "      <td>42-right_hand-19</td>\n",
       "      <td>right_hand</td>\n",
       "      <td>19</td>\n",
       "      <td>-0.014755</td>\n",
       "      <td>-0.643799</td>\n",
       "      <td>-0.123488</td>\n",
       "    </tr>\n",
       "    <tr>\n",
       "      <th>12488</th>\n",
       "      <td>42</td>\n",
       "      <td>42-right_hand-20</td>\n",
       "      <td>right_hand</td>\n",
       "      <td>20</td>\n",
       "      <td>-0.031811</td>\n",
       "      <td>-0.627077</td>\n",
       "      <td>-0.129067</td>\n",
       "    </tr>\n",
       "  </tbody>\n",
       "</table>\n",
       "<p>12489 rows × 7 columns</p>\n",
       "</div>"
      ],
      "text/plain": [
       "       frame            row_id        type  landmark_index         x         y         z\n",
       "0         20         20-face-0        face               0  0.494400 -0.380470 -0.030626\n",
       "1         20         20-face-1        face               1  0.496017 -0.350735 -0.057565\n",
       "2         20         20-face-2        face               2  0.500818 -0.359343 -0.030283\n",
       "3         20         20-face-3        face               3  0.489788 -0.321780 -0.040622\n",
       "4         20         20-face-4        face               4  0.495304 -0.341821 -0.061152\n",
       "...      ...               ...         ...             ...       ...       ...       ...\n",
       "12484     42  42-right_hand-16  right_hand              16  0.001660 -0.549574 -0.145409\n",
       "12485     42  42-right_hand-17  right_hand              17  0.042694 -0.693116 -0.085307\n",
       "12486     42  42-right_hand-18  right_hand              18  0.006723 -0.665044 -0.114017\n",
       "12487     42  42-right_hand-19  right_hand              19 -0.014755 -0.643799 -0.123488\n",
       "12488     42  42-right_hand-20  right_hand              20 -0.031811 -0.627077 -0.129067\n",
       "\n",
       "[12489 rows x 7 columns]"
      ]
     },
     "execution_count": 12,
     "metadata": {},
     "output_type": "execute_result"
    }
   ],
   "source": [
    "sign"
   ]
  },
  {
   "cell_type": "code",
   "execution_count": 13,
   "metadata": {},
   "outputs": [
    {
     "data": {
      "image/png": "[encoded data removed]",
      "text/plain": [
       "<Figure size 640x480 with 1 Axes>"
      ]
     },
     "metadata": {},
     "output_type": "display_data"
    }
   ],
   "source": [
    "fig, ax = plt.subplots()\n",
    "l, = ax.plot([], [])\n",
    "\n",
    "plot_frame(sign['frame'].unique()[0], sign, ax)"
   ]
  },
  {
   "cell_type": "code",
   "execution_count": 14,
   "metadata": {},
   "outputs": [
    {
     "data": {
      "image/png": "[encoded data removed]",
      "text/plain": [
       "<Figure size 640x480 with 1 Axes>"
      ]
     },
     "metadata": {},
     "output_type": "display_data"
    }
   ],
   "source": [
    "from matplotlib.animation import FuncAnimation\n",
    "from IPython.display import HTML\n",
    "\n",
    "fig, ax = plt.subplots()\n",
    "l, = ax.plot([], [])\n",
    "animation = FuncAnimation(fig, func=lambda x: plot_frame(x, sign, ax), frames=sign.frame.unique())"
   ]
  },
  {
   "cell_type": "code",
   "execution_count": 26,
   "metadata": {},
   "outputs": [],
   "source": [
    "def create_animation(imgs, titles=[]):\n",
    "    fig = plt.figure(figsize=(15, 10))\n",
    "\n",
    "    im = plt.imshow(imgs[0], cmap=\"gray\")\n",
    "    plt.axis(False)\n",
    "\n",
    "    if len(titles):\n",
    "        fig.suptitle(f'{titles[0]}')\n",
    "    plt.close()\n",
    "\n",
    "    def animate_func(i):\n",
    "        im.set_array(imgs[i])\n",
    "        if len(titles):\n",
    "            fig.suptitle(f'{titles[i]}')\n",
    "        return [im]\n",
    "\n",
    "    return FuncAnimation(fig, animate_func, frames=len(imgs), interval=1000 // 24)"
   ]
  },
  {
   "cell_type": "code",
   "execution_count": 27,
   "metadata": {},
   "outputs": [
    {
     "data": {
      "text/plain": [
       "<matplotlib.animation.FuncAnimation at 0x26f16976950>"
      ]
     },
     "execution_count": 27,
     "metadata": {},
     "output_type": "execute_result"
    }
   ],
   "source": [
    "# create_animation([np.ones((50, 50)) for k in range(5)])"
   ]
  },
  {
   "cell_type": "code",
   "execution_count": null,
   "metadata": {},
   "outputs": [],
   "source": [
    "# img_folder = \"cbis_yolox_1536_1024/\"\n",
    "# df_extra = prepare_cbis_data(DATA_PATH, img_folder)"
   ]
  },
  {
   "cell_type": "code",
   "execution_count": null,
   "metadata": {},
   "outputs": [],
   "source": [
    "df = prepare_data(DATA_PATH, \"crops_512_512/\")"
   ]
  },
  {
   "cell_type": "code",
   "execution_count": null,
   "metadata": {},
   "outputs": [],
   "source": [
    "df.head()"
   ]
  },
  {
   "cell_type": "code",
   "execution_count": null,
   "metadata": {},
   "outputs": [],
   "source": [
    "transforms = get_transfos(augment=False, resize=None, strength=3)\n",
    "\n",
    "dataset = BreastCropDataset(df, transforms=transforms)"
   ]
  },
  {
   "cell_type": "code",
   "execution_count": null,
   "metadata": {},
   "outputs": [],
   "source": [
    "# df.drop_duplicates(subset=['patient_id', 'laterality'], keep=\"first\")[['site_id', 'cancer']].groupby(\"site_id\").mean()"
   ]
  },
  {
   "cell_type": "code",
   "execution_count": null,
   "metadata": {},
   "outputs": [],
   "source": [
    "# for i in tqdm(range(len(dataset))):\n",
    "\n",
    "plt.figure(figsize=(15, 15))\n",
    "\n",
    "for i in range(3):\n",
    "    plt.subplot(3, 3, i + 1)\n",
    "\n",
    "    idx = 0\n",
    "    imgs, y, y_aux = dataset[idx]\n",
    "    \n",
    "#     if not y:\n",
    "#         continue\n",
    "\n",
    "    for j in range(3):\n",
    "        plt.subplot(3, 3, i + 1 + j)\n",
    "        plt.imshow(imgs[j].mean(0), cmap=\"gray\")\n",
    "        plt.axis(False)\n",
    "    \n",
    "        plt.title(f\"{df['patient_id'][idx]} {df['image_id'][idx]}  - target = {int(y)} - crop {j}\")\n",
    "    break\n",
    "\n",
    "plt.show()"
   ]
  },
  {
   "cell_type": "markdown",
   "metadata": {},
   "source": [
    "## Model"
   ]
  },
  {
   "cell_type": "code",
   "execution_count": null,
   "metadata": {},
   "outputs": [],
   "source": [
    "model = define_model('eca_nfnet_l1', num_classes=1, num_classes_aux=3, n_channels=3, reduce_stride=False, drop_path_rate=0., use_gem=True, crops=True)"
   ]
  },
  {
   "cell_type": "code",
   "execution_count": null,
   "metadata": {},
   "outputs": [],
   "source": [
    "x = torch.cat([imgs.unsqueeze(0)] * 2)\n",
    "\n",
    "pred, pred_aux = model(x)"
   ]
  },
  {
   "cell_type": "code",
   "execution_count": null,
   "metadata": {},
   "outputs": [],
   "source": [
    "loss = model.loss(pred, torch.ones(2), torch.nn.CrossEntropyLoss(reduction=\"mean\"), 0.1)"
   ]
  },
  {
   "cell_type": "markdown",
   "metadata": {},
   "source": [
    "## Training"
   ]
  },
  {
   "cell_type": "code",
   "execution_count": null,
   "metadata": {},
   "outputs": [],
   "source": [
    "MODELS = [\n",
    "    # ResNets\n",
    "    \"resnet18\",\n",
    "    \"resnext50_32x4d\",\n",
    "    \"seresnext50_32x4d\",\n",
    "\n",
    "    # EfficientNets\n",
    "    \"tf_efficientnetv2_s\",\n",
    "    \"tf_efficientnetv2_m\",\n",
    "    \"tf_efficientnetv2_b0\",\n",
    "    \"tf_efficientnetv2_b1\",\n",
    "]"
   ]
  },
  {
   "cell_type": "code",
   "execution_count": null,
   "metadata": {},
   "outputs": [],
   "source": [
    "# import torch_performance_linter"
   ]
  },
  {
   "cell_type": "code",
   "execution_count": null,
   "metadata": {},
   "outputs": [],
   "source": [
    "class Config:\n",
    "    \"\"\"\n",
    "    Parameters used for training\n",
    "    \"\"\"\n",
    "    # General\n",
    "    seed = 42\n",
    "    verbose = 1\n",
    "    device = \"cuda\"\n",
    "    save_weights = True\n",
    "\n",
    "    # Images\n",
    "    img_folder = \"crop_1024_w/\"\n",
    "    resize = None\n",
    "    aug_strength = 1\n",
    "\n",
    "    # k-fold\n",
    "    k = 4\n",
    "    folds_file = f\"../input/folds_{k}.csv\"\n",
    "    selected_folds = [0, 1, 2, 3]\n",
    "\n",
    "    # Model\n",
    "    name = \"tf_efficientnet_b0\"\n",
    "    pretrained_weights = None # PRETRAINED_WEIGHTS[name]  # None\n",
    "    num_classes = 1\n",
    "    num_classes_aux = 3\n",
    "    n_channels = 3\n",
    "    reduce_stride = False\n",
    "\n",
    "    # Training    \n",
    "    loss_config = {\n",
    "        \"name\": \"bce\",\n",
    "        \"smoothing\": 0.,\n",
    "        \"activation\": \"sigmoid\",\n",
    "        \"aux_loss_weight\": 0.1,\n",
    "        \"pos_weight\": None,\n",
    "        \"activation_aux\": \"softmax\",\n",
    "    }\n",
    "\n",
    "    data_config = {\n",
    "        \"batch_size\": 16,\n",
    "        \"val_bs\": 16,\n",
    "        \"mix\": \"mixup\",\n",
    "        \"mix_proba\": 0.,\n",
    "        \"mix_alpha\": 4.,\n",
    "        \"additive_mix\": False,\n",
    "        \"use_len_sampler\": False,\n",
    "        \"use_balanced_sampler\": False,\n",
    "        \"use_weighted_sampler\": False,\n",
    "        \"sampler_weights\": [1, 1, 1, 1],  # pos, birads 0, 1, 2\n",
    "        \"use_custom_collate\": False,\n",
    "    }\n",
    "\n",
    "    optimizer_config = {\n",
    "        \"name\": \"Ranger\",\n",
    "        \"lr\": 5e-4,\n",
    "        \"warmup_prop\": 0.,\n",
    "        \"betas\": (0.9, 0.999),\n",
    "        \"max_grad_norm\": 10.,\n",
    "    }\n",
    "\n",
    "    epochs = 5\n",
    "\n",
    "    use_fp16 = True\n",
    "\n",
    "    verbose = 1\n",
    "    verbose_eval = 500"
   ]
  },
  {
   "cell_type": "code",
   "execution_count": null,
   "metadata": {},
   "outputs": [],
   "source": [
    "DEBUG = True\n",
    "log_folder = None\n",
    "run = None"
   ]
  },
  {
   "cell_type": "code",
   "execution_count": null,
   "metadata": {},
   "outputs": [],
   "source": [
    "if not DEBUG:\n",
    "    log_folder = prepare_log_folder(LOG_PATH)\n",
    "    print(f\"Logging results to {log_folder}\")\n",
    "    config_df = save_config(Config, log_folder + \"config.json\")\n",
    "    create_logger(directory=log_folder, name=\"logs.txt\")\n",
    "#     run = init_neptune(Config, log_folder)\n",
    "\n",
    "df = prepare_data(DATA_PATH, DATA_PATH + Config.img_folder)\n",
    "\n",
    "# df['cancer'] = (df['BIRADS'] <= 0).astype(int)\n",
    "# df = df.dropna(axis=0).reset_index(drop=True)\n",
    "# df = df.head(10000) if DEBUG else df\n",
    "\n",
    "preds = k_fold(Config, df, log_folder=log_folder, run=run)"
   ]
  },
  {
   "cell_type": "markdown",
   "metadata": {},
   "source": [
    "Done ! "
   ]
  }
 ],
 "metadata": {
  "kernelspec": {
   "display_name": "Python 3.10.10 64-bit (microsoft store)",
   "language": "python",
   "name": "python3"
  },
  "language_info": {
   "codemirror_mode": {
    "name": "ipython",
    "version": 3
   },
   "file_extension": ".py",
   "mimetype": "text/x-python",
   "name": "python",
   "nbconvert_exporter": "python",
   "pygments_lexer": "ipython3",
   "version": "3.10.10"
  },
  "vscode": {
   "interpreter": {
    "hash": "f7241b2af102f7e024509099765066b36197b195077f7bfac6e5bc041ba17c8c"
   }
  }
 },
 "nbformat": 4,
 "nbformat_minor": 4
}
