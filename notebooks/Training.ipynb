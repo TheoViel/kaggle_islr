{
 "cells": [
  {
   "cell_type": "markdown",
   "metadata": {},
   "source": [
    "**About** : This notebook is used to train models."
   ]
  },
  {
   "cell_type": "code",
   "execution_count": null,
   "metadata": {},
   "outputs": [],
   "source": [
    "# %load_ext nb_black\n",
    "%load_ext autoreload\n",
    "%autoreload 2"
   ]
  },
  {
   "cell_type": "code",
   "execution_count": null,
   "metadata": {},
   "outputs": [],
   "source": [
    "cd ../src/"
   ]
  },
  {
   "cell_type": "markdown",
   "metadata": {},
   "source": [
    "## Initialization"
   ]
  },
  {
   "cell_type": "markdown",
   "metadata": {},
   "source": [
    "### Imports"
   ]
  },
  {
   "cell_type": "code",
   "execution_count": null,
   "metadata": {},
   "outputs": [],
   "source": [
    "import os\n",
    "import torch\n",
    "\n",
    "print(torch.__version__)\n",
    "os.environ['CUDA_VISIBLE_DEVICES'] = \"0\"\n",
    "device = torch.cuda.get_device_name(0)\n",
    "print(device)"
   ]
  },
  {
   "cell_type": "code",
   "execution_count": null,
   "metadata": {},
   "outputs": [],
   "source": [
    "import os\n",
    "import sys\n",
    "import glob\n",
    "import json\n",
    "import cudf\n",
    "import torch\n",
    "import warnings\n",
    "import numpy as np\n",
    "import pandas as pd\n",
    "import seaborn as sns\n",
    "import matplotlib.pyplot as plt\n",
    "\n",
    "from tqdm import tqdm\n",
    "from sklearn.metrics import *\n",
    "\n",
    "pd.set_option('display.width', 500)\n",
    "pd.set_option('max_colwidth', 100)"
   ]
  },
  {
   "cell_type": "code",
   "execution_count": null,
   "metadata": {},
   "outputs": [],
   "source": [
    "from training.main import k_fold\n",
    "\n",
    "from utils.logger import (\n",
    "    prepare_log_folder,\n",
    "    save_config,\n",
    "    create_logger,\n",
    "    init_neptune\n",
    ")\n",
    "\n",
    "from params import *\n",
    "from utils.plots import *\n",
    "from data.dataset import *\n",
    "from data.preparation import *\n",
    "from utils.torch import init_distributed\n",
    "from utils.plots import plot_sample\n",
    "from model_zoo.models import define_model"
   ]
  },
  {
   "cell_type": "markdown",
   "metadata": {},
   "source": [
    "## Data"
   ]
  },
  {
   "cell_type": "code",
   "execution_count": null,
   "metadata": {},
   "outputs": [],
   "source": [
    "df = prepare_data(DATA_PATH, processed_folder=\"processed_3/\")"
   ]
  },
  {
   "cell_type": "code",
   "execution_count": null,
   "metadata": {},
   "outputs": [],
   "source": [
    "df = df.head(10000)"
   ]
  },
  {
   "cell_type": "code",
   "execution_count": null,
   "metadata": {},
   "outputs": [],
   "source": [
    "dataset = SignDataset(df, max_len=None, train=True)\n",
    "# dataset = SignDataset(df, max_len=None, train=False)"
   ]
  },
  {
   "cell_type": "code",
   "execution_count": null,
   "metadata": {},
   "outputs": [],
   "source": [
    "data = dataset[0]"
   ]
  },
  {
   "cell_type": "code",
   "execution_count": null,
   "metadata": {},
   "outputs": [],
   "source": [
    "plot_sample(data)"
   ]
  },
  {
   "cell_type": "code",
   "execution_count": null,
   "metadata": {},
   "outputs": [],
   "source": [
    "lens = []\n",
    "for i in tqdm(range(len(df.head(10000)))):\n",
    "    lens.append(np.load(dataset.paths[i]).shape[0])\n",
    "sns.histplot(lens)"
   ]
  },
  {
   "cell_type": "code",
   "execution_count": null,
   "metadata": {},
   "outputs": [],
   "source": [
    "# df[['len', 'sign']].groupby('sign').mean()"
   ]
  },
  {
   "cell_type": "code",
   "execution_count": null,
   "metadata": {},
   "outputs": [],
   "source": [
    "from training.losses import *"
   ]
  },
  {
   "cell_type": "code",
   "execution_count": null,
   "metadata": {},
   "outputs": [],
   "source": [
    "loss = SignLoss({\"name\": \"ce\", \"aux_loss_weight\": 0})"
   ]
  },
  {
   "cell_type": "code",
   "execution_count": null,
   "metadata": {},
   "outputs": [],
   "source": [
    "loss(torch.rand(64, 250), 0, torch.ones(64), 0)"
   ]
  },
  {
   "cell_type": "markdown",
   "metadata": {},
   "source": [
    "## Model"
   ]
  },
  {
   "cell_type": "code",
   "execution_count": null,
   "metadata": {},
   "outputs": [],
   "source": [
    "import seaborn as sns \n",
    "from utils.torch import count_parameters, load_model_weights\n",
    "from numerize.numerize import numerize"
   ]
  },
  {
   "cell_type": "code",
   "execution_count": null,
   "metadata": {},
   "outputs": [],
   "source": [
    "model = define_model(\"bert_deberta\", transfo_heads=8, embed_dim=128, transfo_dim=128*3).cuda()"
   ]
  },
  {
   "cell_type": "code",
   "execution_count": null,
   "metadata": {},
   "outputs": [],
   "source": [
    "# model.type_embed.weight.data.fill_(0.)"
   ]
  },
  {
   "cell_type": "code",
   "execution_count": null,
   "metadata": {},
   "outputs": [],
   "source": [
    "# model = load_model_weights(model, \"../logs/2023-03-10/12/bert_deberta_0.pt\")"
   ]
  },
  {
   "cell_type": "code",
   "execution_count": null,
   "metadata": {},
   "outputs": [],
   "source": [
    "numerize(count_parameters(model))"
   ]
  },
  {
   "cell_type": "code",
   "execution_count": null,
   "metadata": {},
   "outputs": [],
   "source": [
    "dataset = SignDataset(df, max_len=30, train=False)"
   ]
  },
  {
   "cell_type": "code",
   "execution_count": null,
   "metadata": {},
   "outputs": [],
   "source": [
    "BS = 32\n",
    "\n",
    "x = {}\n",
    "batch = [dataset[idx] for idx in np.random.randint(len(dataset), size=BS)]\n",
    "for k in data:\n",
    "    x[k] = torch.cat([d[k].unsqueeze(0).cuda() for d in batch])"
   ]
  },
  {
   "cell_type": "code",
   "execution_count": null,
   "metadata": {},
   "outputs": [],
   "source": [
    "y, _ = model(x)\n",
    "y.size(), y.max()"
   ]
  },
  {
   "cell_type": "markdown",
   "metadata": {},
   "source": [
    "### Att"
   ]
  },
  {
   "cell_type": "code",
   "execution_count": null,
   "metadata": {},
   "outputs": [],
   "source": [
    "atts, _ = model.get_landmark_attentions(x)"
   ]
  },
  {
   "cell_type": "code",
   "execution_count": null,
   "metadata": {},
   "outputs": [],
   "source": [
    "order = np.argsort(x['type'][0][0].cpu().numpy())\n",
    "att = torch.cat(atts, 1)\n",
    "print(att.size())\n",
    "att = att.max(0).values.sum(0).detach().cpu().numpy()\n",
    "\n",
    "print(att.shape)\n",
    "att = att[order].T[order].T\n",
    "\n",
    "att -= att.min()\n",
    "att = att.mean(0)"
   ]
  },
  {
   "cell_type": "code",
   "execution_count": null,
   "metadata": {},
   "outputs": [],
   "source": [
    "x['type'].size()"
   ]
  },
  {
   "cell_type": "code",
   "execution_count": null,
   "metadata": {},
   "outputs": [],
   "source": [
    "cols = np.array([list(c) + [1] for c in sns.color_palette(\"muted\", n_colors=12)])\n",
    "\n",
    "plt.figure(figsize=(15, 5))\n",
    "plt.bar(x=range(len(att)), height=att, color=cols[np.sort(x['type'][0][0].cpu().numpy()) - 1])\n",
    "plt.xlim(-1, len(att))\n",
    "\n",
    "for i, (col, m) in enumerate(zip(cols, TYPE_MAPPING.keys())):\n",
    "    plt.text(0, att.max() - i / 3, s=m, c=col, label=col)\n",
    "\n",
    "plt.show()\n",
    "# print(TYPE_MAPPING)"
   ]
  },
  {
   "cell_type": "code",
   "execution_count": null,
   "metadata": {},
   "outputs": [],
   "source": [
    "# to_drop = [12, 20, 37, 58, 63, 65, 67, 70]\n",
    "# idx = np.argwhere(x['type'][0][0].cpu().numpy() == 11).flatten()\n",
    "\n",
    "idx = np.argwhere(x['type'][0][0].cpu().numpy() >= 0).flatten()\n",
    "\n",
    "to_drop = np.argwhere(att[idx] <= 1).flatten()\n",
    "print(to_drop)\n",
    "\n",
    "plt.figure(figsize=(15, 5))\n",
    "plt.axhline(1, c=\"g\", alpha=0.5)\n",
    "plt.bar(x=idx, height=att[idx], color=['r' if i in to_drop else \"b\" for i in idx])"
   ]
  },
  {
   "cell_type": "markdown",
   "metadata": {},
   "source": [
    "[12 13 14 15 49 57 60]\n",
    "[12 13 14 45 49 57 58 60]\n",
    "[12 13 14 45 48 49 57 58 59 60]\n",
    "[12 13 14 15 37 46 48 49 56 57 59 60 85 91 92 94 95]"
   ]
  },
  {
   "cell_type": "code",
   "execution_count": null,
   "metadata": {},
   "outputs": [],
   "source": [
    "# y"
   ]
  },
  {
   "cell_type": "code",
   "execution_count": null,
   "metadata": {},
   "outputs": [],
   "source": []
  },
  {
   "cell_type": "markdown",
   "metadata": {},
   "source": [
    "## Training"
   ]
  },
  {
   "cell_type": "code",
   "execution_count": null,
   "metadata": {},
   "outputs": [],
   "source": [
    "class Config:\n",
    "    \"\"\"\n",
    "    Parameters used for training\n",
    "    \"\"\"\n",
    "    # General\n",
    "    seed = 42\n",
    "    verbose = 1\n",
    "    device = \"cuda\"\n",
    "    save_weights = True\n",
    "\n",
    "    # Data\n",
    "    processed_folder = \"processed_2/\"\n",
    "    max_len = 50\n",
    "\n",
    "    # k-fold\n",
    "    k = 4\n",
    "    folds_file = f\"../input/folds_{k}.csv\"\n",
    "    selected_folds = [0]  # , 1, 2, 3]\n",
    "\n",
    "    # Model\n",
    "    name = \"transfo_rnn\"\n",
    "    pretrained_weights = None\n",
    "    syncbn = False\n",
    "    num_classes = 250\n",
    "    \n",
    "    embed_dim = 128\n",
    "    transfo_dim = embed_dim * 3\n",
    "    transfo_heads = 4\n",
    "    drop_rate = 0.\n",
    "\n",
    "    # Training    \n",
    "    loss_config = {\n",
    "        \"name\": \"ce\",\n",
    "        \"smoothing\": 0.,\n",
    "        \"activation\": \"softmax\",\n",
    "        \"aux_loss_weight\": 0.,\n",
    "        \"activation_aux\": \"softmax\",\n",
    "    }\n",
    "\n",
    "    data_config = {\n",
    "        \"batch_size\": 64,\n",
    "        \"val_bs\": 64,\n",
    "        \"use_len_sampler\": True,\n",
    "    }\n",
    "\n",
    "    optimizer_config = {\n",
    "        \"name\": \"AdamW\",\n",
    "        \"lr\": 5e-3,\n",
    "        \"warmup_prop\": 0.,\n",
    "        \"betas\": (0.9, 0.999),\n",
    "        \"max_grad_norm\": 10.,\n",
    "    }\n",
    "\n",
    "    epochs = 100\n",
    "\n",
    "    use_fp16 = True\n",
    "\n",
    "    verbose = 1\n",
    "    verbose_eval = 250\n",
    "\n",
    "    fullfit = False\n",
    "    n_fullfit = 1"
   ]
  },
  {
   "cell_type": "code",
   "execution_count": null,
   "metadata": {},
   "outputs": [],
   "source": [
    "DEBUG = True\n",
    "log_folder = None\n",
    "run = None"
   ]
  },
  {
   "cell_type": "code",
   "execution_count": null,
   "metadata": {},
   "outputs": [],
   "source": [
    "if not DEBUG:\n",
    "    log_folder = prepare_log_folder(LOG_PATH)\n",
    "    print(f\"Logging results to {log_folder}\")\n",
    "    config_df = save_config(Config, log_folder + \"config.json\")\n",
    "    create_logger(directory=log_folder, name=\"logs.txt\")\n",
    "#     run = init_neptune(Config, log_folder)\n",
    "\n",
    "df = prepare_data(DATA_PATH, Config.processed_folder)\n",
    "init_distributed(Config)\n",
    "\n",
    "preds = k_fold(Config, df, log_folder=log_folder, run=run)"
   ]
  },
  {
   "cell_type": "markdown",
   "metadata": {},
   "source": [
    "Done ! "
   ]
  }
 ],
 "metadata": {
  "kernelspec": {
   "display_name": "Python 3 (ipykernel)",
   "language": "python",
   "name": "python3"
  },
  "language_info": {
   "codemirror_mode": {
    "name": "ipython",
    "version": 3
   },
   "file_extension": ".py",
   "mimetype": "text/x-python",
   "name": "python",
   "nbconvert_exporter": "python",
   "pygments_lexer": "ipython3",
   "version": "3.8.10"
  },
  "vscode": {
   "interpreter": {
    "hash": "f7241b2af102f7e024509099765066b36197b195077f7bfac6e5bc041ba17c8c"
   }
  }
 },
 "nbformat": 4,
 "nbformat_minor": 4
}
