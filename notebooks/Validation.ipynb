{
 "cells": [
  {
   "cell_type": "markdown",
   "metadata": {},
   "source": [
    "**About** : This notebook is used to validate models."
   ]
  },
  {
   "cell_type": "code",
   "execution_count": 1,
   "metadata": {},
   "outputs": [],
   "source": [
    "# %load_ext nb_black\n",
    "%load_ext autoreload\n",
    "%autoreload 2"
   ]
  },
  {
   "cell_type": "code",
   "execution_count": 2,
   "metadata": {},
   "outputs": [
    {
     "name": "stdout",
     "output_type": "stream",
     "text": [
      "/workspace/kaggle_islr/src\n"
     ]
    }
   ],
   "source": [
    "cd ../src/"
   ]
  },
  {
   "cell_type": "markdown",
   "metadata": {},
   "source": [
    "## Initialization"
   ]
  },
  {
   "cell_type": "markdown",
   "metadata": {},
   "source": [
    "### Imports"
   ]
  },
  {
   "cell_type": "code",
   "execution_count": 3,
   "metadata": {},
   "outputs": [
    {
     "name": "stdout",
     "output_type": "stream",
     "text": [
      "1.14.0a0+410ce96\n"
     ]
    },
    {
     "data": {
      "text/plain": [
       "'Tesla V100-SXM2-32GB-LS'"
      ]
     },
     "execution_count": 3,
     "metadata": {},
     "output_type": "execute_result"
    }
   ],
   "source": [
    "import os\n",
    "import torch\n",
    "\n",
    "print(torch.__version__)\n",
    "os.environ['CUDA_VISIBLE_DEVICES'] = \"1\"\n",
    "torch.cuda.get_device_name(0)"
   ]
  },
  {
   "cell_type": "code",
   "execution_count": 4,
   "metadata": {},
   "outputs": [],
   "source": [
    "import os\n",
    "import re\n",
    "import sys\n",
    "import glob\n",
    "import json\n",
    "import time\n",
    "import torch\n",
    "import warnings\n",
    "import numpy as np\n",
    "import pandas as pd\n",
    "import seaborn as sns\n",
    "import matplotlib.pyplot as plt\n",
    "\n",
    "from tqdm import tqdm\n",
    "from sklearn.metrics import *\n",
    "\n",
    "warnings.simplefilter(action=\"ignore\", category=FutureWarning)\n",
    "warnings.simplefilter(action=\"ignore\", category=UserWarning)\n",
    "pd.set_option('display.max_columns', 500)"
   ]
  },
  {
   "cell_type": "code",
   "execution_count": 5,
   "metadata": {},
   "outputs": [],
   "source": [
    "from params import *\n",
    "\n",
    "from data.preparation import *\n",
    "from data.dataset import SignDataset\n",
    "\n",
    "from utils.metrics import *\n",
    "from utils.plots import *\n",
    "from utils.logger import Config\n",
    "\n",
    "from inference.main import kfold_inference_val"
   ]
  },
  {
   "cell_type": "markdown",
   "metadata": {},
   "source": [
    "## Expes"
   ]
  },
  {
   "cell_type": "code",
   "execution_count": 6,
   "metadata": {},
   "outputs": [],
   "source": [
    "# EXP_FOLDER = \"../logs/2023-03-16/42/\"\n",
    "# EXP_FOLDER = \"../logs/2023-03-25/6/\"\n",
    "# EXP_FOLDER = \"../logs/2023-03-29/5/\"\n",
    "EXP_FOLDER = \"../logs/2023-03-30/3/\"\n",
    "EXP_FOLDER = \"../logs/2023-04-06/10/\"\n",
    "EXP_FOLDER = \"../logs/2023-04-07/12/\"\n",
    "EXP_FOLDER = \"../logs/2023-04-09/0/\""
   ]
  },
  {
   "cell_type": "code",
   "execution_count": 7,
   "metadata": {},
   "outputs": [],
   "source": [
    "config = Config(json.load(open(EXP_FOLDER + \"config.json\", \"r\")))"
   ]
  },
  {
   "cell_type": "code",
   "execution_count": 8,
   "metadata": {},
   "outputs": [],
   "source": [
    "df = prepare_data(DATA_PATH, config.processed_folder)"
   ]
  },
  {
   "cell_type": "code",
   "execution_count": 17,
   "metadata": {},
   "outputs": [
    {
     "name": "stdout",
     "output_type": "stream",
     "text": [
      "-> CV acc : 0.7189\n"
     ]
    }
   ],
   "source": [
    "EXP_FOLDERS = [\n",
    "#     \"../logs/2023-04-12/0/\",\n",
    "#     \"../logs/2023-04-11/29/\",\n",
    "    \"../logs/2023-04-12/4/\",\n",
    "    \"../logs/2023-04-12/6/\",\n",
    "]\n",
    "\n",
    "pred_oof = np.mean([np.load(e + \"pred_oof.npy\") for e in EXP_FOLDERS], 0)\n",
    "df['pred'] = pred_oof.argmax(-1)\n",
    "\n",
    "score = accuracy(df['target'], pred_oof)\n",
    "print(f\"-> CV acc : {score:.4f}\")"
   ]
  },
  {
   "cell_type": "code",
   "execution_count": 27,
   "metadata": {},
   "outputs": [
    {
     "name": "stdout",
     "output_type": "stream",
     "text": [
      "-> CV acc : 0.7191\n"
     ]
    }
   ],
   "source": [
    "EXP_FOLDERS = [\n",
    "    \"../logs/2023-04-12/2/\",\n",
    "    \"../logs/2023-04-12/0/\",\n",
    "#     \"../logs/2023-04-11/31/\",\n",
    "    \"../logs/2023-04-11/29/\",\n",
    "#     \"../logs/2023-04-11/28/\",\n",
    "#     \"../logs/2023-04-11/26/\",\n",
    "]\n",
    "\n",
    "pred_oof = np.mean([np.load(e + \"pred_oof.npy\") for e in EXP_FOLDERS], 0)\n",
    "df['pred'] = pred_oof.argmax(-1)\n",
    "\n",
    "score = accuracy(df['target'], pred_oof)\n",
    "print(f\"-> CV acc : {score:.4f}\")"
   ]
  },
  {
   "cell_type": "code",
   "execution_count": 11,
   "metadata": {},
   "outputs": [],
   "source": [
    "if \"fold\" not in df.columns:\n",
    "    folds = pd.read_csv(config.folds_file)\n",
    "    df = df.merge(folds, how=\"left\", on=[\"participant_id\", \"sequence_id\"])"
   ]
  },
  {
   "cell_type": "code",
   "execution_count": 12,
   "metadata": {},
   "outputs": [
    {
     "name": "stdout",
     "output_type": "stream",
     "text": [
      "-> CV acc : 0.7158\n"
     ]
    }
   ],
   "source": [
    "pred_oof = np.load(EXP_FOLDER + \"pred_oof.npy\")\n",
    "df['pred'] = pred_oof.argmax(-1)\n",
    "\n",
    "score = accuracy(df['target'], pred_oof)\n",
    "print(f\"-> CV acc : {score:.4f}\")"
   ]
  },
  {
   "cell_type": "code",
   "execution_count": 13,
   "metadata": {},
   "outputs": [],
   "source": [
    "# df = df[df['participant_id'] != 29302].reset_index(drop=True)\n",
    "# score = accuracy(df['target'], df['pred'])\n",
    "# print(f\"-> CV acc : {score:.4f}\")"
   ]
  },
  {
   "cell_type": "code",
   "execution_count": 14,
   "metadata": {},
   "outputs": [],
   "source": [
    "df['error'] = (df['target'] != df['pred'])"
   ]
  },
  {
   "cell_type": "code",
   "execution_count": 15,
   "metadata": {},
   "outputs": [],
   "source": [
    "dfg = df.groupby('participant_id').agg(['mean', 'count', 'sum'])[['error']]"
   ]
  },
  {
   "cell_type": "code",
   "execution_count": 16,
   "metadata": {},
   "outputs": [
    {
     "data": {
      "text/html": [
       "<div>\n",
       "<style scoped>\n",
       "    .dataframe tbody tr th:only-of-type {\n",
       "        vertical-align: middle;\n",
       "    }\n",
       "\n",
       "    .dataframe tbody tr th {\n",
       "        vertical-align: top;\n",
       "    }\n",
       "\n",
       "    .dataframe thead tr th {\n",
       "        text-align: left;\n",
       "    }\n",
       "\n",
       "    .dataframe thead tr:last-of-type th {\n",
       "        text-align: right;\n",
       "    }\n",
       "</style>\n",
       "<table border=\"1\" class=\"dataframe\">\n",
       "  <thead>\n",
       "    <tr>\n",
       "      <th></th>\n",
       "      <th colspan=\"3\" halign=\"left\">error</th>\n",
       "    </tr>\n",
       "    <tr>\n",
       "      <th></th>\n",
       "      <th>mean</th>\n",
       "      <th>count</th>\n",
       "      <th>sum</th>\n",
       "    </tr>\n",
       "    <tr>\n",
       "      <th>participant_id</th>\n",
       "      <th></th>\n",
       "      <th></th>\n",
       "      <th></th>\n",
       "    </tr>\n",
       "  </thead>\n",
       "  <tbody>\n",
       "    <tr>\n",
       "      <th>26734</th>\n",
       "      <td>0.138195</td>\n",
       "      <td>4841</td>\n",
       "      <td>669</td>\n",
       "    </tr>\n",
       "    <tr>\n",
       "      <th>61333</th>\n",
       "      <td>0.159796</td>\n",
       "      <td>4900</td>\n",
       "      <td>783</td>\n",
       "    </tr>\n",
       "    <tr>\n",
       "      <th>62590</th>\n",
       "      <td>0.181460</td>\n",
       "      <td>4563</td>\n",
       "      <td>828</td>\n",
       "    </tr>\n",
       "    <tr>\n",
       "      <th>22343</th>\n",
       "      <td>0.192431</td>\n",
       "      <td>4677</td>\n",
       "      <td>900</td>\n",
       "    </tr>\n",
       "    <tr>\n",
       "      <th>37779</th>\n",
       "      <td>0.193225</td>\n",
       "      <td>4782</td>\n",
       "      <td>924</td>\n",
       "    </tr>\n",
       "    <tr>\n",
       "      <th>2044</th>\n",
       "      <td>0.219335</td>\n",
       "      <td>4810</td>\n",
       "      <td>1055</td>\n",
       "    </tr>\n",
       "    <tr>\n",
       "      <th>55372</th>\n",
       "      <td>0.221094</td>\n",
       "      <td>4826</td>\n",
       "      <td>1067</td>\n",
       "    </tr>\n",
       "    <tr>\n",
       "      <th>53618</th>\n",
       "      <td>0.226375</td>\n",
       "      <td>4656</td>\n",
       "      <td>1054</td>\n",
       "    </tr>\n",
       "    <tr>\n",
       "      <th>37055</th>\n",
       "      <td>0.255809</td>\n",
       "      <td>4648</td>\n",
       "      <td>1189</td>\n",
       "    </tr>\n",
       "    <tr>\n",
       "      <th>27610</th>\n",
       "      <td>0.262924</td>\n",
       "      <td>4275</td>\n",
       "      <td>1124</td>\n",
       "    </tr>\n",
       "    <tr>\n",
       "      <th>16069</th>\n",
       "      <td>0.269183</td>\n",
       "      <td>4848</td>\n",
       "      <td>1305</td>\n",
       "    </tr>\n",
       "    <tr>\n",
       "      <th>32319</th>\n",
       "      <td>0.292657</td>\n",
       "      <td>4753</td>\n",
       "      <td>1391</td>\n",
       "    </tr>\n",
       "    <tr>\n",
       "      <th>28656</th>\n",
       "      <td>0.295639</td>\n",
       "      <td>4563</td>\n",
       "      <td>1349</td>\n",
       "    </tr>\n",
       "    <tr>\n",
       "      <th>25571</th>\n",
       "      <td>0.302717</td>\n",
       "      <td>3865</td>\n",
       "      <td>1170</td>\n",
       "    </tr>\n",
       "    <tr>\n",
       "      <th>18796</th>\n",
       "      <td>0.313250</td>\n",
       "      <td>3502</td>\n",
       "      <td>1097</td>\n",
       "    </tr>\n",
       "    <tr>\n",
       "      <th>36257</th>\n",
       "      <td>0.325980</td>\n",
       "      <td>4896</td>\n",
       "      <td>1596</td>\n",
       "    </tr>\n",
       "    <tr>\n",
       "      <th>49445</th>\n",
       "      <td>0.327899</td>\n",
       "      <td>4968</td>\n",
       "      <td>1629</td>\n",
       "    </tr>\n",
       "    <tr>\n",
       "      <th>34503</th>\n",
       "      <td>0.370957</td>\n",
       "      <td>4545</td>\n",
       "      <td>1686</td>\n",
       "    </tr>\n",
       "    <tr>\n",
       "      <th>30680</th>\n",
       "      <td>0.406830</td>\n",
       "      <td>3338</td>\n",
       "      <td>1358</td>\n",
       "    </tr>\n",
       "    <tr>\n",
       "      <th>4718</th>\n",
       "      <td>0.540154</td>\n",
       "      <td>3499</td>\n",
       "      <td>1890</td>\n",
       "    </tr>\n",
       "    <tr>\n",
       "      <th>29302</th>\n",
       "      <td>0.590216</td>\n",
       "      <td>4722</td>\n",
       "      <td>2787</td>\n",
       "    </tr>\n",
       "  </tbody>\n",
       "</table>\n",
       "</div>"
      ],
      "text/plain": [
       "                   error            \n",
       "                    mean count   sum\n",
       "participant_id                      \n",
       "26734           0.138195  4841   669\n",
       "61333           0.159796  4900   783\n",
       "62590           0.181460  4563   828\n",
       "22343           0.192431  4677   900\n",
       "37779           0.193225  4782   924\n",
       "2044            0.219335  4810  1055\n",
       "55372           0.221094  4826  1067\n",
       "53618           0.226375  4656  1054\n",
       "37055           0.255809  4648  1189\n",
       "27610           0.262924  4275  1124\n",
       "16069           0.269183  4848  1305\n",
       "32319           0.292657  4753  1391\n",
       "28656           0.295639  4563  1349\n",
       "25571           0.302717  3865  1170\n",
       "18796           0.313250  3502  1097\n",
       "36257           0.325980  4896  1596\n",
       "49445           0.327899  4968  1629\n",
       "34503           0.370957  4545  1686\n",
       "30680           0.406830  3338  1358\n",
       "4718            0.540154  3499  1890\n",
       "29302           0.590216  4722  2787"
      ]
     },
     "execution_count": 16,
     "metadata": {},
     "output_type": "execute_result"
    }
   ],
   "source": [
    "dfg.sort_values(('error',  'mean'))"
   ]
  },
  {
   "cell_type": "code",
   "execution_count": 17,
   "metadata": {},
   "outputs": [
    {
     "data": {
      "text/html": [
       "<div>\n",
       "<style scoped>\n",
       "    .dataframe tbody tr th:only-of-type {\n",
       "        vertical-align: middle;\n",
       "    }\n",
       "\n",
       "    .dataframe tbody tr th {\n",
       "        vertical-align: top;\n",
       "    }\n",
       "\n",
       "    .dataframe thead th {\n",
       "        text-align: right;\n",
       "    }\n",
       "</style>\n",
       "<table border=\"1\" class=\"dataframe\">\n",
       "  <thead>\n",
       "    <tr style=\"text-align: right;\">\n",
       "      <th>sign</th>\n",
       "      <th>there</th>\n",
       "      <th>beside</th>\n",
       "      <th>give</th>\n",
       "      <th>pen</th>\n",
       "      <th>go</th>\n",
       "      <th>awake</th>\n",
       "      <th>goose</th>\n",
       "      <th>snack</th>\n",
       "      <th>nap</th>\n",
       "      <th>after</th>\n",
       "      <th>mouth</th>\n",
       "      <th>puzzle</th>\n",
       "      <th>fast</th>\n",
       "      <th>glasswindow</th>\n",
       "      <th>vacuum</th>\n",
       "      <th>ride</th>\n",
       "      <th>jeans</th>\n",
       "      <th>lamp</th>\n",
       "      <th>wake</th>\n",
       "      <th>hear</th>\n",
       "      <th>into</th>\n",
       "      <th>person</th>\n",
       "      <th>pencil</th>\n",
       "      <th>all</th>\n",
       "      <th>kitty</th>\n",
       "      <th>puppy</th>\n",
       "      <th>bedroom</th>\n",
       "      <th>mitten</th>\n",
       "      <th>helicopter</th>\n",
       "      <th>child</th>\n",
       "      <th>finger</th>\n",
       "      <th>kiss</th>\n",
       "      <th>close</th>\n",
       "      <th>room</th>\n",
       "      <th>sleep</th>\n",
       "      <th>jacket</th>\n",
       "      <th>cereal</th>\n",
       "      <th>chair</th>\n",
       "      <th>hide</th>\n",
       "      <th>tongue</th>\n",
       "      <th>yucky</th>\n",
       "      <th>sticky</th>\n",
       "      <th>look</th>\n",
       "      <th>sleepy</th>\n",
       "      <th>night</th>\n",
       "      <th>fish</th>\n",
       "      <th>on</th>\n",
       "      <th>open</th>\n",
       "      <th>dog</th>\n",
       "      <th>carrot</th>\n",
       "      <th>refrigerator</th>\n",
       "      <th>every</th>\n",
       "      <th>owie</th>\n",
       "      <th>hesheit</th>\n",
       "      <th>cloud</th>\n",
       "      <th>stay</th>\n",
       "      <th>zipper</th>\n",
       "      <th>hate</th>\n",
       "      <th>cheek</th>\n",
       "      <th>listen</th>\n",
       "      <th>scissors</th>\n",
       "      <th>car</th>\n",
       "      <th>boat</th>\n",
       "      <th>wet</th>\n",
       "      <th>can</th>\n",
       "      <th>jump</th>\n",
       "      <th>loud</th>\n",
       "      <th>chin</th>\n",
       "      <th>quiet</th>\n",
       "      <th>underwear</th>\n",
       "      <th>book</th>\n",
       "      <th>clean</th>\n",
       "      <th>backyard</th>\n",
       "      <th>tooth</th>\n",
       "      <th>drawer</th>\n",
       "      <th>dryer</th>\n",
       "      <th>napkin</th>\n",
       "      <th>penny</th>\n",
       "      <th>will</th>\n",
       "      <th>pizza</th>\n",
       "      <th>lips</th>\n",
       "      <th>fall</th>\n",
       "      <th>elephant</th>\n",
       "      <th>sun</th>\n",
       "      <th>haveto</th>\n",
       "      <th>pajamas</th>\n",
       "      <th>noisy</th>\n",
       "      <th>bee</th>\n",
       "      <th>alligator</th>\n",
       "      <th>cat</th>\n",
       "      <th>stairs</th>\n",
       "      <th>tree</th>\n",
       "      <th>grandma</th>\n",
       "      <th>pool</th>\n",
       "      <th>feet</th>\n",
       "      <th>animal</th>\n",
       "      <th>yes</th>\n",
       "      <th>drop</th>\n",
       "      <th>touch</th>\n",
       "      <th>any</th>\n",
       "      <th>that</th>\n",
       "      <th>read</th>\n",
       "      <th>cut</th>\n",
       "      <th>before</th>\n",
       "      <th>say</th>\n",
       "      <th>pretend</th>\n",
       "      <th>story</th>\n",
       "      <th>gift</th>\n",
       "      <th>garbage</th>\n",
       "      <th>have</th>\n",
       "      <th>fine</th>\n",
       "      <th>hen</th>\n",
       "      <th>empty</th>\n",
       "      <th>dance</th>\n",
       "      <th>outside</th>\n",
       "      <th>grass</th>\n",
       "      <th>another</th>\n",
       "      <th>finish</th>\n",
       "      <th>think</th>\n",
       "      <th>balloon</th>\n",
       "      <th>find</th>\n",
       "      <th>hello</th>\n",
       "      <th>morning</th>\n",
       "      <th>shirt</th>\n",
       "      <th>duck</th>\n",
       "      <th>weus</th>\n",
       "      <th>down</th>\n",
       "      <th>same</th>\n",
       "      <th>ear</th>\n",
       "      <th>farm</th>\n",
       "      <th>smile</th>\n",
       "      <th>bed</th>\n",
       "      <th>white</th>\n",
       "      <th>bad</th>\n",
       "      <th>wait</th>\n",
       "      <th>old</th>\n",
       "      <th>arm</th>\n",
       "      <th>rain</th>\n",
       "      <th>hair</th>\n",
       "      <th>blue</th>\n",
       "      <th>face</th>\n",
       "      <th>bath</th>\n",
       "      <th>red</th>\n",
       "      <th>man</th>\n",
       "      <th>table</th>\n",
       "      <th>happy</th>\n",
       "      <th>closet</th>\n",
       "      <th>why</th>\n",
       "      <th>flag</th>\n",
       "      <th>giraffe</th>\n",
       "      <th>pretty</th>\n",
       "      <th>yellow</th>\n",
       "      <th>like</th>\n",
       "      <th>bye</th>\n",
       "      <th>toy</th>\n",
       "      <th>zebra</th>\n",
       "      <th>many</th>\n",
       "      <th>girl</th>\n",
       "      <th>better</th>\n",
       "      <th>green</th>\n",
       "      <th>thankyou</th>\n",
       "      <th>time</th>\n",
       "      <th>cry</th>\n",
       "      <th>later</th>\n",
       "      <th>hot</th>\n",
       "      <th>make</th>\n",
       "      <th>snow</th>\n",
       "      <th>milk</th>\n",
       "      <th>potty</th>\n",
       "      <th>toothbrush</th>\n",
       "      <th>brother</th>\n",
       "      <th>blow</th>\n",
       "      <th>mouse</th>\n",
       "      <th>mom</th>\n",
       "      <th>talk</th>\n",
       "      <th>dry</th>\n",
       "      <th>not</th>\n",
       "      <th>hat</th>\n",
       "      <th>first</th>\n",
       "      <th>please</th>\n",
       "      <th>store</th>\n",
       "      <th>yourself</th>\n",
       "      <th>cowboy</th>\n",
       "      <th>sad</th>\n",
       "      <th>dirty</th>\n",
       "      <th>mad</th>\n",
       "      <th>up</th>\n",
       "      <th>minemy</th>\n",
       "      <th>shower</th>\n",
       "      <th>pig</th>\n",
       "      <th>thirsty</th>\n",
       "      <th>see</th>\n",
       "      <th>fireman</th>\n",
       "      <th>shoe</th>\n",
       "      <th>tomorrow</th>\n",
       "      <th>head</th>\n",
       "      <th>taste</th>\n",
       "      <th>police</th>\n",
       "      <th>TV</th>\n",
       "      <th>now</th>\n",
       "      <th>apple</th>\n",
       "      <th>grandpa</th>\n",
       "      <th>no</th>\n",
       "      <th>who</th>\n",
       "      <th>because</th>\n",
       "      <th>wolf</th>\n",
       "      <th>nuts</th>\n",
       "      <th>dad</th>\n",
       "      <th>yesterday</th>\n",
       "      <th>where</th>\n",
       "      <th>orange</th>\n",
       "      <th>frenchfries</th>\n",
       "      <th>moon</th>\n",
       "      <th>eye</th>\n",
       "      <th>boy</th>\n",
       "      <th>drink</th>\n",
       "      <th>for</th>\n",
       "      <th>food</th>\n",
       "      <th>hungry</th>\n",
       "      <th>home</th>\n",
       "      <th>aunt</th>\n",
       "      <th>sick</th>\n",
       "      <th>donkey</th>\n",
       "      <th>lion</th>\n",
       "      <th>cute</th>\n",
       "      <th>black</th>\n",
       "      <th>radio</th>\n",
       "      <th>stuck</th>\n",
       "      <th>icecream</th>\n",
       "      <th>if</th>\n",
       "      <th>high</th>\n",
       "      <th>bug</th>\n",
       "      <th>doll</th>\n",
       "      <th>cow</th>\n",
       "      <th>callonphone</th>\n",
       "      <th>frog</th>\n",
       "      <th>bird</th>\n",
       "      <th>chocolate</th>\n",
       "      <th>nose</th>\n",
       "      <th>clown</th>\n",
       "      <th>brown</th>\n",
       "      <th>airplane</th>\n",
       "      <th>tiger</th>\n",
       "      <th>owl</th>\n",
       "      <th>horse</th>\n",
       "      <th>gum</th>\n",
       "      <th>uncle</th>\n",
       "      <th>flower</th>\n",
       "      <th>water</th>\n",
       "      <th>shhh</th>\n",
       "    </tr>\n",
       "  </thead>\n",
       "  <tbody>\n",
       "    <tr>\n",
       "      <th>error</th>\n",
       "      <td>0.705234</td>\n",
       "      <td>0.687097</td>\n",
       "      <td>0.65896</td>\n",
       "      <td>0.614035</td>\n",
       "      <td>0.608247</td>\n",
       "      <td>0.59601</td>\n",
       "      <td>0.586294</td>\n",
       "      <td>0.559055</td>\n",
       "      <td>0.544757</td>\n",
       "      <td>0.533141</td>\n",
       "      <td>0.531969</td>\n",
       "      <td>0.523392</td>\n",
       "      <td>0.522099</td>\n",
       "      <td>0.515385</td>\n",
       "      <td>0.504886</td>\n",
       "      <td>0.495677</td>\n",
       "      <td>0.494764</td>\n",
       "      <td>0.494595</td>\n",
       "      <td>0.488778</td>\n",
       "      <td>0.48642</td>\n",
       "      <td>0.483516</td>\n",
       "      <td>0.480769</td>\n",
       "      <td>0.464286</td>\n",
       "      <td>0.463731</td>\n",
       "      <td>0.460154</td>\n",
       "      <td>0.459384</td>\n",
       "      <td>0.458763</td>\n",
       "      <td>0.456233</td>\n",
       "      <td>0.453826</td>\n",
       "      <td>0.451149</td>\n",
       "      <td>0.448549</td>\n",
       "      <td>0.444444</td>\n",
       "      <td>0.441176</td>\n",
       "      <td>0.44086</td>\n",
       "      <td>0.431579</td>\n",
       "      <td>0.428571</td>\n",
       "      <td>0.427441</td>\n",
       "      <td>0.42663</td>\n",
       "      <td>0.424242</td>\n",
       "      <td>0.42246</td>\n",
       "      <td>0.422164</td>\n",
       "      <td>0.421203</td>\n",
       "      <td>0.42029</td>\n",
       "      <td>0.419355</td>\n",
       "      <td>0.416667</td>\n",
       "      <td>0.415789</td>\n",
       "      <td>0.415761</td>\n",
       "      <td>0.409605</td>\n",
       "      <td>0.407895</td>\n",
       "      <td>0.404145</td>\n",
       "      <td>0.402204</td>\n",
       "      <td>0.399457</td>\n",
       "      <td>0.39726</td>\n",
       "      <td>0.392157</td>\n",
       "      <td>0.391534</td>\n",
       "      <td>0.390957</td>\n",
       "      <td>0.384615</td>\n",
       "      <td>0.377095</td>\n",
       "      <td>0.373333</td>\n",
       "      <td>0.368675</td>\n",
       "      <td>0.368564</td>\n",
       "      <td>0.368272</td>\n",
       "      <td>0.364865</td>\n",
       "      <td>0.363874</td>\n",
       "      <td>0.363388</td>\n",
       "      <td>0.360313</td>\n",
       "      <td>0.359897</td>\n",
       "      <td>0.358382</td>\n",
       "      <td>0.357542</td>\n",
       "      <td>0.356568</td>\n",
       "      <td>0.355978</td>\n",
       "      <td>0.35493</td>\n",
       "      <td>0.354839</td>\n",
       "      <td>0.351145</td>\n",
       "      <td>0.348525</td>\n",
       "      <td>0.346883</td>\n",
       "      <td>0.346734</td>\n",
       "      <td>0.346154</td>\n",
       "      <td>0.344173</td>\n",
       "      <td>0.343434</td>\n",
       "      <td>0.343284</td>\n",
       "      <td>0.340314</td>\n",
       "      <td>0.335079</td>\n",
       "      <td>0.33419</td>\n",
       "      <td>0.33046</td>\n",
       "      <td>0.329049</td>\n",
       "      <td>0.32687</td>\n",
       "      <td>0.326582</td>\n",
       "      <td>0.325641</td>\n",
       "      <td>0.325</td>\n",
       "      <td>0.324607</td>\n",
       "      <td>0.324607</td>\n",
       "      <td>0.324607</td>\n",
       "      <td>0.322314</td>\n",
       "      <td>0.319892</td>\n",
       "      <td>0.318966</td>\n",
       "      <td>0.318653</td>\n",
       "      <td>0.317416</td>\n",
       "      <td>0.317204</td>\n",
       "      <td>0.315493</td>\n",
       "      <td>0.314961</td>\n",
       "      <td>0.314917</td>\n",
       "      <td>0.314363</td>\n",
       "      <td>0.30791</td>\n",
       "      <td>0.30504</td>\n",
       "      <td>0.30198</td>\n",
       "      <td>0.300813</td>\n",
       "      <td>0.300254</td>\n",
       "      <td>0.299191</td>\n",
       "      <td>0.296736</td>\n",
       "      <td>0.294444</td>\n",
       "      <td>0.29443</td>\n",
       "      <td>0.290323</td>\n",
       "      <td>0.288462</td>\n",
       "      <td>0.284974</td>\n",
       "      <td>0.284974</td>\n",
       "      <td>0.283784</td>\n",
       "      <td>0.280928</td>\n",
       "      <td>0.280702</td>\n",
       "      <td>0.279898</td>\n",
       "      <td>0.279597</td>\n",
       "      <td>0.274359</td>\n",
       "      <td>0.274194</td>\n",
       "      <td>0.272727</td>\n",
       "      <td>0.271605</td>\n",
       "      <td>0.269542</td>\n",
       "      <td>0.269113</td>\n",
       "      <td>0.268421</td>\n",
       "      <td>0.264781</td>\n",
       "      <td>0.264484</td>\n",
       "      <td>0.263298</td>\n",
       "      <td>0.260623</td>\n",
       "      <td>0.259459</td>\n",
       "      <td>0.257979</td>\n",
       "      <td>0.257225</td>\n",
       "      <td>0.257069</td>\n",
       "      <td>0.254144</td>\n",
       "      <td>0.251969</td>\n",
       "      <td>0.251948</td>\n",
       "      <td>0.251381</td>\n",
       "      <td>0.251351</td>\n",
       "      <td>0.250712</td>\n",
       "      <td>0.25066</td>\n",
       "      <td>0.247449</td>\n",
       "      <td>0.246291</td>\n",
       "      <td>0.240106</td>\n",
       "      <td>0.239186</td>\n",
       "      <td>0.239011</td>\n",
       "      <td>0.235751</td>\n",
       "      <td>0.235602</td>\n",
       "      <td>0.234694</td>\n",
       "      <td>0.234375</td>\n",
       "      <td>0.234043</td>\n",
       "      <td>0.233831</td>\n",
       "      <td>0.232804</td>\n",
       "      <td>0.232</td>\n",
       "      <td>0.230769</td>\n",
       "      <td>0.230159</td>\n",
       "      <td>0.228723</td>\n",
       "      <td>0.227749</td>\n",
       "      <td>0.22409</td>\n",
       "      <td>0.22314</td>\n",
       "      <td>0.223077</td>\n",
       "      <td>0.222812</td>\n",
       "      <td>0.221932</td>\n",
       "      <td>0.221106</td>\n",
       "      <td>0.217617</td>\n",
       "      <td>0.217507</td>\n",
       "      <td>0.216524</td>\n",
       "      <td>0.211443</td>\n",
       "      <td>0.210127</td>\n",
       "      <td>0.209719</td>\n",
       "      <td>0.208333</td>\n",
       "      <td>0.207595</td>\n",
       "      <td>0.203046</td>\n",
       "      <td>0.202046</td>\n",
       "      <td>0.201592</td>\n",
       "      <td>0.19883</td>\n",
       "      <td>0.198492</td>\n",
       "      <td>0.197917</td>\n",
       "      <td>0.195187</td>\n",
       "      <td>0.194805</td>\n",
       "      <td>0.190476</td>\n",
       "      <td>0.189258</td>\n",
       "      <td>0.189041</td>\n",
       "      <td>0.188776</td>\n",
       "      <td>0.187817</td>\n",
       "      <td>0.18617</td>\n",
       "      <td>0.185484</td>\n",
       "      <td>0.184783</td>\n",
       "      <td>0.180556</td>\n",
       "      <td>0.177835</td>\n",
       "      <td>0.176617</td>\n",
       "      <td>0.175824</td>\n",
       "      <td>0.17268</td>\n",
       "      <td>0.170984</td>\n",
       "      <td>0.168367</td>\n",
       "      <td>0.167526</td>\n",
       "      <td>0.166234</td>\n",
       "      <td>0.162602</td>\n",
       "      <td>0.161804</td>\n",
       "      <td>0.160207</td>\n",
       "      <td>0.159459</td>\n",
       "      <td>0.158809</td>\n",
       "      <td>0.156962</td>\n",
       "      <td>0.154639</td>\n",
       "      <td>0.154229</td>\n",
       "      <td>0.153439</td>\n",
       "      <td>0.153266</td>\n",
       "      <td>0.153226</td>\n",
       "      <td>0.151282</td>\n",
       "      <td>0.145833</td>\n",
       "      <td>0.142105</td>\n",
       "      <td>0.141772</td>\n",
       "      <td>0.141361</td>\n",
       "      <td>0.14</td>\n",
       "      <td>0.135417</td>\n",
       "      <td>0.135204</td>\n",
       "      <td>0.135065</td>\n",
       "      <td>0.134177</td>\n",
       "      <td>0.132992</td>\n",
       "      <td>0.128947</td>\n",
       "      <td>0.126829</td>\n",
       "      <td>0.125</td>\n",
       "      <td>0.123037</td>\n",
       "      <td>0.118557</td>\n",
       "      <td>0.116279</td>\n",
       "      <td>0.115607</td>\n",
       "      <td>0.115578</td>\n",
       "      <td>0.114754</td>\n",
       "      <td>0.114667</td>\n",
       "      <td>0.111111</td>\n",
       "      <td>0.1075</td>\n",
       "      <td>0.106436</td>\n",
       "      <td>0.101299</td>\n",
       "      <td>0.10101</td>\n",
       "      <td>0.09901</td>\n",
       "      <td>0.098446</td>\n",
       "      <td>0.096859</td>\n",
       "      <td>0.095361</td>\n",
       "      <td>0.094293</td>\n",
       "      <td>0.094148</td>\n",
       "      <td>0.093909</td>\n",
       "      <td>0.093434</td>\n",
       "      <td>0.089514</td>\n",
       "      <td>0.076923</td>\n",
       "      <td>0.076543</td>\n",
       "      <td>0.068182</td>\n",
       "      <td>0.065104</td>\n",
       "      <td>0.051095</td>\n",
       "    </tr>\n",
       "  </tbody>\n",
       "</table>\n",
       "</div>"
      ],
      "text/plain": [
       "sign      there    beside     give       pen        go    awake     goose  \\\n",
       "error  0.705234  0.687097  0.65896  0.614035  0.608247  0.59601  0.586294   \n",
       "\n",
       "sign      snack       nap     after     mouth    puzzle      fast  \\\n",
       "error  0.559055  0.544757  0.533141  0.531969  0.523392  0.522099   \n",
       "\n",
       "sign   glasswindow    vacuum      ride     jeans      lamp      wake     hear  \\\n",
       "error     0.515385  0.504886  0.495677  0.494764  0.494595  0.488778  0.48642   \n",
       "\n",
       "sign       into    person    pencil       all     kitty     puppy   bedroom  \\\n",
       "error  0.483516  0.480769  0.464286  0.463731  0.460154  0.459384  0.458763   \n",
       "\n",
       "sign     mitten  helicopter     child    finger      kiss     close     room  \\\n",
       "error  0.456233    0.453826  0.451149  0.448549  0.444444  0.441176  0.44086   \n",
       "\n",
       "sign      sleep    jacket    cereal    chair      hide   tongue     yucky  \\\n",
       "error  0.431579  0.428571  0.427441  0.42663  0.424242  0.42246  0.422164   \n",
       "\n",
       "sign     sticky     look    sleepy     night      fish        on      open  \\\n",
       "error  0.421203  0.42029  0.419355  0.416667  0.415789  0.415761  0.409605   \n",
       "\n",
       "sign        dog    carrot  refrigerator     every     owie   hesheit  \\\n",
       "error  0.407895  0.404145      0.402204  0.399457  0.39726  0.392157   \n",
       "\n",
       "sign      cloud      stay    zipper      hate     cheek    listen  scissors  \\\n",
       "error  0.391534  0.390957  0.384615  0.377095  0.373333  0.368675  0.368564   \n",
       "\n",
       "sign        car      boat       wet       can      jump      loud      chin  \\\n",
       "error  0.368272  0.364865  0.363874  0.363388  0.360313  0.359897  0.358382   \n",
       "\n",
       "sign      quiet  underwear      book    clean  backyard     tooth    drawer  \\\n",
       "error  0.357542   0.356568  0.355978  0.35493  0.354839  0.351145  0.348525   \n",
       "\n",
       "sign      dryer    napkin     penny      will     pizza      lips      fall  \\\n",
       "error  0.346883  0.346734  0.346154  0.344173  0.343434  0.343284  0.340314   \n",
       "\n",
       "sign   elephant      sun   haveto   pajamas    noisy       bee  alligator  \\\n",
       "error  0.335079  0.33419  0.33046  0.329049  0.32687  0.326582   0.325641   \n",
       "\n",
       "sign     cat    stairs      tree   grandma      pool      feet    animal  \\\n",
       "error  0.325  0.324607  0.324607  0.324607  0.322314  0.319892  0.318966   \n",
       "\n",
       "sign        yes      drop     touch       any      that      read       cut  \\\n",
       "error  0.318653  0.317416  0.317204  0.315493  0.314961  0.314917  0.314363   \n",
       "\n",
       "sign    before      say  pretend     story      gift   garbage      have  \\\n",
       "error  0.30791  0.30504  0.30198  0.300813  0.300254  0.299191  0.296736   \n",
       "\n",
       "sign       fine      hen     empty     dance   outside     grass   another  \\\n",
       "error  0.294444  0.29443  0.290323  0.288462  0.284974  0.284974  0.283784   \n",
       "\n",
       "sign     finish     think   balloon      find     hello   morning     shirt  \\\n",
       "error  0.280928  0.280702  0.279898  0.279597  0.274359  0.274194  0.272727   \n",
       "\n",
       "sign       duck      weus      down      same       ear      farm     smile  \\\n",
       "error  0.271605  0.269542  0.269113  0.268421  0.264781  0.264484  0.263298   \n",
       "\n",
       "sign        bed     white       bad      wait       old       arm      rain  \\\n",
       "error  0.260623  0.259459  0.257979  0.257225  0.257069  0.254144  0.251969   \n",
       "\n",
       "sign       hair      blue      face      bath      red       man     table  \\\n",
       "error  0.251948  0.251381  0.251351  0.250712  0.25066  0.247449  0.246291   \n",
       "\n",
       "sign      happy    closet       why      flag   giraffe    pretty    yellow  \\\n",
       "error  0.240106  0.239186  0.239011  0.235751  0.235602  0.234694  0.234375   \n",
       "\n",
       "sign       like       bye       toy  zebra      many      girl    better  \\\n",
       "error  0.234043  0.233831  0.232804  0.232  0.230769  0.230159  0.228723   \n",
       "\n",
       "sign      green  thankyou     time       cry     later       hot      make  \\\n",
       "error  0.227749   0.22409  0.22314  0.223077  0.222812  0.221932  0.221106   \n",
       "\n",
       "sign       snow      milk     potty  toothbrush   brother      blow     mouse  \\\n",
       "error  0.217617  0.217507  0.216524    0.211443  0.210127  0.209719  0.208333   \n",
       "\n",
       "sign        mom      talk       dry       not      hat     first    please  \\\n",
       "error  0.207595  0.203046  0.202046  0.201592  0.19883  0.198492  0.197917   \n",
       "\n",
       "sign      store  yourself    cowboy       sad     dirty       mad        up  \\\n",
       "error  0.195187  0.194805  0.190476  0.189258  0.189041  0.188776  0.187817   \n",
       "\n",
       "sign    minemy    shower       pig   thirsty       see   fireman      shoe  \\\n",
       "error  0.18617  0.185484  0.184783  0.180556  0.177835  0.176617  0.175824   \n",
       "\n",
       "sign   tomorrow      head     taste    police        TV       now     apple  \\\n",
       "error   0.17268  0.170984  0.168367  0.167526  0.166234  0.162602  0.161804   \n",
       "\n",
       "sign    grandpa        no       who   because      wolf      nuts       dad  \\\n",
       "error  0.160207  0.159459  0.158809  0.156962  0.154639  0.154229  0.153439   \n",
       "\n",
       "sign   yesterday     where    orange  frenchfries      moon       eye  \\\n",
       "error   0.153266  0.153226  0.151282     0.145833  0.142105  0.141772   \n",
       "\n",
       "sign        boy  drink       for      food    hungry      home      aunt  \\\n",
       "error  0.141361   0.14  0.135417  0.135204  0.135065  0.134177  0.132992   \n",
       "\n",
       "sign       sick    donkey   lion      cute     black     radio     stuck  \\\n",
       "error  0.128947  0.126829  0.125  0.123037  0.118557  0.116279  0.115607   \n",
       "\n",
       "sign   icecream        if      high       bug    doll       cow  callonphone  \\\n",
       "error  0.115578  0.114754  0.114667  0.111111  0.1075  0.106436     0.101299   \n",
       "\n",
       "sign      frog     bird  chocolate      nose     clown     brown  airplane  \\\n",
       "error  0.10101  0.09901   0.098446  0.096859  0.095361  0.094293  0.094148   \n",
       "\n",
       "sign      tiger       owl     horse       gum     uncle    flower     water  \\\n",
       "error  0.093909  0.093434  0.089514  0.076923  0.076543  0.068182  0.065104   \n",
       "\n",
       "sign       shhh  \n",
       "error  0.051095  "
      ]
     },
     "execution_count": 17,
     "metadata": {},
     "output_type": "execute_result"
    }
   ],
   "source": [
    "dfg = df.groupby('sign').agg('mean')[['error']].sort_values('error', ascending=False).T\n",
    "dfg"
   ]
  },
  {
   "cell_type": "code",
   "execution_count": 18,
   "metadata": {},
   "outputs": [],
   "source": [
    "classes = json.load(open(DATA_PATH + \"sign_to_prediction_index_map.json\", \"r\"))\n",
    "classes = list(classes.keys())"
   ]
  },
  {
   "cell_type": "code",
   "execution_count": 19,
   "metadata": {},
   "outputs": [],
   "source": [
    "cm = confusion_matrix(df['target'], df['pred'], normalize=None)"
   ]
  },
  {
   "cell_type": "code",
   "execution_count": 20,
   "metadata": {},
   "outputs": [
    {
     "name": "stderr",
     "output_type": "stream",
     "text": [
      "100%|██████████| 250/250 [00:00<00:00, 4621.07it/s]"
     ]
    },
    {
     "name": "stdout",
     "output_type": "stream",
     "text": [
      "awake predicted as wake :        165 / 401\n",
      "duck predicted as goose :        60 / 405\n",
      "give predicted as gift :         78 / 346\n",
      "glasswindow predicted as tooth : 85 / 390\n",
      "goose predicted as duck :        113 / 394\n",
      "hear predicted as ear :          69 / 405\n",
      "hear predicted as listen :       59 / 405\n",
      "kiss predicted as home :         54 / 396\n",
      "kitty predicted as cat :         70 / 389\n",
      "lips predicted as mouth :        66 / 402\n",
      "listen predicted as hear :       80 / 415\n",
      "mouth predicted as lips :        124 / 391\n",
      "nap predicted as sleep :         84 / 391\n",
      "pen predicted as pencil :        118 / 399\n",
      "pencil predicted as pen :        90 / 392\n",
      "scissors predicted as cut :      61 / 369\n",
      "sleepy predicted as sleep :      73 / 403\n",
      "stay predicted as that :         58 / 376\n",
      "that predicted as stay :         67 / 381\n",
      "wake predicted as awake :        133 / 401\n"
     ]
    },
    {
     "name": "stderr",
     "output_type": "stream",
     "text": [
      "\n"
     ]
    }
   ],
   "source": [
    "for i in tqdm(range(len(classes))):  # gt\n",
    "    for j in range(len(classes)):\n",
    "        n = cm[i, j]\n",
    "        if n > 50 and i != j:\n",
    "            s = f\"{classes[i]} predicted as {classes[j]} :\".ljust(32)\n",
    "            print(f\"{s} {n} / {cm[i].sum()}\")"
   ]
  },
  {
   "cell_type": "code",
   "execution_count": 21,
   "metadata": {},
   "outputs": [],
   "source": [
    "# plt.figure(figsize=(50, 50))\n",
    "# plot_confusion_matrix(df['pred'], df['target'], display_labels=None)"
   ]
  },
  {
   "cell_type": "markdown",
   "metadata": {},
   "source": [
    "### Explo"
   ]
  },
  {
   "cell_type": "code",
   "execution_count": 22,
   "metadata": {},
   "outputs": [],
   "source": [
    "# path_to_glove_file = \"../input/glove/glove.6B.50d.txt\"\n",
    "\n",
    "# embeddings_index = {}\n",
    "# with open(path_to_glove_file, \"rb\") as f:\n",
    "#     for line in tqdm(f):\n",
    "#         word, coefs = line.split(maxsplit=1)\n",
    "#         coefs = np.fromstring(coefs, \"f\", sep=\" \")\n",
    "#         embeddings_index[word.decode(\"utf-8\")] = coefs\n",
    "\n",
    "# print(\"Found %s word vectors.\" % len(embeddings_index))"
   ]
  },
  {
   "cell_type": "code",
   "execution_count": 23,
   "metadata": {},
   "outputs": [],
   "source": [
    "# import spacy\n",
    "# nlp = spacy.load('en_core_web_md')\n",
    "\n",
    "# rep = {\n",
    "#     \"callonphone\": 'phonecall',\n",
    "#     \"frenchfries\": 'fries',\n",
    "#     \"glasswindow\": 'window',\n",
    "#     \"hesheit\": 'he',\n",
    "#     \"minemy\": 'my',\n",
    "#     \"weus\": 'we',\n",
    "#     \"haveto\": \"have\",\n",
    "#     \"owie\": \"bruise\",\n",
    "# }\n",
    "\n",
    "# embed = []\n",
    "# for c in tqdm(classes):\n",
    "#     c = rep.get(c, c)\n",
    "# #     vec = nlp(c).vector\n",
    "#     vec = embeddings_index[c.lower()]\n",
    "#     embed.append(vec)\n",
    "# embed = np.array(embed)\n",
    "\n",
    "# # np.save('../output/embed.npy', embed)"
   ]
  },
  {
   "cell_type": "code",
   "execution_count": 24,
   "metadata": {},
   "outputs": [],
   "source": [
    "# dists = np.sqrt((embed[:, None] - embed[None]) ** 2).mean(-1)\n",
    "\n",
    "# # dists = (embed[:, None] * embed[None]).sum(-1) / ((embed[None] ** 2).sum(-1) * (embed[:, None] ** 2).sum(-1))"
   ]
  },
  {
   "cell_type": "code",
   "execution_count": 25,
   "metadata": {},
   "outputs": [],
   "source": [
    "# for i in tqdm(range(len(classes))):  # gt\n",
    "#     order = np.argsort(dists[i])\n",
    "#     print(np.array(classes)[order[:5]])\n",
    "# #     break"
   ]
  },
  {
   "cell_type": "markdown",
   "metadata": {},
   "source": [
    "### Soup"
   ]
  },
  {
   "cell_type": "code",
   "execution_count": 26,
   "metadata": {},
   "outputs": [],
   "source": [
    "EXP_FOLDER = \"../logs/2023-04-06/10/\"  # 0.7134\n",
    "EXP_FOLDER = \"../logs/2023-04-06/22/\"  # 0.7126\n",
    "EXP_FOLDER = \"../logs/2023-04-06/25/\""
   ]
  },
  {
   "cell_type": "code",
   "execution_count": 27,
   "metadata": {},
   "outputs": [
    {
     "name": "stdout",
     "output_type": "stream",
     "text": [
      "-> CV acc : 0.7135\n"
     ]
    }
   ],
   "source": [
    "config = Config(json.load(open(EXP_FOLDER + \"config.json\", \"r\")))\n",
    "df = prepare_data(DATA_PATH, config.processed_folder)\n",
    "\n",
    "if \"fold\" not in df.columns:\n",
    "    folds = pd.read_csv(config.folds_file)\n",
    "    df = df.merge(folds, how=\"left\", on=[\"participant_id\", \"sequence_id\"])\n",
    "    \n",
    "try:\n",
    "    pred_oof = np.load(EXP_FOLDER + \"pred_oof.npy\")\n",
    "    df['pred'] = pred_oof.argmax(-1)\n",
    "\n",
    "    score = accuracy(df['target'], pred_oof)\n",
    "    print(f\"-> CV acc : {score:.4f}\")\n",
    "except:\n",
    "    df = df[df['fold'] == 0].reset_index(drop=True)\n",
    "    \n",
    "    pred_oof = np.load(EXP_FOLDER + \"pred_val_0.npy\")\n",
    "    df['pred'] = pred_oof.argmax(-1)\n",
    "\n",
    "    score = accuracy(df['target'], pred_oof)\n",
    "    print(f\"-> Fold 0 acc : {score:.4f}\")"
   ]
  },
  {
   "cell_type": "code",
   "execution_count": 28,
   "metadata": {},
   "outputs": [
    {
     "name": "stdout",
     "output_type": "stream",
     "text": [
      "\n",
      "- Fold 1\n",
      "\n",
      " -> Loading encoder weights from ../logs/2023-04-06/25/mlp_bert_3_0.pt\n",
      "\n"
     ]
    },
    {
     "name": "stderr",
     "output_type": "stream",
     "text": [
      "100%|██████████| 22/22 [00:38<00:00,  1.75s/it]\n"
     ]
    },
    {
     "name": "stdout",
     "output_type": "stream",
     "text": [
      "\n",
      " -> Accuracy : 0.6859\n",
      "\n",
      "- Fold 2\n",
      "\n",
      " -> Loading encoder weights from ../logs/2023-04-06/25/mlp_bert_3_1.pt\n",
      "\n"
     ]
    },
    {
     "name": "stderr",
     "output_type": "stream",
     "text": [
      "100%|██████████| 23/23 [00:37<00:00,  1.63s/it]\n"
     ]
    },
    {
     "name": "stdout",
     "output_type": "stream",
     "text": [
      "\n",
      " -> Accuracy : 0.7400\n",
      "\n",
      "- Fold 3\n",
      "\n",
      " -> Loading encoder weights from ../logs/2023-04-06/25/mlp_bert_3_2.pt\n",
      "\n"
     ]
    },
    {
     "name": "stderr",
     "output_type": "stream",
     "text": [
      "100%|██████████| 28/28 [00:51<00:00,  1.84s/it]\n"
     ]
    },
    {
     "name": "stdout",
     "output_type": "stream",
     "text": [
      "\n",
      " -> Accuracy : 0.7076\n",
      "\n",
      "- Fold 4\n",
      "\n",
      " -> Loading encoder weights from ../logs/2023-04-06/25/mlp_bert_3_3.pt\n",
      "\n"
     ]
    },
    {
     "name": "stderr",
     "output_type": "stream",
     "text": [
      "100%|██████████| 21/21 [00:45<00:00,  2.18s/it]\n"
     ]
    },
    {
     "name": "stdout",
     "output_type": "stream",
     "text": [
      "\n",
      " -> Accuracy : 0.7232\n",
      "\n",
      "\n",
      " -> CV Accuracy : 0.7138\n"
     ]
    }
   ],
   "source": [
    "pred_oof = kfold_inference_val(\n",
    "    df,\n",
    "    EXP_FOLDER,\n",
    "    debug=False,\n",
    "    save=False,\n",
    "    use_fp16=True,\n",
    ")"
   ]
  },
  {
   "cell_type": "code",
   "execution_count": 29,
   "metadata": {},
   "outputs": [],
   "source": [
    "# pred = (pred_oof + np.load(EXP_FOLDER + \"pred_val_0.npy\")) / 2\n",
    "# accuracy(df['target'], pred)\n",
    "\n",
    "# df_val['pred_flip'] = pred.argmax(-1)\n",
    "# df_val['error_flip'] = (df_val['pred_flip'] != df_val['target'])\n",
    "\n",
    "# dfg = df_val.groupby('sign')[[\"error\", \"error_flip\"]].mean()\n",
    "# dfg[\"delta\"] = dfg[\"error\"] - dfg[\"error_flip\"]\n",
    "\n",
    "# dfg.sort_values('delta').T\n",
    "\n",
    "# [classes.index(c) for c in dfg[dfg['delta'] < 0.01].index]\n",
    "\n",
    "# [classes.index(c) for c in dfg[dfg['delta'] < -0.05].index]"
   ]
  },
  {
   "cell_type": "markdown",
   "metadata": {},
   "source": [
    "## Inf train"
   ]
  },
  {
   "cell_type": "code",
   "execution_count": 30,
   "metadata": {},
   "outputs": [],
   "source": [
    "EXP_FOLDER = \"../logs/2023-04-11/27/\""
   ]
  },
  {
   "cell_type": "code",
   "execution_count": 31,
   "metadata": {},
   "outputs": [],
   "source": [
    "config = Config(json.load(open(EXP_FOLDER + \"config.json\", \"r\")))\n",
    "df = prepare_data(DATA_PATH, config.processed_folder)\n",
    "\n",
    "if \"fold\" not in df.columns:\n",
    "    folds = pd.read_csv(config.folds_file)\n",
    "    df = df.merge(folds, how=\"left\", on=[\"participant_id\", \"sequence_id\"])"
   ]
  },
  {
   "cell_type": "code",
   "execution_count": 33,
   "metadata": {},
   "outputs": [
    {
     "name": "stdout",
     "output_type": "stream",
     "text": [
      "\n",
      "- Fold 1\n",
      "\n",
      " -> Loading encoder weights from ../logs/2023-04-11/27/mlp_bert_3_0.pt\n",
      "\n"
     ]
    },
    {
     "name": "stderr",
     "output_type": "stream",
     "text": [
      "100%|██████████| 71/71 [00:39<00:00,  1.78it/s]\n"
     ]
    },
    {
     "name": "stdout",
     "output_type": "stream",
     "text": [
      "\n",
      " -> Accuracy : 0.8518\n",
      "\n",
      "- Fold 2\n",
      "\n",
      " -> Loading encoder weights from ../logs/2023-04-11/27/mlp_bert_3_1.pt\n",
      "\n"
     ]
    },
    {
     "name": "stderr",
     "output_type": "stream",
     "text": [
      "100%|██████████| 71/71 [01:11<00:00,  1.01s/it]\n"
     ]
    },
    {
     "name": "stdout",
     "output_type": "stream",
     "text": [
      "\n",
      " -> Accuracy : 0.8315\n",
      "\n",
      "- Fold 3\n",
      "\n",
      " -> Loading encoder weights from ../logs/2023-04-11/27/mlp_bert_3_2.pt\n",
      "\n"
     ]
    },
    {
     "name": "stderr",
     "output_type": "stream",
     "text": [
      "100%|██████████| 65/65 [01:16<00:00,  1.18s/it]\n"
     ]
    },
    {
     "name": "stdout",
     "output_type": "stream",
     "text": [
      "\n",
      " -> Accuracy : 0.8329\n",
      "\n",
      "- Fold 4\n",
      "\n",
      " -> Loading encoder weights from ../logs/2023-04-11/27/mlp_bert_3_3.pt\n",
      "\n"
     ]
    },
    {
     "name": "stderr",
     "output_type": "stream",
     "text": [
      "100%|██████████| 72/72 [01:37<00:00,  1.36s/it]\n"
     ]
    },
    {
     "name": "stdout",
     "output_type": "stream",
     "text": [
      "\n",
      " -> Accuracy : 0.8403\n",
      "\n",
      "\n",
      " -> CV Accuracy : 0.6305\n"
     ]
    }
   ],
   "source": [
    "pred_oof = kfold_inference_val(\n",
    "    df,\n",
    "    EXP_FOLDER,\n",
    "    debug=False,\n",
    "    save=False,\n",
    "    use_fp16=True,\n",
    "    train=True\n",
    ")"
   ]
  },
  {
   "cell_type": "code",
   "execution_count": 34,
   "metadata": {},
   "outputs": [],
   "source": [
    "np.save(EXP_FOLDER + \"pred_oof_train.npy\", pred_oof)"
   ]
  },
  {
   "cell_type": "markdown",
   "metadata": {},
   "source": [
    "#### Checks"
   ]
  },
  {
   "cell_type": "code",
   "execution_count": 40,
   "metadata": {},
   "outputs": [],
   "source": [
    "df['pred_0'] = pred_oof[0].argmax(-1)\n",
    "df_val = df[df['fold'] != 0].reset_index(drop=True)"
   ]
  },
  {
   "cell_type": "code",
   "execution_count": 44,
   "metadata": {},
   "outputs": [],
   "source": [
    "df_err = df_val[(df_val['target'] != df_val['pred_0'])].reset_index(drop=True)"
   ]
  },
  {
   "cell_type": "code",
   "execution_count": 48,
   "metadata": {},
   "outputs": [],
   "source": [
    "dataset = SignDataset(df_err, max_len=None, train=False)"
   ]
  },
  {
   "cell_type": "code",
   "execution_count": null,
   "metadata": {},
   "outputs": [],
   "source": [
    "for i in tqdm(range(len(dataset))):\n",
    "#     i = 92284\n",
    "    data = dataset[i]\n",
    "    \n",
    "#     for k in data.keys():\n",
    "#         print(k, data[k].size())\n",
    "    \n",
    "    print(df_err['sequence_id'][i], \"- pred :\", classes[df_err['pred_0'][i]], \" - truth :\", df_err['sign'][i])\n",
    "    plot_sample_with_edges(data, n_frames=4, figsize=(10, 10), show_text=False)\n",
    "\n",
    "    if i > 10:\n",
    "        break"
   ]
  },
  {
   "cell_type": "markdown",
   "metadata": {},
   "source": [
    "Done ! "
   ]
  }
 ],
 "metadata": {
  "kernelspec": {
   "display_name": "Python 3 (ipykernel)",
   "language": "python",
   "name": "python3"
  },
  "language_info": {
   "codemirror_mode": {
    "name": "ipython",
    "version": 3
   },
   "file_extension": ".py",
   "mimetype": "text/x-python",
   "name": "python",
   "nbconvert_exporter": "python",
   "pygments_lexer": "ipython3",
   "version": "3.8.10"
  }
 },
 "nbformat": 4,
 "nbformat_minor": 4
}
